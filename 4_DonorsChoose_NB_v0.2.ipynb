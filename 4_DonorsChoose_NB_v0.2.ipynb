{
 "cells": [
  {
   "cell_type": "markdown",
   "metadata": {
    "colab_type": "text",
    "id": "-Ab-X-IrCyl0"
   },
   "source": [
    "# DonorsChoose"
   ]
  },
  {
   "cell_type": "markdown",
   "metadata": {
    "colab_type": "text",
    "id": "etNpzy7rCyl2"
   },
   "source": [
    "<p>\n",
    "DonorsChoose.org receives hundreds of thousands of project proposals each year for classroom projects in need of funding. Right now, a large number of volunteers is needed to manually screen each submission before it's approved to be posted on the DonorsChoose.org website.\n",
    "</p>\n",
    "<p>\n",
    "    Next year, DonorsChoose.org expects to receive close to 500,000 project proposals. As a result, there are three main problems they need to solve:\n",
    "<ul>\n",
    "<li>\n",
    "    How to scale current manual processes and resources to screen 500,000 projects so that they can be posted as quickly and as efficiently as possible</li>\n",
    "    <li>How to increase the consistency of project vetting across different volunteers to improve the experience for teachers</li>\n",
    "    <li>How to focus volunteer time on the applications that need the most assistance</li>\n",
    "    </ul>\n",
    "</p>    \n",
    "<p>\n",
    "The goal of the competition is to predict whether or not a DonorsChoose.org project proposal submitted by a teacher will be approved, using the text of project descriptions as well as additional metadata about the project, teacher, and school. DonorsChoose.org can then use this information to identify projects most likely to need further review before approval.\n",
    "</p>"
   ]
  },
  {
   "cell_type": "markdown",
   "metadata": {
    "colab_type": "text",
    "id": "kO2Kg7TgCyl4"
   },
   "source": [
    "## About the DonorsChoose Data Set\n",
    "\n",
    "The `train.csv` data set provided by DonorsChoose contains the following features:\n",
    "\n",
    "Feature | Description \n",
    "----------|---------------\n",
    "**`project_id`** | A unique identifier for the proposed project. **Example:** `p036502`   \n",
    "**`project_title`**    | Title of the project. **Examples:**<br><ul><li><code>Art Will Make You Happy!</code></li><li><code>First Grade Fun</code></li></ul> \n",
    "**`project_grade_category`** | Grade level of students for which the project is targeted. One of the following enumerated values: <br/><ul><li><code>Grades PreK-2</code></li><li><code>Grades 3-5</code></li><li><code>Grades 6-8</code></li><li><code>Grades 9-12</code></li></ul>  \n",
    " **`project_subject_categories`** | One or more (comma-separated) subject categories for the project from the following enumerated list of values:  <br/><ul><li><code>Applied Learning</code></li><li><code>Care &amp; Hunger</code></li><li><code>Health &amp; Sports</code></li><li><code>History &amp; Civics</code></li><li><code>Literacy &amp; Language</code></li><li><code>Math &amp; Science</code></li><li><code>Music &amp; The Arts</code></li><li><code>Special Needs</code></li><li><code>Warmth</code></li></ul><br/> **Examples:** <br/><ul><li><code>Music &amp; The Arts</code></li><li><code>Literacy &amp; Language, Math &amp; Science</code></li>  \n",
    "  **`school_state`** | State where school is located ([Two-letter U.S. postal code](https://en.wikipedia.org/wiki/List_of_U.S._state_abbreviations#Postal_codes)). **Example:** `WY`\n",
    "**`project_subject_subcategories`** | One or more (comma-separated) subject subcategories for the project. **Examples:** <br/><ul><li><code>Literacy</code></li><li><code>Literature &amp; Writing, Social Sciences</code></li></ul> \n",
    "**`project_resource_summary`** | An explanation of the resources needed for the project. **Example:** <br/><ul><li><code>My students need hands on literacy materials to manage sensory needs!</code</li></ul> \n",
    "**`project_essay_1`**    | First application essay<sup>*</sup>  \n",
    "**`project_essay_2`**    | Second application essay<sup>*</sup> \n",
    "**`project_essay_3`**    | Third application essay<sup>*</sup> \n",
    "**`project_essay_4`**    | Fourth application essay<sup>*</sup> \n",
    "**`project_submitted_datetime`** | Datetime when project application was submitted. **Example:** `2016-04-28 12:43:56.245`   \n",
    "**`teacher_id`** | A unique identifier for the teacher of the proposed project. **Example:** `bdf8baa8fedef6bfeec7ae4ff1c15c56`  \n",
    "**`teacher_prefix`** | Teacher's title. One of the following enumerated values: <br/><ul><li><code>nan</code></li><li><code>Dr.</code></li><li><code>Mr.</code></li><li><code>Mrs.</code></li><li><code>Ms.</code></li><li><code>Teacher.</code></li></ul>  \n",
    "**`teacher_number_of_previously_posted_projects`** | Number of project applications previously submitted by the same teacher. **Example:** `2` \n",
    "\n",
    "<sup>*</sup> See the section <b>Notes on the Essay Data</b> for more details about these features.\n",
    "\n",
    "Additionally, the `resources.csv` data set provides more data about the resources required for each project. Each line in this file represents a resource required by a project:\n",
    "\n",
    "Feature | Description \n",
    "----------|---------------\n",
    "**`id`** | A `project_id` value from the `train.csv` file.  **Example:** `p036502`   \n",
    "**`description`** | Desciption of the resource. **Example:** `Tenor Saxophone Reeds, Box of 25`   \n",
    "**`quantity`** | Quantity of the resource required. **Example:** `3`   \n",
    "**`price`** | Price of the resource required. **Example:** `9.95`   \n",
    "\n",
    "**Note:** Many projects require multiple resources. The `id` value corresponds to a `project_id` in train.csv, so you use it as a key to retrieve all resources needed for a project:\n",
    "\n",
    "The data set contains the following label (the value you will attempt to predict):\n",
    "\n",
    "Label | Description\n",
    "----------|---------------\n",
    "`project_is_approved` | A binary flag indicating whether DonorsChoose approved the project. A value of `0` indicates the project was not approved, and a value of `1` indicates the project was approved."
   ]
  },
  {
   "cell_type": "markdown",
   "metadata": {
    "colab_type": "text",
    "id": "dBGA_YStCyl6"
   },
   "source": [
    "### Notes on the Essay Data\n",
    "\n",
    "<ul>\n",
    "Prior to May 17, 2016, the prompts for the essays were as follows:\n",
    "<li>__project_essay_1:__ \"Introduce us to your classroom\"</li>\n",
    "<li>__project_essay_2:__ \"Tell us more about your students\"</li>\n",
    "<li>__project_essay_3:__ \"Describe how your students will use the materials you're requesting\"</li>\n",
    "<li>__project_essay_3:__ \"Close by sharing why your project will make a difference\"</li>\n",
    "</ul>\n",
    "\n",
    "\n",
    "<ul>\n",
    "Starting on May 17, 2016, the number of essays was reduced from 4 to 2, and the prompts for the first 2 essays were changed to the following:<br>\n",
    "<li>__project_essay_1:__ \"Describe your students: What makes your students special? Specific details about their background, your neighborhood, and your school are all helpful.\"</li>\n",
    "<li>__project_essay_2:__ \"About your project: How will these materials make a difference in your students' learning and improve their school lives?\"</li>\n",
    "<br>For all projects with project_submitted_datetime of 2016-05-17 and later, the values of project_essay_3 and project_essay_4 will be NaN.\n",
    "</ul>\n"
   ]
  },
  {
   "cell_type": "code",
   "execution_count": 3,
   "metadata": {
    "colab": {
     "base_uri": "https://localhost:8080/",
     "height": 122
    },
    "colab_type": "code",
    "id": "dElwbPa1NkCj",
    "outputId": "c687e1e4-5af5-42e1-d9f4-ba01c0dd9dab"
   },
   "outputs": [
    {
     "name": "stdout",
     "output_type": "stream",
     "text": [
      "Go to this URL in a browser: https://accounts.google.com/o/oauth2/auth?client_id=947318989803-6bn6qk8qdgf4n4g3pfee6491hc0brc4i.apps.googleusercontent.com&redirect_uri=urn%3Aietf%3Awg%3Aoauth%3A2.0%3Aoob&scope=email%20https%3A%2F%2Fwww.googleapis.com%2Fauth%2Fdocs.test%20https%3A%2F%2Fwww.googleapis.com%2Fauth%2Fdrive%20https%3A%2F%2Fwww.googleapis.com%2Fauth%2Fdrive.photos.readonly%20https%3A%2F%2Fwww.googleapis.com%2Fauth%2Fpeopleapi.readonly&response_type=code\n",
      "\n",
      "Enter your authorization code:\n",
      "··········\n",
      "Mounted at /content/drive\n"
     ]
    }
   ],
   "source": [
    "from google.colab import drive\n",
    "drive.mount('/content/drive')"
   ]
  },
  {
   "cell_type": "code",
   "execution_count": 4,
   "metadata": {
    "colab": {
     "base_uri": "https://localhost:8080/",
     "height": 34
    },
    "colab_type": "code",
    "id": "O2wsiCVxRtay",
    "outputId": "73b7c4a9-e08d-4b19-fe7e-c65f8c37858d"
   },
   "outputs": [
    {
     "name": "stdout",
     "output_type": "stream",
     "text": [
      "'drive/My Drive/data/train_data.csv'\n"
     ]
    }
   ],
   "source": [
    "!ls drive/'My Drive'/data/train_data.csv"
   ]
  },
  {
   "cell_type": "code",
   "execution_count": 0,
   "metadata": {
    "colab": {},
    "colab_type": "code",
    "id": "XTrCJ5p9Cyl7"
   },
   "outputs": [],
   "source": [
    "%matplotlib inline\n",
    "import warnings\n",
    "warnings.filterwarnings(\"ignore\")\n",
    "\n",
    "import pandas as pd\n",
    "import numpy as np\n",
    "import string\n",
    "import matplotlib.pyplot as plt\n",
    "import seaborn as sns\n",
    "from sklearn.feature_extraction.text import TfidfTransformer\n",
    "from sklearn.feature_extraction.text import TfidfVectorizer\n",
    "\n",
    "from sklearn.feature_extraction.text import CountVectorizer\n",
    "from sklearn.metrics import confusion_matrix\n",
    "from sklearn import metrics\n",
    "from sklearn.metrics import roc_curve, auc\n",
    "\n",
    "\n",
    "import re\n",
    "# Tutorial about Python regular expressions: https://pymotw.com/2/re/\n",
    "import string\n",
    "\n",
    "\n",
    "from gensim.models import Word2Vec\n",
    "from gensim.models import KeyedVectors\n",
    "import pickle\n",
    "\n",
    "from tqdm import tqdm\n",
    "import os\n",
    "\n",
    "\n",
    "from collections import Counter"
   ]
  },
  {
   "cell_type": "markdown",
   "metadata": {
    "colab_type": "text",
    "id": "MjknLZQqCymQ"
   },
   "source": [
    "## 1.1 Reading Data"
   ]
  },
  {
   "cell_type": "code",
   "execution_count": 0,
   "metadata": {
    "colab": {},
    "colab_type": "code",
    "id": "abtcqBS8CymT"
   },
   "outputs": [],
   "source": [
    "project_data = pd.read_csv('drive/My Drive/data/train_data.csv')\n",
    "resource_data = pd.read_csv('drive/My Drive/data/resources.csv')"
   ]
  },
  {
   "cell_type": "code",
   "execution_count": 7,
   "metadata": {
    "colab": {
     "base_uri": "https://localhost:8080/",
     "height": 153
    },
    "colab_type": "code",
    "id": "Prf2ghjDCymX",
    "outputId": "1fa9b2b2-4b94-48af-9242-ce2eddc784a5"
   },
   "outputs": [
    {
     "name": "stdout",
     "output_type": "stream",
     "text": [
      "Number of data points in train data (109248, 17)\n",
      "--------------------------------------------------\n",
      "The attributes of data : ['Unnamed: 0' 'id' 'teacher_id' 'teacher_prefix' 'school_state'\n",
      " 'project_submitted_datetime' 'project_grade_category'\n",
      " 'project_subject_categories' 'project_subject_subcategories'\n",
      " 'project_title' 'project_essay_1' 'project_essay_2' 'project_essay_3'\n",
      " 'project_essay_4' 'project_resource_summary'\n",
      " 'teacher_number_of_previously_posted_projects' 'project_is_approved']\n"
     ]
    }
   ],
   "source": [
    "print(\"Number of data points in train data\", project_data.shape)\n",
    "print('-'*50)\n",
    "print(\"The attributes of data :\", project_data.columns.values)"
   ]
  },
  {
   "cell_type": "code",
   "execution_count": 8,
   "metadata": {
    "colab": {
     "base_uri": "https://localhost:8080/",
     "height": 323
    },
    "colab_type": "code",
    "id": "-sn3gXsML5Jq",
    "outputId": "744081aa-7391-49a6-cb3e-6003ef64ce00"
   },
   "outputs": [
    {
     "name": "stdout",
     "output_type": "stream",
     "text": [
      "The Columns with their nan values counts are below \n",
      "Unnamed: 0  0\n",
      "id  0\n",
      "teacher_id  0\n",
      "teacher_prefix  3\n",
      "school_state  0\n",
      "project_submitted_datetime  0\n",
      "project_grade_category  0\n",
      "project_subject_categories  0\n",
      "project_subject_subcategories  0\n",
      "project_title  0\n",
      "project_essay_1  0\n",
      "project_essay_2  0\n",
      "project_essay_3  105490\n",
      "project_essay_4  105490\n",
      "project_resource_summary  0\n",
      "teacher_number_of_previously_posted_projects  0\n",
      "project_is_approved  0\n"
     ]
    }
   ],
   "source": [
    "print('The Columns with their nan values counts are below ')\n",
    "for col in project_data.columns:\n",
    "    print('{col} '.format(col=col),project_data[col].isnull().sum())"
   ]
  },
  {
   "cell_type": "code",
   "execution_count": 0,
   "metadata": {
    "colab": {},
    "colab_type": "code",
    "id": "QVfbXGM1L5Jt"
   },
   "outputs": [],
   "source": [
    "# removing 3 nan values from teacher prefix column as they seems to be outliers\n",
    "# DataFrame.dropna(axis=0, how='any', thresh=None, subset=None, inplace=False)\n",
    "project_data.dropna(subset=['teacher_prefix'],inplace=True)"
   ]
  },
  {
   "cell_type": "code",
   "execution_count": 10,
   "metadata": {
    "colab": {
     "base_uri": "https://localhost:8080/",
     "height": 233
    },
    "colab_type": "code",
    "id": "BTGMDQoPCymc",
    "outputId": "c22ca8ed-c121-4f26-9c4c-199cb0ff9c48"
   },
   "outputs": [
    {
     "data": {
      "text/html": [
       "<div>\n",
       "<style scoped>\n",
       "    .dataframe tbody tr th:only-of-type {\n",
       "        vertical-align: middle;\n",
       "    }\n",
       "\n",
       "    .dataframe tbody tr th {\n",
       "        vertical-align: top;\n",
       "    }\n",
       "\n",
       "    .dataframe thead th {\n",
       "        text-align: right;\n",
       "    }\n",
       "</style>\n",
       "<table border=\"1\" class=\"dataframe\">\n",
       "  <thead>\n",
       "    <tr style=\"text-align: right;\">\n",
       "      <th></th>\n",
       "      <th>Unnamed: 0</th>\n",
       "      <th>id</th>\n",
       "      <th>teacher_id</th>\n",
       "      <th>teacher_prefix</th>\n",
       "      <th>school_state</th>\n",
       "      <th>Date</th>\n",
       "      <th>project_grade_category</th>\n",
       "      <th>project_subject_categories</th>\n",
       "      <th>project_subject_subcategories</th>\n",
       "      <th>project_title</th>\n",
       "      <th>project_essay_1</th>\n",
       "      <th>project_essay_2</th>\n",
       "      <th>project_essay_3</th>\n",
       "      <th>project_essay_4</th>\n",
       "      <th>project_resource_summary</th>\n",
       "      <th>teacher_number_of_previously_posted_projects</th>\n",
       "      <th>project_is_approved</th>\n",
       "    </tr>\n",
       "  </thead>\n",
       "  <tbody>\n",
       "    <tr>\n",
       "      <th>55660</th>\n",
       "      <td>8393</td>\n",
       "      <td>p205479</td>\n",
       "      <td>2bf07ba08945e5d8b2a3f269b2b3cfe5</td>\n",
       "      <td>Mrs.</td>\n",
       "      <td>CA</td>\n",
       "      <td>2016-04-27 00:27:36</td>\n",
       "      <td>Grades PreK-2</td>\n",
       "      <td>Math &amp; Science</td>\n",
       "      <td>Applied Sciences, Health &amp; Life Science</td>\n",
       "      <td>Engineering STEAM into the Primary Classroom</td>\n",
       "      <td>I have been fortunate enough to use the Fairy ...</td>\n",
       "      <td>My students come from a variety of backgrounds...</td>\n",
       "      <td>Each month I try to do several science or STEM...</td>\n",
       "      <td>It is challenging to develop high quality scie...</td>\n",
       "      <td>My students need STEM kits to learn critical s...</td>\n",
       "      <td>53</td>\n",
       "      <td>1</td>\n",
       "    </tr>\n",
       "    <tr>\n",
       "      <th>76127</th>\n",
       "      <td>37728</td>\n",
       "      <td>p043609</td>\n",
       "      <td>3f60494c61921b3b43ab61bdde2904df</td>\n",
       "      <td>Ms.</td>\n",
       "      <td>UT</td>\n",
       "      <td>2016-04-27 00:31:25</td>\n",
       "      <td>Grades 3-5</td>\n",
       "      <td>Special Needs</td>\n",
       "      <td>Special Needs</td>\n",
       "      <td>Sensory Tools for Focus</td>\n",
       "      <td>Imagine being 8-9 years old. You're in your th...</td>\n",
       "      <td>Most of my students have autism, anxiety, anot...</td>\n",
       "      <td>It is tough to do more than one thing at a tim...</td>\n",
       "      <td>When my students are able to calm themselves d...</td>\n",
       "      <td>My students need Boogie Boards for quiet senso...</td>\n",
       "      <td>4</td>\n",
       "      <td>1</td>\n",
       "    </tr>\n",
       "  </tbody>\n",
       "</table>\n",
       "</div>"
      ],
      "text/plain": [
       "       Unnamed: 0  ... project_is_approved\n",
       "55660        8393  ...                   1\n",
       "76127       37728  ...                   1\n",
       "\n",
       "[2 rows x 17 columns]"
      ]
     },
     "execution_count": 10,
     "metadata": {
      "tags": []
     },
     "output_type": "execute_result"
    }
   ],
   "source": [
    "#how to replace elements in list python: https://stackoverflow.com/a/2582163/4084039\n",
    "cols = ['Date' if x=='project_submitted_datetime' else x for x in list(project_data.columns)]\n",
    "\n",
    "\n",
    "#sort dataframe based on time pandas python: https://stackoverflow.com/a/49702492/4084039\n",
    "project_data['Date'] = pd.to_datetime(project_data['project_submitted_datetime'])\n",
    "project_data.drop('project_submitted_datetime', axis=1, inplace=True)\n",
    "project_data.sort_values(by=['Date'], inplace=True)\n",
    "\n",
    "\n",
    "# how to reorder columns pandas python: https://stackoverflow.com/a/13148611/4084039\n",
    "project_data = project_data[cols]\n",
    "\n",
    "\n",
    "project_data.head(2)"
   ]
  },
  {
   "cell_type": "code",
   "execution_count": 11,
   "metadata": {
    "colab": {
     "base_uri": "https://localhost:8080/",
     "height": 145
    },
    "colab_type": "code",
    "id": "ntdWuRoUCymj",
    "outputId": "9550f4f4-5f27-4208-dd8a-7434f3f17bed"
   },
   "outputs": [
    {
     "name": "stdout",
     "output_type": "stream",
     "text": [
      "Number of data points in train data (1541272, 4)\n",
      "['id' 'description' 'quantity' 'price']\n"
     ]
    },
    {
     "data": {
      "text/html": [
       "<div>\n",
       "<style scoped>\n",
       "    .dataframe tbody tr th:only-of-type {\n",
       "        vertical-align: middle;\n",
       "    }\n",
       "\n",
       "    .dataframe tbody tr th {\n",
       "        vertical-align: top;\n",
       "    }\n",
       "\n",
       "    .dataframe thead th {\n",
       "        text-align: right;\n",
       "    }\n",
       "</style>\n",
       "<table border=\"1\" class=\"dataframe\">\n",
       "  <thead>\n",
       "    <tr style=\"text-align: right;\">\n",
       "      <th></th>\n",
       "      <th>id</th>\n",
       "      <th>description</th>\n",
       "      <th>quantity</th>\n",
       "      <th>price</th>\n",
       "    </tr>\n",
       "  </thead>\n",
       "  <tbody>\n",
       "    <tr>\n",
       "      <th>0</th>\n",
       "      <td>p233245</td>\n",
       "      <td>LC652 - Lakeshore Double-Space Mobile Drying Rack</td>\n",
       "      <td>1</td>\n",
       "      <td>149.00</td>\n",
       "    </tr>\n",
       "    <tr>\n",
       "      <th>1</th>\n",
       "      <td>p069063</td>\n",
       "      <td>Bouncy Bands for Desks (Blue support pipes)</td>\n",
       "      <td>3</td>\n",
       "      <td>14.95</td>\n",
       "    </tr>\n",
       "  </tbody>\n",
       "</table>\n",
       "</div>"
      ],
      "text/plain": [
       "        id                                        description  quantity   price\n",
       "0  p233245  LC652 - Lakeshore Double-Space Mobile Drying Rack         1  149.00\n",
       "1  p069063        Bouncy Bands for Desks (Blue support pipes)         3   14.95"
      ]
     },
     "execution_count": 11,
     "metadata": {
      "tags": []
     },
     "output_type": "execute_result"
    }
   ],
   "source": [
    "print(\"Number of data points in train data\", resource_data.shape)\n",
    "print(resource_data.columns.values)\n",
    "resource_data.head(2)"
   ]
  },
  {
   "cell_type": "markdown",
   "metadata": {
    "colab_type": "text",
    "id": "6WZaYhwJCymp"
   },
   "source": [
    "## 1.2 preprocessing of `project_subject_categories`"
   ]
  },
  {
   "cell_type": "code",
   "execution_count": 0,
   "metadata": {
    "colab": {},
    "colab_type": "code",
    "id": "Mdkhq7PRCymr"
   },
   "outputs": [],
   "source": [
    "catogories = list(project_data['project_subject_categories'].values)\n",
    "# remove special characters from list of strings python: https://stackoverflow.com/a/47301924/4084039\n",
    "\n",
    "# https://www.geeksforgeeks.org/removing-stop-words-nltk-python/\n",
    "# https://stackoverflow.com/questions/23669024/how-to-strip-a-specific-word-from-a-string\n",
    "# https://stackoverflow.com/questions/8270092/remove-all-whitespace-in-a-string-in-python\n",
    "cat_list = []\n",
    "for i in catogories:\n",
    "    temp = \"\"\n",
    "    # consider we have text like this \"Math & Science, Warmth, Care & Hunger\"\n",
    "    for j in i.split(','): # it will split it in three parts [\"Math & Science\", \"Warmth\", \"Care & Hunger\"]\n",
    "        if 'The' in j.split(): # this will split each of the catogory based on space \"Math & Science\"=> \"Math\",\"&\", \"Science\"\n",
    "            j=j.replace('The','') # if we have the words \"The\" we are going to replace it with ''(i.e removing 'The')\n",
    "        j = j.replace(' ','') # we are placeing all the ' '(space) with ''(empty) ex:\"Math & Science\"=>\"Math&Science\"\n",
    "        temp+=j.strip()+\" \" #\" abc \".strip() will return \"abc\", remove the trailing spaces\n",
    "        temp = temp.replace('&','_') # we are replacing the & value into \n",
    "    cat_list.append(temp.strip())\n",
    "    \n",
    "project_data['clean_categories'] = cat_list\n",
    "project_data.drop(['project_subject_categories'], axis=1, inplace=True) #0 for index and 1 for columns\n",
    "\n",
    "#counting the occurence of word\n",
    "\n",
    "from collections import Counter\n",
    "my_counter = Counter()\n",
    "for word in project_data['clean_categories'].values:\n",
    "    my_counter.update(word.split())\n",
    "\n",
    "cat_dict = dict(my_counter)\n",
    "sorted_cat_dict = dict(sorted(cat_dict.items(), key=lambda kv: kv[1]))\n"
   ]
  },
  {
   "cell_type": "code",
   "execution_count": 13,
   "metadata": {
    "colab": {
     "base_uri": "https://localhost:8080/",
     "height": 54
    },
    "colab_type": "code",
    "id": "RNOEr6GiL5J4",
    "outputId": "ae7605e6-acf9-4c85-b4b3-5b4588a81376"
   },
   "outputs": [
    {
     "data": {
      "text/plain": [
       "dict_items([('Math_Science', 41419), ('SpecialNeeds', 13642), ('Literacy_Language', 52236), ('AppliedLearning', 12135), ('History_Civics', 5914), ('Music_Arts', 10293), ('Health_Sports', 14223), ('Warmth', 1388), ('Care_Hunger', 1388)])"
      ]
     },
     "execution_count": 13,
     "metadata": {
      "tags": []
     },
     "output_type": "execute_result"
    }
   ],
   "source": [
    "# checking the items present category list\n",
    "cat_dict.items()"
   ]
  },
  {
   "cell_type": "markdown",
   "metadata": {
    "colab_type": "text",
    "id": "386yx3T2Cymv"
   },
   "source": [
    "## 1.3 preprocessing of `project_subject_subcategories`"
   ]
  },
  {
   "cell_type": "code",
   "execution_count": 0,
   "metadata": {
    "colab": {},
    "colab_type": "code",
    "id": "4QSP0r8XCymw"
   },
   "outputs": [],
   "source": [
    "sub_catogories = list(project_data['project_subject_subcategories'].values)\n",
    "# remove special characters from list of strings python: https://stackoverflow.com/a/47301924/4084039\n",
    "\n",
    "# https://www.geeksforgeeks.org/removing-stop-words-nltk-python/\n",
    "# https://stackoverflow.com/questions/23669024/how-to-strip-a-specific-word-from-a-string\n",
    "# https://stackoverflow.com/questions/8270092/remove-all-whitespace-in-a-string-in-python\n",
    "\n",
    "sub_cat_list = []\n",
    "for i in sub_catogories:\n",
    "    temp = \"\"\n",
    "    # consider we have text like this \"Math & Science, Warmth, Care & Hunger\"\n",
    "    for j in i.split(','): # it will split it in three parts [\"Math & Science\", \"Warmth\", \"Care & Hunger\"]\n",
    "        if 'The' in j.split(): # this will split each of the catogory based on space \"Math & Science\"=> \"Math\",\"&\", \"Science\"\n",
    "            j=j.replace('The','') # if we have the words \"The\" we are going to replace it with ''(i.e removing 'The')\n",
    "        j = j.replace(' ','') # we are placeing all the ' '(space) with ''(empty) ex:\"Math & Science\"=>\"Math&Science\"\n",
    "        temp +=j.strip()+\" \"#\" abc \".strip() will return \"abc\", remove the trailing spaces\n",
    "        temp = temp.replace('&','_')\n",
    "    sub_cat_list.append(temp.strip())\n",
    "\n",
    "project_data['clean_subcategories'] = sub_cat_list\n",
    "project_data.drop(['project_subject_subcategories'], axis=1, inplace=True)\n",
    "\n",
    "# count of all the words in corpus python: https://stackoverflow.com/a/22898595/4084039\n",
    "my_counter = Counter()\n",
    "for word in project_data['clean_subcategories'].values:\n",
    "    my_counter.update(word.split())\n",
    "    \n",
    "sub_cat_dict = dict(my_counter)\n",
    "sorted_sub_cat_dict = dict(sorted(sub_cat_dict.items(), key=lambda kv: kv[1]))"
   ]
  },
  {
   "cell_type": "markdown",
   "metadata": {
    "colab_type": "text",
    "id": "NANzhWlLCynN"
   },
   "source": [
    "## 1.3 Text preprocessing"
   ]
  },
  {
   "cell_type": "code",
   "execution_count": 0,
   "metadata": {
    "colab": {},
    "colab_type": "code",
    "id": "yqsmu-BTCynQ"
   },
   "outputs": [],
   "source": [
    "# merge two column text dataframe: \n",
    "project_data[\"essay\"] = project_data[\"project_essay_1\"].map(str) +\\\n",
    "                        project_data[\"project_essay_2\"].map(str) + \\\n",
    "                        project_data[\"project_essay_3\"].map(str) + \\\n",
    "                        project_data[\"project_essay_4\"].map(str)"
   ]
  },
  {
   "cell_type": "code",
   "execution_count": 16,
   "metadata": {
    "colab": {
     "base_uri": "https://localhost:8080/",
     "height": 335
    },
    "colab_type": "code",
    "id": "xxtnd3maCynV",
    "outputId": "2ab22659-10bd-4190-9530-baaae91b9d6f"
   },
   "outputs": [
    {
     "data": {
      "text/html": [
       "<div>\n",
       "<style scoped>\n",
       "    .dataframe tbody tr th:only-of-type {\n",
       "        vertical-align: middle;\n",
       "    }\n",
       "\n",
       "    .dataframe tbody tr th {\n",
       "        vertical-align: top;\n",
       "    }\n",
       "\n",
       "    .dataframe thead th {\n",
       "        text-align: right;\n",
       "    }\n",
       "</style>\n",
       "<table border=\"1\" class=\"dataframe\">\n",
       "  <thead>\n",
       "    <tr style=\"text-align: right;\">\n",
       "      <th></th>\n",
       "      <th>Unnamed: 0</th>\n",
       "      <th>id</th>\n",
       "      <th>teacher_id</th>\n",
       "      <th>teacher_prefix</th>\n",
       "      <th>school_state</th>\n",
       "      <th>Date</th>\n",
       "      <th>project_grade_category</th>\n",
       "      <th>project_title</th>\n",
       "      <th>project_essay_1</th>\n",
       "      <th>project_essay_2</th>\n",
       "      <th>project_essay_3</th>\n",
       "      <th>project_essay_4</th>\n",
       "      <th>project_resource_summary</th>\n",
       "      <th>teacher_number_of_previously_posted_projects</th>\n",
       "      <th>project_is_approved</th>\n",
       "      <th>clean_categories</th>\n",
       "      <th>clean_subcategories</th>\n",
       "      <th>essay</th>\n",
       "    </tr>\n",
       "  </thead>\n",
       "  <tbody>\n",
       "    <tr>\n",
       "      <th>55660</th>\n",
       "      <td>8393</td>\n",
       "      <td>p205479</td>\n",
       "      <td>2bf07ba08945e5d8b2a3f269b2b3cfe5</td>\n",
       "      <td>Mrs.</td>\n",
       "      <td>CA</td>\n",
       "      <td>2016-04-27 00:27:36</td>\n",
       "      <td>Grades PreK-2</td>\n",
       "      <td>Engineering STEAM into the Primary Classroom</td>\n",
       "      <td>I have been fortunate enough to use the Fairy ...</td>\n",
       "      <td>My students come from a variety of backgrounds...</td>\n",
       "      <td>Each month I try to do several science or STEM...</td>\n",
       "      <td>It is challenging to develop high quality scie...</td>\n",
       "      <td>My students need STEM kits to learn critical s...</td>\n",
       "      <td>53</td>\n",
       "      <td>1</td>\n",
       "      <td>Math_Science</td>\n",
       "      <td>AppliedSciences Health_LifeScience</td>\n",
       "      <td>I have been fortunate enough to use the Fairy ...</td>\n",
       "    </tr>\n",
       "    <tr>\n",
       "      <th>76127</th>\n",
       "      <td>37728</td>\n",
       "      <td>p043609</td>\n",
       "      <td>3f60494c61921b3b43ab61bdde2904df</td>\n",
       "      <td>Ms.</td>\n",
       "      <td>UT</td>\n",
       "      <td>2016-04-27 00:31:25</td>\n",
       "      <td>Grades 3-5</td>\n",
       "      <td>Sensory Tools for Focus</td>\n",
       "      <td>Imagine being 8-9 years old. You're in your th...</td>\n",
       "      <td>Most of my students have autism, anxiety, anot...</td>\n",
       "      <td>It is tough to do more than one thing at a tim...</td>\n",
       "      <td>When my students are able to calm themselves d...</td>\n",
       "      <td>My students need Boogie Boards for quiet senso...</td>\n",
       "      <td>4</td>\n",
       "      <td>1</td>\n",
       "      <td>SpecialNeeds</td>\n",
       "      <td>SpecialNeeds</td>\n",
       "      <td>Imagine being 8-9 years old. You're in your th...</td>\n",
       "    </tr>\n",
       "  </tbody>\n",
       "</table>\n",
       "</div>"
      ],
      "text/plain": [
       "       Unnamed: 0  ...                                              essay\n",
       "55660        8393  ...  I have been fortunate enough to use the Fairy ...\n",
       "76127       37728  ...  Imagine being 8-9 years old. You're in your th...\n",
       "\n",
       "[2 rows x 18 columns]"
      ]
     },
     "execution_count": 16,
     "metadata": {
      "tags": []
     },
     "output_type": "execute_result"
    }
   ],
   "source": [
    "project_data.head(2)"
   ]
  },
  {
   "cell_type": "code",
   "execution_count": 17,
   "metadata": {
    "colab": {
     "base_uri": "https://localhost:8080/",
     "height": 207
    },
    "colab_type": "code",
    "id": "TCl7L1DhCyne",
    "outputId": "cd104411-5e28-4c08-b88f-42503727299c"
   },
   "outputs": [
    {
     "name": "stdout",
     "output_type": "stream",
     "text": [
      "I have been fortunate enough to use the Fairy Tale STEM kits in my classroom as well as the STEM journals, which my students really enjoyed.  I would love to implement more of the Lakeshore STEM kits in my classroom for the next school year as they provide excellent and engaging STEM lessons.My students come from a variety of backgrounds, including language and socioeconomic status.  Many of them don't have a lot of experience in science and engineering and these kits give me the materials to provide these exciting opportunities for my students.Each month I try to do several science or STEM/STEAM projects.  I would use the kits and robot to help guide my science instruction in engaging and meaningful ways.  I can adapt the kits to my current language arts pacing guide where we already teach some of the material in the kits like tall tales (Paul Bunyan) or Johnny Appleseed.  The following units will be taught in the next school year where I will implement these kits: magnets, motion, sink vs. float, robots.  I often get to these units and don't know If I am teaching the right way or using the right materials.    The kits will give me additional ideas, strategies, and lessons to prepare my students in science.It is challenging to develop high quality science activities.  These kits give me the materials I need to provide my students with science activities that will go along with the curriculum in my classroom.  Although I have some things (like magnets) in my classroom, I don't know how to use them effectively.  The kits will provide me with the right amount of materials and show me how to use them in an appropriate way.\n",
      "==================================================\n",
      "I teach high school English to students with learning and behavioral disabilities. My students all vary in their ability level. However, the ultimate goal is to increase all students literacy levels. This includes their reading, writing, and communication levels.I teach a really dynamic group of students. However, my students face a lot of challenges. My students all live in poverty and in a dangerous neighborhood. Despite these challenges, I have students who have the the desire to defeat these challenges. My students all have learning disabilities and currently all are performing below grade level. My students are visual learners and will benefit from a classroom that fulfills their preferred learning style.The materials I am requesting will allow my students to be prepared for the classroom with the necessary supplies.  Too often I am challenged with students who come to school unprepared for class due to economic challenges.  I want my students to be able to focus on learning and not how they will be able to get school supplies.  The supplies will last all year.  Students will be able to complete written assignments and maintain a classroom journal.  The chart paper will be used to make learning more visual in class and to create posters to aid students in their learning.  The students have access to a classroom printer.  The toner will be used to print student work that is completed on the classroom Chromebooks.I want to try and remove all barriers for the students learning and create opportunities for learning. One of the biggest barriers is the students not having the resources to get pens, paper, and folders. My students will be able to increase their literacy skills because of this project.\n",
      "==================================================\n",
      "\\\"Life moves pretty fast. If you don't stop and look around once in awhile, you could miss it.\\\"  from the movie, Ferris Bueller's Day Off.  Think back...what do you remember about your grandparents?  How amazing would it be to be able to flip through a book to see a day in their lives?My second graders are voracious readers! They love to read both fiction and nonfiction books.  Their favorite characters include Pete the Cat, Fly Guy, Piggie and Elephant, and Mercy Watson. They also love to read about insects, space and plants. My students are hungry bookworms! My students are eager to learn and read about the world around them. My kids love to be at school and are like little sponges absorbing everything around them. Their parents work long hours and usually do not see their children. My students are usually cared for by their grandparents or a family friend. Most of my students do not have someone who speaks English at home. Thus it is difficult for my students to acquire language.Now think forward... wouldn't it mean a lot to your kids, nieces or nephews or grandchildren, to be able to see a day in your life today 30 years from now? Memories are so precious to us and being able to share these memories with future generations will be a rewarding experience.  As part of our social studies curriculum, students will be learning about changes over time.  Students will be studying photos to learn about how their community has changed over time.  In particular, we will look at photos to study how the land, buildings, clothing, and schools have changed over time.  As a culminating activity, my students will capture a slice of their history and preserve it through scrap booking. Key important events in their young lives will be documented with the date, location, and names.   Students will be using photos from home and from school to create their second grade memories.   Their scrap books will preserve their unique stories for future generations to enjoy.Your donation to this project will provide my second graders with an opportunity to learn about social studies in a fun and creative manner.  Through their scrapbooks, children will share their story with others and have a historical document for the rest of their lives.\n",
      "==================================================\n",
      "Some of my students come from difficult family lives, but they don't let that stop them. We have built a community in our classroom that allows each student to be comfortable with who they are. Even though we are a diverse school, everyone feels included. We have a high Hispanic population, and about 90% of the students are on free or reduced-price lunch. Most students are living with a single parent or both parents work full time, although many parents are eager to help in any way they can.\\r\\nWe all know how important it is to get kids up and moving. I want my classroom to be a place where students can be active phyically and mentally. The requested items will allow my students to move all day. When they are sitting in a chair, their movement is limited.\\r\\n       Kindergarten students have a hard time sitting still for long periods of time. They would much rather bounce on a stability ball or wiggle on a cushion than sit in a hard chair. Having these choices in my classroom will allow students to be active and learn at the same time. \\r\\n        Having these choices in my classroom will also build a greater bond between the students.  They will learn to choose which seat best fits their learning style, and hopefully they will be able to help their classmates find a seat that works for them. As the students move around the room, they will be able to work with everyone instead of being with one group each day.nannan\n",
      "==================================================\n",
      "\\\"This is how mathematicians do it! Remember we are all mathematicians in this classroom!\\\" A few simple words repeated regularly-words that instill a sense of pride in each of my students!\\r\\n\\r\\nI am proud to teach math in rural Alabama where our Title I school has both administrator and parental support.\\r\\nThis sense of community pride has been instilled in the students. It is visible in the respect they give both faculty and visitors to our campus. It is apparent in their love of learning. Our parents want the best for their children, but many of them, due to their own economic concerns, can offer very little in the way of anything more than just the basics. Many of our students live in homes without computers or Internet access. I feel that due to the socioeconomic status of many of my students it is my job to level the playing field as much as possible so that my students will have the same learning opportunities as other students and will be able to compete in the global market.Many of my students come from low socioeconomic homes. These homes have little in the way of hands on toys. In addition, even those from affluent backgrounds, are more interested in electronics  than \\\"old fashion\\\" toys. As a result, more and more students, find measurement- especially area, a very abstract concept!\\r\\n  Building bricks would provide students a hands on opportunity to explore measurement and area in an engaging way! Not only would students be able to explore measurement, but also to learn more about the real world skills of designing and building structures. It would also encourage teamwork and problem solving as students developed an idea and then worked to implement their idea.\\r\\n   How exciting would it be for students to have the opportunity to not only learn so much, but to also have fun through such a simple items as building bricks!\\r\\nnannan\n",
      "==================================================\n"
     ]
    }
   ],
   "source": [
    "# printing some random reviews\n",
    "print(project_data['essay'].values[0])\n",
    "print(\"=\"*50)\n",
    "print(project_data['essay'].values[150])\n",
    "print(\"=\"*50)\n",
    "print(project_data['essay'].values[1000])\n",
    "print(\"=\"*50)\n",
    "print(project_data['essay'].values[20000])\n",
    "print(\"=\"*50)\n",
    "print(project_data['essay'].values[99999])\n",
    "print(\"=\"*50)"
   ]
  },
  {
   "cell_type": "code",
   "execution_count": 0,
   "metadata": {
    "colab": {},
    "colab_type": "code",
    "id": "Yqj4vGVoCynh"
   },
   "outputs": [],
   "source": [
    "# https://stackoverflow.com/a/47091490/4084039\n",
    "import re\n",
    "\n",
    "def decontracted(phrase):\n",
    "    # specific\n",
    "    phrase = re.sub(r\"won't\", \"will not\", phrase)\n",
    "    phrase = re.sub(r\"can\\'t\", \"can not\", phrase)\n",
    "\n",
    "    # general\n",
    "    phrase = re.sub(r\"n\\'t\", \" not\", phrase)\n",
    "    phrase = re.sub(r\"\\'re\", \" are\", phrase)\n",
    "    phrase = re.sub(r\"\\'s\", \" is\", phrase)\n",
    "    phrase = re.sub(r\"\\'d\", \" would\", phrase)\n",
    "    phrase = re.sub(r\"\\'ll\", \" will\", phrase)\n",
    "    phrase = re.sub(r\"\\'t\", \" not\", phrase)\n",
    "    phrase = re.sub(r\"\\'ve\", \" have\", phrase)\n",
    "    phrase = re.sub(r\"\\'m\", \" am\", phrase)\n",
    "    return phrase"
   ]
  },
  {
   "cell_type": "code",
   "execution_count": 19,
   "metadata": {
    "colab": {
     "base_uri": "https://localhost:8080/",
     "height": 71
    },
    "colab_type": "code",
    "id": "aDUbe9piCynj",
    "outputId": "74a2bbe5-b916-4ab8-ecd5-20a58c3444f1"
   },
   "outputs": [
    {
     "name": "stdout",
     "output_type": "stream",
     "text": [
      "Some of my students come from difficult family lives, but they do not let that stop them. We have built a community in our classroom that allows each student to be comfortable with who they are. Even though we are a diverse school, everyone feels included. We have a high Hispanic population, and about 90% of the students are on free or reduced-price lunch. Most students are living with a single parent or both parents work full time, although many parents are eager to help in any way they can.\\r\\nWe all know how important it is to get kids up and moving. I want my classroom to be a place where students can be active phyically and mentally. The requested items will allow my students to move all day. When they are sitting in a chair, their movement is limited.\\r\\n       Kindergarten students have a hard time sitting still for long periods of time. They would much rather bounce on a stability ball or wiggle on a cushion than sit in a hard chair. Having these choices in my classroom will allow students to be active and learn at the same time. \\r\\n        Having these choices in my classroom will also build a greater bond between the students.  They will learn to choose which seat best fits their learning style, and hopefully they will be able to help their classmates find a seat that works for them. As the students move around the room, they will be able to work with everyone instead of being with one group each day.nannan\n",
      "==================================================\n"
     ]
    }
   ],
   "source": [
    "sent = decontracted(project_data['essay'].values[20000])\n",
    "print(sent)\n",
    "print(\"=\"*50)"
   ]
  },
  {
   "cell_type": "code",
   "execution_count": 20,
   "metadata": {
    "colab": {
     "base_uri": "https://localhost:8080/",
     "height": 54
    },
    "colab_type": "code",
    "id": "vXSbHYJ4Cynp",
    "outputId": "44572d4b-968d-42e2-ade1-ba914cb25911",
    "scrolled": true
   },
   "outputs": [
    {
     "name": "stdout",
     "output_type": "stream",
     "text": [
      "Some of my students come from difficult family lives, but they do not let that stop them. We have built a community in our classroom that allows each student to be comfortable with who they are. Even though we are a diverse school, everyone feels included. We have a high Hispanic population, and about 90% of the students are on free or reduced-price lunch. Most students are living with a single parent or both parents work full time, although many parents are eager to help in any way they can.  We all know how important it is to get kids up and moving. I want my classroom to be a place where students can be active phyically and mentally. The requested items will allow my students to move all day. When they are sitting in a chair, their movement is limited.         Kindergarten students have a hard time sitting still for long periods of time. They would much rather bounce on a stability ball or wiggle on a cushion than sit in a hard chair. Having these choices in my classroom will allow students to be active and learn at the same time.           Having these choices in my classroom will also build a greater bond between the students.  They will learn to choose which seat best fits their learning style, and hopefully they will be able to help their classmates find a seat that works for them. As the students move around the room, they will be able to work with everyone instead of being with one group each day.nannan\n"
     ]
    }
   ],
   "source": [
    "# \\r \\n \\t remove from string python: http://texthandler.com/info/remove-line-breaks-python/\n",
    "sent = sent.replace('\\\\r', ' ')\n",
    "sent = sent.replace('\\\\\"', ' ')\n",
    "sent = sent.replace('\\\\n', ' ')\n",
    "print(sent)"
   ]
  },
  {
   "cell_type": "code",
   "execution_count": 21,
   "metadata": {
    "colab": {
     "base_uri": "https://localhost:8080/",
     "height": 54
    },
    "colab_type": "code",
    "id": "67Agrz_YCynt",
    "outputId": "8eba436a-66bb-4695-ed76-87f29298d699",
    "scrolled": true
   },
   "outputs": [
    {
     "name": "stdout",
     "output_type": "stream",
     "text": [
      "Some of my students come from difficult family lives but they do not let that stop them We have built a community in our classroom that allows each student to be comfortable with who they are Even though we are a diverse school everyone feels included We have a high Hispanic population and about 90 of the students are on free or reduced price lunch Most students are living with a single parent or both parents work full time although many parents are eager to help in any way they can We all know how important it is to get kids up and moving I want my classroom to be a place where students can be active phyically and mentally The requested items will allow my students to move all day When they are sitting in a chair their movement is limited Kindergarten students have a hard time sitting still for long periods of time They would much rather bounce on a stability ball or wiggle on a cushion than sit in a hard chair Having these choices in my classroom will allow students to be active and learn at the same time Having these choices in my classroom will also build a greater bond between the students They will learn to choose which seat best fits their learning style and hopefully they will be able to help their classmates find a seat that works for them As the students move around the room they will be able to work with everyone instead of being with one group each day nannan\n"
     ]
    }
   ],
   "source": [
    "#remove spacial character: https://stackoverflow.com/a/5843547/4084039\n",
    "sent = re.sub('[^A-Za-z0-9]+', ' ', sent)\n",
    "print(sent)"
   ]
  },
  {
   "cell_type": "code",
   "execution_count": 0,
   "metadata": {
    "colab": {},
    "colab_type": "code",
    "id": "hhyPw-8wCyny"
   },
   "outputs": [],
   "source": [
    "# https://gist.github.com/sebleier/554280\n",
    "# we are removing the words from the stop words list: 'no', 'nor', 'not'\n",
    "stopwords= ['i', 'me', 'my', 'myself', 'we', 'our', 'ours', 'ourselves', 'you', \"you're\", \"you've\",\\\n",
    "            \"you'll\", \"you'd\", 'your', 'yours', 'yourself', 'yourselves', 'he', 'him', 'his', 'himself', \\\n",
    "            'she', \"she's\", 'her', 'hers', 'herself', 'it', \"it's\", 'its', 'itself', 'they', 'them', 'their',\\\n",
    "            'theirs', 'themselves', 'what', 'which', 'who', 'whom', 'this', 'that', \"that'll\", 'these', 'those', \\\n",
    "            'am', 'is', 'are', 'was', 'were', 'be', 'been', 'being', 'have', 'has', 'had', 'having', 'do', 'does', \\\n",
    "            'did', 'doing', 'a', 'an', 'the', 'and', 'but', 'if', 'or', 'because', 'as', 'until', 'while', 'of', \\\n",
    "            'at', 'by', 'for', 'with', 'about', 'against', 'between', 'into', 'through', 'during', 'before', 'after',\\\n",
    "            'above', 'below', 'to', 'from', 'up', 'down', 'in', 'out', 'on', 'off', 'over', 'under', 'again', 'further',\\\n",
    "            'then', 'once', 'here', 'there', 'when', 'where', 'why', 'how', 'all', 'any', 'both', 'each', 'few', 'more',\\\n",
    "            'most', 'other', 'some', 'such', 'only', 'own', 'same', 'so', 'than', 'too', 'very', \\\n",
    "            's', 't', 'can', 'will', 'just', 'don', \"don't\", 'should', \"should've\", 'now', 'd', 'll', 'm', 'o', 're', \\\n",
    "            've', 'y', 'ain', 'aren', \"aren't\", 'couldn', \"couldn't\", 'didn', \"didn't\", 'doesn', \"doesn't\", 'hadn',\\\n",
    "            \"hadn't\", 'hasn', \"hasn't\", 'haven', \"haven't\", 'isn', \"isn't\", 'ma', 'mightn', \"mightn't\", 'mustn',\\\n",
    "            \"mustn't\", 'needn', \"needn't\", 'shan', \"shan't\", 'shouldn', \"shouldn't\", 'wasn', \"wasn't\", 'weren', \"weren't\", \\\n",
    "            'won', \"won't\", 'wouldn', \"wouldn't\"]"
   ]
  },
  {
   "cell_type": "code",
   "execution_count": 23,
   "metadata": {
    "colab": {
     "base_uri": "https://localhost:8080/",
     "height": 34
    },
    "colab_type": "code",
    "id": "d6RCdphRCyn0",
    "outputId": "9248c279-813c-439f-da40-562cd0c24a81"
   },
   "outputs": [
    {
     "name": "stderr",
     "output_type": "stream",
     "text": [
      "100%|██████████| 109245/109245 [00:57<00:00, 1883.80it/s]\n"
     ]
    }
   ],
   "source": [
    "# Combining all the above stundents \n",
    "from tqdm import tqdm\n",
    "preprocessed_essays = []\n",
    "# tqdm is for printing the status bar\n",
    "for sentance in tqdm(project_data['essay'].values):\n",
    "    sent = decontracted(sentance)\n",
    "    sent = sent.replace('\\\\r', ' ')\n",
    "    sent = sent.replace('\\\\\"', ' ')\n",
    "    sent = sent.replace('\\\\n', ' ')\n",
    "    sent = re.sub('[^A-Za-z0-9]+', ' ', sent)\n",
    "    # https://gist.github.com/sebleier/554280\n",
    "    sent = ' '.join(e for e in sent.split() if e.lower() not in stopwords)\n",
    "    preprocessed_essays.append(sent.lower().strip())"
   ]
  },
  {
   "cell_type": "code",
   "execution_count": 24,
   "metadata": {
    "colab": {
     "base_uri": "https://localhost:8080/",
     "height": 54
    },
    "colab_type": "code",
    "id": "rPo9cLvNCyn3",
    "outputId": "a23f28c5-f70f-4aac-e658-4642e53c0032",
    "scrolled": true
   },
   "outputs": [
    {
     "data": {
      "text/plain": [
       "'students come difficult family lives not let stop built community classroom allows student comfortable even though diverse school everyone feels included high hispanic population 90 students free reduced price lunch students living single parent parents work full time although many parents eager help way know important get kids moving want classroom place students active phyically mentally requested items allow students move day sitting chair movement limited kindergarten students hard time sitting still long periods time would much rather bounce stability ball wiggle cushion sit hard chair choices classroom allow students active learn time choices classroom also build greater bond students learn choose seat best fits learning style hopefully able help classmates find seat works students move around room able work everyone instead one group day nannan'"
      ]
     },
     "execution_count": 24,
     "metadata": {
      "tags": []
     },
     "output_type": "execute_result"
    }
   ],
   "source": [
    "# after preprocesing\n",
    "preprocessed_essays[20000]"
   ]
  },
  {
   "cell_type": "markdown",
   "metadata": {
    "colab_type": "text",
    "id": "QeUw6WMKCyn7"
   },
   "source": [
    "<h2><font color='red'> 1.4 Preprocessing of `project_title`</font></h2>"
   ]
  },
  {
   "cell_type": "code",
   "execution_count": 25,
   "metadata": {
    "colab": {
     "base_uri": "https://localhost:8080/",
     "height": 34
    },
    "colab_type": "code",
    "id": "Ql9ttfW3Cyn7",
    "outputId": "4f43212a-950c-4b1c-d475-e97f432418f1"
   },
   "outputs": [
    {
     "name": "stderr",
     "output_type": "stream",
     "text": [
      "100%|██████████| 109245/109245 [00:02<00:00, 43334.74it/s]\n"
     ]
    }
   ],
   "source": [
    "# similarly you can preprocess the titles also\n",
    "preprocessed_title = []\n",
    "\n",
    "for sentence in tqdm(project_data['project_title'].values):\n",
    "    sent = decontracted(sentence)\n",
    "    sent = sent.replace('\\\\r',' ')\n",
    "    sent = sent.replace('\\\\\"',' ')\n",
    "    sent = sent.replace('\\\\n', ' ')\n",
    "    sent = re.sub('[^A-Za-z0-9]+', ' ', sent)\n",
    "    # https://gist.github.com/sebleier/554280\n",
    "    sent = ' '.join(e for e in sent.split() if e.lower() not in stopwords)\n",
    "    preprocessed_title.append(sent.lower().strip())"
   ]
  },
  {
   "cell_type": "markdown",
   "metadata": {
    "colab_type": "text",
    "id": "P5loBmYChdkS"
   },
   "source": [
    "<h2><font color='red'> 1.5 Preprocessing of `Teacher Prefix`</font></h2>\n",
    "As the teacher prefix has period assciated with the title like mr.,dr.,etc.\n"
   ]
  },
  {
   "cell_type": "code",
   "execution_count": 26,
   "metadata": {
    "colab": {
     "base_uri": "https://localhost:8080/",
     "height": 68
    },
    "colab_type": "code",
    "id": "t2ZcjqFvhdkT",
    "outputId": "caf10730-3713-42d3-b7ab-3bf2a550ec57"
   },
   "outputs": [
    {
     "data": {
      "text/plain": [
       "False    106885\n",
       "True       2360\n",
       "Name: teacher_prefix, dtype: int64"
      ]
     },
     "execution_count": 26,
     "metadata": {
      "tags": []
     },
     "output_type": "execute_result"
    }
   ],
   "source": [
    "# let's check the distribution of this prefix with having period and  special characters\n",
    "# https://www.geeksforgeeks.org/python-program-check-string-contains-special-character/\n",
    "import re\n",
    "regex = re.compile('[@_!#$%^&*()<>?/\\|}{~:.]')\n",
    "project_data.teacher_prefix.map(lambda x: regex.search(x)== None).value_counts()"
   ]
  },
  {
   "cell_type": "markdown",
   "metadata": {
    "colab_type": "text",
    "id": "THIZt5ANhdkW"
   },
   "source": [
    "There 106885 prefix having period at the end and 2360 titles won't have period. This can be lead to lead to vectorization problem as mr. and mr will be considered differently for features vector."
   ]
  },
  {
   "cell_type": "code",
   "execution_count": 0,
   "metadata": {
    "colab": {},
    "colab_type": "code",
    "id": "wcMxlVxAhdkX"
   },
   "outputs": [],
   "source": [
    "# https://stackoverflow.com/questions/50444346/fast-punctuation-removal-with-pandas\n",
    "# cleaning the teacher prefix columns as the cells have periods associated with the value like dr.,mr.,etc\n",
    "# python's str.translate function is implemented in C, and is therefore very fast.\n",
    "\n",
    "def clean_col(col): \n",
    "    import string\n",
    "    punct = '!\"#$%&\\'()*+,-./:;<=>?@[\\\\]^_`{}~'   # `|` is not present in teacher prefx\n",
    "    transtab = str.maketrans(dict.fromkeys(punct, ''))\n",
    "\n",
    "    col = '|'.join(col.tolist()).translate(transtab).split('|')\n",
    "    return col"
   ]
  },
  {
   "cell_type": "code",
   "execution_count": 0,
   "metadata": {
    "colab": {},
    "colab_type": "code",
    "id": "ulcDeWkxhdkZ"
   },
   "outputs": [],
   "source": [
    "preprocessed_prefix = clean_col(project_data['teacher_prefix'])\n"
   ]
  },
  {
   "cell_type": "code",
   "execution_count": 29,
   "metadata": {
    "colab": {
     "base_uri": "https://localhost:8080/",
     "height": 34
    },
    "colab_type": "code",
    "id": "jpgF64rvhdkb",
    "outputId": "9f1079cf-9c2b-4bde-a4bc-78dc47faaf51"
   },
   "outputs": [
    {
     "name": "stdout",
     "output_type": "stream",
     "text": [
      "109245\n"
     ]
    }
   ],
   "source": [
    "# verifying if any special char are present or not\n",
    "c = list(map(lambda x : regex.search(x) == None,preprocessed_prefix)).count(True)\n",
    "print(c)"
   ]
  },
  {
   "cell_type": "markdown",
   "metadata": {
    "colab_type": "text",
    "id": "LnpuSGxchdkh"
   },
   "source": [
    "No special character is present as we have 109245 number of data where all returning true to above regex means all values are special character free."
   ]
  },
  {
   "cell_type": "markdown",
   "metadata": {
    "colab_type": "text",
    "id": "NQg4ZfFtCyn9"
   },
   "source": [
    "## 1.6 Preparing data for models"
   ]
  },
  {
   "cell_type": "code",
   "execution_count": 30,
   "metadata": {
    "colab": {
     "base_uri": "https://localhost:8080/",
     "height": 136
    },
    "colab_type": "code",
    "id": "V4GS54ZTCyn-",
    "outputId": "d4ffdca8-7377-498d-ee40-d90980797aa4",
    "scrolled": true
   },
   "outputs": [
    {
     "data": {
      "text/plain": [
       "Index(['Unnamed: 0', 'id', 'teacher_id', 'teacher_prefix', 'school_state',\n",
       "       'Date', 'project_grade_category', 'project_title', 'project_essay_1',\n",
       "       'project_essay_2', 'project_essay_3', 'project_essay_4',\n",
       "       'project_resource_summary',\n",
       "       'teacher_number_of_previously_posted_projects', 'project_is_approved',\n",
       "       'clean_categories', 'clean_subcategories', 'essay'],\n",
       "      dtype='object')"
      ]
     },
     "execution_count": 30,
     "metadata": {
      "tags": []
     },
     "output_type": "execute_result"
    }
   ],
   "source": [
    "project_data.columns"
   ]
  },
  {
   "cell_type": "markdown",
   "metadata": {
    "colab_type": "text",
    "id": "6FDsc1epCyoD"
   },
   "source": [
    "we are going to consider\n",
    "\n",
    "       - school_state : categorical data\n",
    "       - clean_categories : categorical data\n",
    "       - clean_subcategories : categorical data\n",
    "       - project_grade_category : categorical data\n",
    "       - teacher_prefix : categorical data\n",
    "       \n",
    "       - project_title : text data\n",
    "       - text : text data\n",
    "       - project_resource_summary: text data (optinal)\n",
    "       \n",
    "       - quantity : numerical (optinal)\n",
    "       - teacher_number_of_previously_posted_projects : numerical\n",
    "       - price : numerical"
   ]
  },
  {
   "cell_type": "markdown",
   "metadata": {
    "colab_type": "text",
    "id": "V3vrK7BSCypi"
   },
   "source": [
    "# Assignment 4: Apply Naive Bayes"
   ]
  },
  {
   "cell_type": "markdown",
   "metadata": {
    "colab_type": "text",
    "id": "WFI1ug-gCypi"
   },
   "source": [
    "<ol>\n",
    "    <li><strong>Apply Multinomial NaiveBayes on these feature sets</strong>\n",
    "        <ul>\n",
    "            <li><font color='red'>Set 1</font>: categorical, numerical features + project_title(BOW) + preprocessed_eassay (BOW)</li>\n",
    "            <li><font color='red'>Set 2</font>: categorical, numerical features + project_title(TFIDF)+  preprocessed_eassay (TFIDF)</li>\n",
    "        </ul>\n",
    "    </li>\n",
    "    <br>\n",
    "    <li><strong>The hyper paramter tuning(find best Alpha)</strong>\n",
    "        <ul>\n",
    "    <li>Find the best hyper parameter which will give the maximum <a href='https://www.appliedaicourse.com/course/applied-ai-course-online/lessons/receiver-operating-characteristic-curve-roc-curve-and-auc-1/'>AUC</a> value</li>\n",
    "    <li>Consider a wide range of alpha values for hyperparameter tuning, start as low as 0.00001</li>\n",
    "    <li>Find the best hyper paramter using k-fold cross validation or simple cross validation data</li>\n",
    "    <li>Use gridsearch cv or randomsearch cv or you can also write your own for loops to do this task of hyperparameter tuning</li>\n",
    "        </ul>\n",
    "    </li>\n",
    "    <br>\n",
    "    <li><strong>Feature importance</strong>\n",
    "        <ul>\n",
    "    <li>Find the top 10 features of positive class and top 10 features of negative class for both feature sets <font color='red'>Set 1</font> and <font color='red'>Set 2</font> using values of `feature_log_prob_` parameter of  <a href='https://scikit-learn.org/stable/modules/generated/sklearn.naive_bayes.MultinomialNB.html'>MultinomialNB</a> and print their corresponding feature names</li>\n",
    "        </ul>\n",
    "    </li>\n",
    "    <br>\n",
    "    <li><strong>Representation of results</strong>\n",
    "        <ul>\n",
    "    <li>You need to plot the performance of model both on train data and cross validation data for each hyper parameter, like shown in the figure. Here on X-axis you will have alpha values, since they have a wide range, just to represent those alpha values on the graph, apply log function on those alpha values.\n",
    "    <img src='train_cv_auc.JPG' width=300px></li>\n",
    "    <li>Once after you found the best hyper parameter, you need to train your model with it, and find the AUC on test data and plot the ROC curve on both train and test.\n",
    "    <img src='train_test_auc.JPG' width=300px></li>\n",
    "    <li>Along with plotting ROC curve, you need to print the <a href='https://www.appliedaicourse.com/course/applied-ai-course-online/lessons/confusion-matrix-tpr-fpr-fnr-tnr-1/'>confusion matrix</a> with predicted and original labels of test data points. Please visualize your confusion matrices using <a href='https://seaborn.pydata.org/generated/seaborn.heatmap.html'>seaborn heatmaps.\n",
    "    <img src='confusion_matrix.png' width=300px></li>\n",
    "        </ul>\n",
    "    </li>\n",
    "    <br>\n",
    "    <li><strong>Conclusion</strong>\n",
    "        <ul>\n",
    "    <li>You need to summarize the results at the end of the notebook, summarize it in the table format. To print out a table please refer to this prettytable library<a href='http://zetcode.com/python/prettytable/'>  link</a> \n",
    "        <img src='summary.JPG' width=400px>\n",
    "    </li>\n",
    "        </ul>\n",
    "</ol>"
   ]
  },
  {
   "cell_type": "markdown",
   "metadata": {
    "colab_type": "text",
    "id": "u7svGNyWCypl"
   },
   "source": [
    "<h1>2. Naive Bayes</h1>"
   ]
  },
  {
   "cell_type": "markdown",
   "metadata": {
    "colab_type": "text",
    "id": "W6fBRNBMCypl"
   },
   "source": [
    "<h2>2.1 Splitting data into Train and cross validation(or test): Stratified Sampling</h2>"
   ]
  },
  {
   "cell_type": "markdown",
   "metadata": {
    "colab_type": "text",
    "id": "tNvUXB-xWVdw"
   },
   "source": [
    "#### Pandas Dataframe Reordering\n",
    "\n",
    "Reordering the pandas dataframe with pre processed essays,title and relevant columns for classification"
   ]
  },
  {
   "cell_type": "code",
   "execution_count": 31,
   "metadata": {
    "colab": {
     "base_uri": "https://localhost:8080/",
     "height": 335
    },
    "colab_type": "code",
    "id": "1K9Edd5gWUhq",
    "outputId": "1b27d461-2585-44c2-8d2b-451591f13257"
   },
   "outputs": [
    {
     "data": {
      "text/html": [
       "<div>\n",
       "<style scoped>\n",
       "    .dataframe tbody tr th:only-of-type {\n",
       "        vertical-align: middle;\n",
       "    }\n",
       "\n",
       "    .dataframe tbody tr th {\n",
       "        vertical-align: top;\n",
       "    }\n",
       "\n",
       "    .dataframe thead th {\n",
       "        text-align: right;\n",
       "    }\n",
       "</style>\n",
       "<table border=\"1\" class=\"dataframe\">\n",
       "  <thead>\n",
       "    <tr style=\"text-align: right;\">\n",
       "      <th></th>\n",
       "      <th>Unnamed: 0</th>\n",
       "      <th>id</th>\n",
       "      <th>teacher_id</th>\n",
       "      <th>teacher_prefix</th>\n",
       "      <th>school_state</th>\n",
       "      <th>Date</th>\n",
       "      <th>project_grade_category</th>\n",
       "      <th>project_title</th>\n",
       "      <th>project_essay_1</th>\n",
       "      <th>project_essay_2</th>\n",
       "      <th>project_essay_3</th>\n",
       "      <th>project_essay_4</th>\n",
       "      <th>project_resource_summary</th>\n",
       "      <th>teacher_number_of_previously_posted_projects</th>\n",
       "      <th>project_is_approved</th>\n",
       "      <th>clean_categories</th>\n",
       "      <th>clean_subcategories</th>\n",
       "      <th>essay</th>\n",
       "    </tr>\n",
       "  </thead>\n",
       "  <tbody>\n",
       "    <tr>\n",
       "      <th>55660</th>\n",
       "      <td>8393</td>\n",
       "      <td>p205479</td>\n",
       "      <td>2bf07ba08945e5d8b2a3f269b2b3cfe5</td>\n",
       "      <td>Mrs.</td>\n",
       "      <td>CA</td>\n",
       "      <td>2016-04-27 00:27:36</td>\n",
       "      <td>Grades PreK-2</td>\n",
       "      <td>Engineering STEAM into the Primary Classroom</td>\n",
       "      <td>I have been fortunate enough to use the Fairy ...</td>\n",
       "      <td>My students come from a variety of backgrounds...</td>\n",
       "      <td>Each month I try to do several science or STEM...</td>\n",
       "      <td>It is challenging to develop high quality scie...</td>\n",
       "      <td>My students need STEM kits to learn critical s...</td>\n",
       "      <td>53</td>\n",
       "      <td>1</td>\n",
       "      <td>Math_Science</td>\n",
       "      <td>AppliedSciences Health_LifeScience</td>\n",
       "      <td>I have been fortunate enough to use the Fairy ...</td>\n",
       "    </tr>\n",
       "    <tr>\n",
       "      <th>76127</th>\n",
       "      <td>37728</td>\n",
       "      <td>p043609</td>\n",
       "      <td>3f60494c61921b3b43ab61bdde2904df</td>\n",
       "      <td>Ms.</td>\n",
       "      <td>UT</td>\n",
       "      <td>2016-04-27 00:31:25</td>\n",
       "      <td>Grades 3-5</td>\n",
       "      <td>Sensory Tools for Focus</td>\n",
       "      <td>Imagine being 8-9 years old. You're in your th...</td>\n",
       "      <td>Most of my students have autism, anxiety, anot...</td>\n",
       "      <td>It is tough to do more than one thing at a tim...</td>\n",
       "      <td>When my students are able to calm themselves d...</td>\n",
       "      <td>My students need Boogie Boards for quiet senso...</td>\n",
       "      <td>4</td>\n",
       "      <td>1</td>\n",
       "      <td>SpecialNeeds</td>\n",
       "      <td>SpecialNeeds</td>\n",
       "      <td>Imagine being 8-9 years old. You're in your th...</td>\n",
       "    </tr>\n",
       "  </tbody>\n",
       "</table>\n",
       "</div>"
      ],
      "text/plain": [
       "       Unnamed: 0  ...                                              essay\n",
       "55660        8393  ...  I have been fortunate enough to use the Fairy ...\n",
       "76127       37728  ...  Imagine being 8-9 years old. You're in your th...\n",
       "\n",
       "[2 rows x 18 columns]"
      ]
     },
     "execution_count": 31,
     "metadata": {
      "tags": []
     },
     "output_type": "execute_result"
    }
   ],
   "source": [
    "project_data.head(2)"
   ]
  },
  {
   "cell_type": "code",
   "execution_count": 0,
   "metadata": {
    "colab": {},
    "colab_type": "code",
    "id": "2KIa2Z06yb4n"
   },
   "outputs": [],
   "source": [
    "# checking the aggregate price per resource\n",
    "price_data = resource_data.groupby('id').agg({'price':'sum', 'quantity':'sum'}).reset_index()\n",
    "project_data = pd.merge(project_data, price_data, on='id', how='left')"
   ]
  },
  {
   "cell_type": "code",
   "execution_count": 33,
   "metadata": {
    "colab": {
     "base_uri": "https://localhost:8080/",
     "height": 153
    },
    "colab_type": "code",
    "id": "dN4c0K1xhdkz",
    "outputId": "8de2c936-14c8-4f4f-f708-dc694d454d51"
   },
   "outputs": [
    {
     "data": {
      "text/plain": [
       "Index(['Unnamed: 0', 'id', 'teacher_id', 'teacher_prefix', 'school_state',\n",
       "       'Date', 'project_grade_category', 'project_title', 'project_essay_1',\n",
       "       'project_essay_2', 'project_essay_3', 'project_essay_4',\n",
       "       'project_resource_summary',\n",
       "       'teacher_number_of_previously_posted_projects', 'project_is_approved',\n",
       "       'clean_categories', 'clean_subcategories', 'essay', 'price',\n",
       "       'quantity'],\n",
       "      dtype='object')"
      ]
     },
     "execution_count": 33,
     "metadata": {
      "tags": []
     },
     "output_type": "execute_result"
    }
   ],
   "source": [
    "project_data.columns"
   ]
  },
  {
   "cell_type": "code",
   "execution_count": 34,
   "metadata": {
    "colab": {
     "base_uri": "https://localhost:8080/",
     "height": 142
    },
    "colab_type": "code",
    "id": "v57BTOtnbOBi",
    "outputId": "f433a6f9-9363-47f0-e800-7841acb4da3f"
   },
   "outputs": [
    {
     "data": {
      "text/html": [
       "<div>\n",
       "<style scoped>\n",
       "    .dataframe tbody tr th:only-of-type {\n",
       "        vertical-align: middle;\n",
       "    }\n",
       "\n",
       "    .dataframe tbody tr th {\n",
       "        vertical-align: top;\n",
       "    }\n",
       "\n",
       "    .dataframe thead th {\n",
       "        text-align: right;\n",
       "    }\n",
       "</style>\n",
       "<table border=\"1\" class=\"dataframe\">\n",
       "  <thead>\n",
       "    <tr style=\"text-align: right;\">\n",
       "      <th></th>\n",
       "      <th>school_state</th>\n",
       "      <th>project_grade_category</th>\n",
       "      <th>clean_categories</th>\n",
       "      <th>clean_subcategories</th>\n",
       "      <th>teacher_number_of_previously_posted_projects</th>\n",
       "      <th>price</th>\n",
       "    </tr>\n",
       "  </thead>\n",
       "  <tbody>\n",
       "    <tr>\n",
       "      <th>0</th>\n",
       "      <td>CA</td>\n",
       "      <td>Grades PreK-2</td>\n",
       "      <td>Math_Science</td>\n",
       "      <td>AppliedSciences Health_LifeScience</td>\n",
       "      <td>53</td>\n",
       "      <td>725.05</td>\n",
       "    </tr>\n",
       "    <tr>\n",
       "      <th>1</th>\n",
       "      <td>UT</td>\n",
       "      <td>Grades 3-5</td>\n",
       "      <td>SpecialNeeds</td>\n",
       "      <td>SpecialNeeds</td>\n",
       "      <td>4</td>\n",
       "      <td>213.03</td>\n",
       "    </tr>\n",
       "    <tr>\n",
       "      <th>2</th>\n",
       "      <td>CA</td>\n",
       "      <td>Grades PreK-2</td>\n",
       "      <td>Literacy_Language</td>\n",
       "      <td>Literacy</td>\n",
       "      <td>10</td>\n",
       "      <td>329.00</td>\n",
       "    </tr>\n",
       "  </tbody>\n",
       "</table>\n",
       "</div>"
      ],
      "text/plain": [
       "  school_state  ...   price\n",
       "0           CA  ...  725.05\n",
       "1           UT  ...  213.03\n",
       "2           CA  ...  329.00\n",
       "\n",
       "[3 rows x 6 columns]"
      ]
     },
     "execution_count": 34,
     "metadata": {
      "tags": []
     },
     "output_type": "execute_result"
    }
   ],
   "source": [
    "# https://stackoverflow.com/questions/45747589/copying-a-column-from-one-dataframe-to-another-gives-nan-values?rq=1\n",
    "\n",
    "project_data_ = pd.DataFrame({c: project_data[c].to_numpy() for c in ('school_state','project_grade_category','clean_categories','clean_subcategories',\\\n",
    "                                                                     'teacher_number_of_previously_posted_projects','price')})\n",
    "project_data_.head(3)\n",
    "\n"
   ]
  },
  {
   "cell_type": "code",
   "execution_count": 35,
   "metadata": {
    "colab": {
     "base_uri": "https://localhost:8080/",
     "height": 400
    },
    "colab_type": "code",
    "id": "UVXU8tdGvt0t",
    "outputId": "a34b7711-d05d-4db8-d18c-222d7dc0b812"
   },
   "outputs": [
    {
     "data": {
      "text/html": [
       "<div>\n",
       "<style scoped>\n",
       "    .dataframe tbody tr th:only-of-type {\n",
       "        vertical-align: middle;\n",
       "    }\n",
       "\n",
       "    .dataframe tbody tr th {\n",
       "        vertical-align: top;\n",
       "    }\n",
       "\n",
       "    .dataframe thead th {\n",
       "        text-align: right;\n",
       "    }\n",
       "</style>\n",
       "<table border=\"1\" class=\"dataframe\">\n",
       "  <thead>\n",
       "    <tr style=\"text-align: right;\">\n",
       "      <th></th>\n",
       "      <th>school_state</th>\n",
       "      <th>project_grade_category</th>\n",
       "      <th>clean_categories</th>\n",
       "      <th>clean_subcategories</th>\n",
       "      <th>teacher_number_of_previously_posted_projects</th>\n",
       "      <th>price</th>\n",
       "      <th>teacher_prefix</th>\n",
       "      <th>essay</th>\n",
       "      <th>title</th>\n",
       "      <th>approved</th>\n",
       "    </tr>\n",
       "  </thead>\n",
       "  <tbody>\n",
       "    <tr>\n",
       "      <th>0</th>\n",
       "      <td>CA</td>\n",
       "      <td>Grades PreK-2</td>\n",
       "      <td>Math_Science</td>\n",
       "      <td>AppliedSciences Health_LifeScience</td>\n",
       "      <td>53</td>\n",
       "      <td>725.05</td>\n",
       "      <td>Mrs</td>\n",
       "      <td>fortunate enough use fairy tale stem kits clas...</td>\n",
       "      <td>engineering steam primary classroom</td>\n",
       "      <td>1</td>\n",
       "    </tr>\n",
       "    <tr>\n",
       "      <th>1</th>\n",
       "      <td>UT</td>\n",
       "      <td>Grades 3-5</td>\n",
       "      <td>SpecialNeeds</td>\n",
       "      <td>SpecialNeeds</td>\n",
       "      <td>4</td>\n",
       "      <td>213.03</td>\n",
       "      <td>Ms</td>\n",
       "      <td>imagine 8 9 years old third grade classroom se...</td>\n",
       "      <td>sensory tools focus</td>\n",
       "      <td>1</td>\n",
       "    </tr>\n",
       "    <tr>\n",
       "      <th>2</th>\n",
       "      <td>CA</td>\n",
       "      <td>Grades PreK-2</td>\n",
       "      <td>Literacy_Language</td>\n",
       "      <td>Literacy</td>\n",
       "      <td>10</td>\n",
       "      <td>329.00</td>\n",
       "      <td>Mrs</td>\n",
       "      <td>class 24 students comes diverse learners stude...</td>\n",
       "      <td>mobile learning mobile listening center</td>\n",
       "      <td>1</td>\n",
       "    </tr>\n",
       "  </tbody>\n",
       "</table>\n",
       "</div>"
      ],
      "text/plain": [
       "  school_state  ... approved\n",
       "0           CA  ...        1\n",
       "1           UT  ...        1\n",
       "2           CA  ...        1\n",
       "\n",
       "[3 rows x 10 columns]"
      ]
     },
     "execution_count": 35,
     "metadata": {
      "tags": []
     },
     "output_type": "execute_result"
    }
   ],
   "source": [
    "# assigning the text data to existing dataframe\n",
    "project_data_ = project_data_.assign(teacher_prefix = preprocessed_prefix,\\\n",
    "                                     essay = preprocessed_essays,title = preprocessed_title,approved = project_data['project_is_approved'])\n",
    "project_data_.head(3)\n"
   ]
  },
  {
   "cell_type": "markdown",
   "metadata": {
    "colab_type": "text",
    "id": "06xq1Pt2L5Mk"
   },
   "source": [
    "#### Creating the dataframe for new features first."
   ]
  },
  {
   "cell_type": "code",
   "execution_count": 36,
   "metadata": {
    "colab": {
     "base_uri": "https://localhost:8080/",
     "height": 51
    },
    "colab_type": "code",
    "id": "IlZdfjdJL5Ms",
    "outputId": "7a7afd93-417d-4860-d81e-517696f1cb14"
   },
   "outputs": [
    {
     "name": "stdout",
     "output_type": "stream",
     "text": [
      "Negative reviews count =  16542\n",
      "positive reviews count =  92703\n"
     ]
    }
   ],
   "source": [
    "# Before splitting model let's check if dataset is balanced or not.\n",
    "print(\"Negative reviews count = \",np.sum(project_data_.approved==0))\n",
    "print(\"positive reviews count = \",np.sum(project_data_.approved==1))"
   ]
  },
  {
   "cell_type": "code",
   "execution_count": 37,
   "metadata": {
    "colab": {
     "base_uri": "https://localhost:8080/",
     "height": 295
    },
    "colab_type": "code",
    "id": "f-n7xDc-L5Mv",
    "outputId": "41b7335b-ed38-4208-ced2-85a487d934cf"
   },
   "outputs": [
    {
     "data": {
      "text/plain": [
       "<matplotlib.axes._subplots.AxesSubplot at 0x7f47ad5efe80>"
      ]
     },
     "execution_count": 37,
     "metadata": {
      "tags": []
     },
     "output_type": "execute_result"
    },
    {
     "data": {
      "image/png": "[encoded data removed]",
      "text/plain": [
       "<Figure size 432x288 with 1 Axes>"
      ]
     },
     "metadata": {
      "tags": []
     },
     "output_type": "display_data"
    }
   ],
   "source": [
    "# vizualing the distribution of class attribute\n",
    "project_data_.approved.value_counts().plot(kind='bar',title='Counts (Approval)')"
   ]
  },
  {
   "cell_type": "markdown",
   "metadata": {
    "colab_type": "text",
    "id": "BVIOF4X4L5My"
   },
   "source": [
    "As we can clearly see that this dataset higly imbalanced towards positive reviews that means most of the posted projects are getting accepted on this platform."
   ]
  },
  {
   "cell_type": "code",
   "execution_count": 38,
   "metadata": {
    "colab": {
     "base_uri": "https://localhost:8080/",
     "height": 85
    },
    "colab_type": "code",
    "id": "WACKQWT_Cypl",
    "outputId": "dac5f307-5e31-40ff-f877-8625b6bac848"
   },
   "outputs": [
    {
     "name": "stdout",
     "output_type": "stream",
     "text": [
      "Train Data shape :  (69916, 9) (69916,)\n",
      "Cross Validation Data shape : (17480, 9) (17480,)\n",
      "Test Data shape : (21849, 9) (21849,)\n",
      "====================================================================================================\n"
     ]
    }
   ],
   "source": [
    "# https://scikit-learn.org/stable/modules/generated/sklearn.model_selection.train_test_split.html\n",
    "from sklearn.model_selection import train_test_split\n",
    "x_train,x_test,y_train,y_test = None,None,None,None # clearing the variables\n",
    "# splitting of train and test data with 80:20 ratio\n",
    "\n",
    "x_train,x_test,y_train,y_test = train_test_split(project_data_.iloc[:,:project_data_.shape[1]-1],project_data_.approved,test_size=.2,stratify=project_data_.approved)\n",
    "#X_train,X_cv,y_train,y_cv = train_test_split(X_traincv,y_traincv,test_size=.2,stratify=y_traincv)\n",
    "x_train,x_cv,y_train,y_cv = train_test_split(x_train,y_train,test_size=.2,stratify=y_train)\n",
    "\n",
    "\n",
    "print(\"Train Data shape : \",x_train.shape, y_train.shape)\n",
    "print(\"Cross Validation Data shape :\", x_cv.shape, y_cv.shape)\n",
    "print(\"Test Data shape :\", x_test.shape, y_test.shape)\n",
    "\n",
    "print(\"=\"*100)\n"
   ]
  },
  {
   "cell_type": "code",
   "execution_count": 39,
   "metadata": {
    "colab": {
     "base_uri": "https://localhost:8080/",
     "height": 221
    },
    "colab_type": "code",
    "id": "J5N4IhTGL5NO",
    "outputId": "3bef28b6-ac4e-4945-e50f-389bd881eefd",
    "scrolled": true
   },
   "outputs": [
    {
     "name": "stdout",
     "output_type": "stream",
     "text": [
      "x train distribution = \n",
      " 1    59329\n",
      "0    10587\n",
      "Name: approved, dtype: int64\n",
      "x cv distribution = \n",
      " 1    14833\n",
      "0     2647\n",
      "Name: approved, dtype: int64\n",
      "x test distribution = \n",
      " 1    18541\n",
      "0     3308\n",
      "Name: approved, dtype: int64\n"
     ]
    }
   ],
   "source": [
    "# Count of positive and negative class label in training, cross validation and test data\n",
    "\n",
    "print(\"x train distribution = \\n\", y_train.value_counts())\n",
    "print(\"x cv distribution = \\n\", y_cv.value_counts())\n",
    "print(\"x test distribution = \\n\", y_test.value_counts())"
   ]
  },
  {
   "cell_type": "code",
   "execution_count": 40,
   "metadata": {
    "colab": {
     "base_uri": "https://localhost:8080/",
     "height": 349
    },
    "colab_type": "code",
    "id": "G2pb-NkPmj-C",
    "outputId": "87301af7-8c82-4edf-d812-eee3c25e8693",
    "scrolled": false
   },
   "outputs": [
    {
     "data": {
      "text/html": [
       "<div>\n",
       "<style scoped>\n",
       "    .dataframe tbody tr th:only-of-type {\n",
       "        vertical-align: middle;\n",
       "    }\n",
       "\n",
       "    .dataframe tbody tr th {\n",
       "        vertical-align: top;\n",
       "    }\n",
       "\n",
       "    .dataframe thead th {\n",
       "        text-align: right;\n",
       "    }\n",
       "</style>\n",
       "<table border=\"1\" class=\"dataframe\">\n",
       "  <thead>\n",
       "    <tr style=\"text-align: right;\">\n",
       "      <th></th>\n",
       "      <th>school_state</th>\n",
       "      <th>project_grade_category</th>\n",
       "      <th>clean_categories</th>\n",
       "      <th>clean_subcategories</th>\n",
       "      <th>teacher_number_of_previously_posted_projects</th>\n",
       "      <th>price</th>\n",
       "      <th>teacher_prefix</th>\n",
       "      <th>essay</th>\n",
       "      <th>title</th>\n",
       "    </tr>\n",
       "  </thead>\n",
       "  <tbody>\n",
       "    <tr>\n",
       "      <th>13801</th>\n",
       "      <td>PA</td>\n",
       "      <td>Grades PreK-2</td>\n",
       "      <td>AppliedLearning</td>\n",
       "      <td>EarlyDevelopment</td>\n",
       "      <td>0</td>\n",
       "      <td>558.60</td>\n",
       "      <td>Mrs</td>\n",
       "      <td>success come cans not cannots joel weldon quot...</td>\n",
       "      <td>positive classroom environment allows students...</td>\n",
       "    </tr>\n",
       "    <tr>\n",
       "      <th>32710</th>\n",
       "      <td>MA</td>\n",
       "      <td>Grades 9-12</td>\n",
       "      <td>Literacy_Language Math_Science</td>\n",
       "      <td>ESL Mathematics</td>\n",
       "      <td>0</td>\n",
       "      <td>71.97</td>\n",
       "      <td>Ms</td>\n",
       "      <td>incredible students live thriving predominantl...</td>\n",
       "      <td>individual whiteboards student practice</td>\n",
       "    </tr>\n",
       "    <tr>\n",
       "      <th>5778</th>\n",
       "      <td>WV</td>\n",
       "      <td>Grades PreK-2</td>\n",
       "      <td>Math_Science</td>\n",
       "      <td>Health_LifeScience</td>\n",
       "      <td>2</td>\n",
       "      <td>122.39</td>\n",
       "      <td>Ms</td>\n",
       "      <td>school rural farming community serve students ...</td>\n",
       "      <td>amazing animals</td>\n",
       "    </tr>\n",
       "  </tbody>\n",
       "</table>\n",
       "</div>"
      ],
      "text/plain": [
       "      school_state  ...                                              title\n",
       "13801           PA  ...  positive classroom environment allows students...\n",
       "32710           MA  ...            individual whiteboards student practice\n",
       "5778            WV  ...                                    amazing animals\n",
       "\n",
       "[3 rows x 9 columns]"
      ]
     },
     "execution_count": 40,
     "metadata": {
      "tags": []
     },
     "output_type": "execute_result"
    }
   ],
   "source": [
    "x_train.head(3)"
   ]
  },
  {
   "cell_type": "markdown",
   "metadata": {
    "colab_type": "text",
    "id": "oy6rsDzA23gx"
   },
   "source": [
    "## **Functions Declaration:**\n",
    "\n",
    "Declaration of functions for which is further used in computational process like \n",
    "* Vectorization\n",
    "* Hyperparamater Tuning\n",
    "* Model Generalisation score on Test Data \n",
    "* Printing Dimenionality info of input matrix list\n",
    "* Retrive the vocabulary words for vectorization purposes"
   ]
  },
  {
   "cell_type": "code",
   "execution_count": 0,
   "metadata": {
    "colab": {},
    "colab_type": "code",
    "id": "2ABYfaT0KqEE"
   },
   "outputs": [],
   "source": [
    "\n",
    "def retreive_vocab(_data=None):\n",
    "    ls = []\n",
    "    for word in _data:\n",
    "        if len(word) != 1:\n",
    "            for w in word.split():\n",
    "                ls.append(w)\n",
    "        else:\n",
    "            ls.append(word)\n",
    "    return list(set(ls))"
   ]
  },
  {
   "cell_type": "code",
   "execution_count": 0,
   "metadata": {
    "colab": {},
    "colab_type": "code",
    "id": "PNweA6F7L5NZ"
   },
   "outputs": [],
   "source": [
    "# Defining a function to compute BOW, TFIDF \n",
    "\n",
    "def vectorize_text(encoding_type=None,**kwargs):\n",
    "    # Validation for proper argument names\n",
    "    try:\n",
    "        checklist = ['test_text','cv_text','train_text']\n",
    "        for k,v in kwargs.items():\n",
    "            if k in checklist:\n",
    "                checklist.remove(k)\n",
    "        if not checklist:\n",
    "            # do nothing\n",
    "            pass\n",
    "        else:\n",
    "            raise ValueError(\"You haven't passed the matrices in the described format, please use names as test_text,cv_text,train_text\")\n",
    "    except ValueError as e:\n",
    "        print(\"Error : \", e)\n",
    "            \n",
    "    text_train = kwargs['train_text']\n",
    "    text_cv = kwargs['cv_text']\n",
    "    text_test = kwargs['test_text']\n",
    "    \n",
    "    if \"BOW\" in encoding_type.upper():\n",
    "        #Compute BOW\n",
    "        # We are considering only the words which appeared in at least 10 documents(rows or projects).\n",
    "        vectorizer = CountVectorizer(min_df=10,max_features=3000)\n",
    "        vectorizer.fit(text_train)\n",
    "        \n",
    "        return vectorizer.transform(text_train),vectorizer.transform(text_cv),vectorizer.transform(text_test),vectorizer.get_feature_names()\n",
    "    \n",
    "    elif \"TFIDF\" in encoding_type.upper():\n",
    "        #Compute TFIDF\n",
    "        from sklearn.feature_extraction.text import TfidfVectorizer\n",
    "        vectorizer = TfidfVectorizer(min_df=10,max_features=3000)\n",
    "        vectorizer.fit(text_train)\n",
    "        return vectorizer.transform(text_train),vectorizer.transform(text_cv),vectorizer.transform(text_test),vectorizer.get_feature_names()\n",
    "    \n",
    "    \n",
    "    else:\n",
    "        raise ValueError('Please give the encoding type from the following: BOW, TFIDF, AVGW2V,TFIDFW2V')\n",
    "        \n",
    "        "
   ]
  },
  {
   "cell_type": "code",
   "execution_count": 0,
   "metadata": {
    "colab": {},
    "colab_type": "code",
    "id": "5VCLzbIoCypy"
   },
   "outputs": [],
   "source": [
    "def _hypertuning(x_train,y_train,x_cv,y_cv,tune_type):\n",
    "    _alpha = [0.00001,0.00005,0.0001,0.0005,0.001,0.005,0.01,0.05,0.1,0.5,1,1.5,2,2.5,3,3.5,4,4.5,5]\n",
    "    from sklearn.naive_bayes import MultinomialNB\n",
    "    \n",
    "    if tune_type.lower() == 'custom':\n",
    "\n",
    "        from sklearn.metrics import roc_auc_score\n",
    "\n",
    "        #y_train_pred = []\n",
    "        train_auc_score = []\n",
    "        cv_auc_score = []\n",
    "        e\n",
    "        for i in _alpha:\n",
    "            y_train_pred = []\n",
    "            y_cv_pred = []\n",
    "            clf = MultinomialNB(alpha = i)\n",
    "            clf.fit(x_train,y_train)\n",
    "\n",
    "        # return value of predict_proba : array of shape = [n_samples, n_classes], or a list of n_outputs\n",
    "        # since the value of probabilities obtained will be much less, let's consider the log probabilities\n",
    "            y_train_pred.extend(clf.predict_log_proba(x_train)[:,1])\n",
    "            y_cv_pred.extend(clf.predict_log_proba(x_cv)[:,1])\n",
    "            #import pdb\n",
    "            #pdb.set_trace()\n",
    "            train_auc_score.append(roc_auc_score(y_train,y_train_pred))\n",
    "            cv_auc_score.append(roc_auc_score(y_cv,y_cv_pred))\n",
    "\n",
    "\n",
    "        plt.plot(np.log(_alpha), train_auc_score, label='Train AUC')\n",
    "        plt.scatter(np.log(_alpha),train_auc_score)\n",
    "        plt.plot(np.log(_alpha), cv_auc_score, label='CV AUC')\n",
    "        plt.scatter(np.log(_alpha),cv_auc_score)\n",
    "        plt.legend()\n",
    "        plt.xlabel(\"log alpha: hyperparameter\")\n",
    "        plt.ylabel(\"AUC\")\n",
    "        plt.title(\"ERROR PLOTS\")\n",
    "        plt.show()\n",
    "\n",
    "        \n",
    "\n",
    "    elif tune_type.lower() == 'gridsearch':\n",
    "\n",
    "        # https://scikit-learn.org/stable/modules/generated/sklearn.model_selection.GridSearchCV.html\n",
    "        from sklearn.model_selection import GridSearchCV\n",
    "\n",
    "        nb_clf = MultinomialNB()\n",
    "        parameters = {'alpha' :[0.00001,0.00005,0.0001,0.0005,0.001,0.005,0.01,0.05,0.1,0.5,1,1.5,2,2.5,3,3.5,4,4.5,5]}\n",
    "        clf = GridSearchCV(nb_clf, parameters, cv=10, scoring='roc_auc',n_jobs=4,return_train_score=True) #cv param is K in K-Fold cross validation\n",
    "        clf.fit(x_train, y_train)\n",
    "\n",
    "        train_auc= clf.cv_results_['mean_train_score']\n",
    "        train_auc_std= clf.cv_results_['std_train_score']\n",
    "        cv_auc = clf.cv_results_['mean_test_score'] \n",
    "        cv_auc_std= clf.cv_results_['std_test_score']\n",
    "\n",
    "        plt.plot(np.log(parameters['alpha']), train_auc, label='Train AUC')\n",
    "        # this code is copied from here: https://stackoverflow.com/a/48803361/4084039\n",
    "        plt.gca().fill_between(np.log(parameters['alpha']),train_auc - train_auc_std,train_auc + train_auc_std,alpha=0.2,color='darkblue')\n",
    "\n",
    "        plt.plot(np.log(parameters['alpha']), cv_auc, label='CV AUC')\n",
    "        # this code is copied from here: https://stackoverflow.com/a/48803361/4084039\n",
    "        plt.gca().fill_between(np.log(parameters['alpha']),cv_auc - cv_auc_std,cv_auc + cv_auc_std,alpha=0.2,color='darkorange') \n",
    "        plt.legend()\n",
    "        plt.xlabel(\"log alpha: hyperparameter\")\n",
    "        plt.ylabel(\"AUC\")\n",
    "        plt.title(\"ERROR PLOTS\")\n",
    "        plt.show()\n",
    "\n",
    "    \n",
    "            "
   ]
  },
  {
   "cell_type": "code",
   "execution_count": 0,
   "metadata": {
    "colab": {},
    "colab_type": "code",
    "id": "CXCwMsqghdld"
   },
   "outputs": [],
   "source": [
    "#https://www.ritchieng.com/machine-learning-evaluate-classification-model/\n",
    "\n",
    "def evaluate_threshold(_alpha,x_train,y_train,x_cv,y_cv):\n",
    "    from sklearn.naive_bayes import MultinomialNB\n",
    "    y_cv_pred = []\n",
    "    nb_clf = MultinomialNB(alpha = _alpha)\n",
    "    nb_clf.fit(x_train,y_train)\n",
    "    y_cv_pred.extend(nb_clf.predict_log_proba(x_cv)[:,1])\n",
    "    from sklearn.metrics import roc_curve\n",
    "    #import pdb\n",
    "    #pdb.set_trace()\n",
    "    fpr,tpr,thresholds = roc_curve(y_true = y_cv,y_score = y_cv_pred)\n",
    "    #t_val = [0.1,0.2,0.25,0.3,0.35,0.4,0.45,0.5,0.55,0.6,0.65,0.7,0.8,0.9] # different probability threshold values at which we will be evaluating our model\n",
    "    t_val = np.arange(0,1,0.05)\n",
    "    sn,sp =0,0\n",
    "\n",
    "    ss_score = list()\n",
    "    for i in np.log(t_val):\n",
    "        sn = tpr[thresholds > i][-1]\n",
    "        sp = 1 - fpr[thresholds > i][-1]\n",
    "        ss_score.append((sn,sp,i))\n",
    "    from prettytable import PrettyTable\n",
    "    x = PrettyTable()\n",
    "    x.field_names = ['Sensitivity/Recall (TPR)','Specificity (1-FPR)','Threshold Value','Log Probability threshold']\n",
    "    for val in ss_score:\n",
    "        sn,sp,th = val\n",
    "        x.add_row([sn,sp,np.exp(th),th]) # taking anti log here\n",
    "    print(x)\n",
    "\n"
   ]
  },
  {
   "cell_type": "code",
   "execution_count": 0,
   "metadata": {
    "colab": {},
    "colab_type": "code",
    "id": "KESRkqA3L5OE"
   },
   "outputs": [],
   "source": [
    "# https://stackoverflow.com/questions/19984957/scikit-predict-default-threshold\n",
    "\n",
    "def model_gen_score(x_train,y_train,x_test,y_test,best_alpha,cutoff_val,features_names):\n",
    "    from sklearn.metrics import roc_curve, auc\n",
    "    from sklearn.metrics import confusion_matrix\n",
    "    from sklearn.naive_bayes import MultinomialNB\n",
    "\n",
    "    nb_clf = MultinomialNB(alpha=best_alpha)\n",
    "    nb_clf.fit(x_train, y_train)\n",
    "# roc_auc_score(y_true, y_score) the 2nd parameter should be probability estimates of the positive class\n",
    "# not the predicted outputs\n",
    "    y_train_pred_prob = []\n",
    "    #y_train_pred = []\n",
    "    y_test_pred_prob = []\n",
    "    #y_test_pred = []\n",
    "    \n",
    "    y_train_pred_prob.extend(nb_clf.predict_log_proba(x_train)[:,1])\n",
    "    y_test_pred_prob.extend(nb_clf.predict_log_proba(x_test)[:,1])\n",
    "     \n",
    "    train_fpr, train_tpr, train_thresholds = roc_curve(y_true=y_train,y_score=y_train_pred_prob)\n",
    "    test_fpr, test_tpr, test_thresholds = roc_curve(y_true=y_test,y_score=y_test_pred_prob)\n",
    "    \n",
    "    plt.plot(train_fpr, train_tpr, label=\"train AUC =\"+str(auc(train_fpr, train_tpr)))\n",
    "    #plt.scatter(train_fpr, np.exp(train_thresholds))\n",
    "    plt.plot(test_fpr, test_tpr, label=\"test AUC =\"+str(auc(test_fpr, test_tpr)))\n",
    "    #plt.scatter(test_fpr, np.exp(test_thresholds))\n",
    "    plt.legend()\n",
    "    plt.xlabel(\"FPR (1 - Specificity)\")\n",
    "    plt.ylabel(\"TPR (Sensitivity)\")\n",
    "    plt.title(\"ROC Curve\")\n",
    "    plt.show()\n",
    "   \n",
    "\n",
    "    # predicting the number of important features \n",
    "    # https://stackoverflow.com/questions/50526898/how-to-get-feature-importance-in-naive-bayes\n",
    "    \n",
    "    neg_class_prob_sorted = nb_clf.feature_log_prob_[0, :].argsort()\n",
    "    pos_class_prob_sorted = nb_clf.feature_log_prob_[1, :].argsort()\n",
    "\n",
    "    print(\"Negative Class Important Features \\n\",np.take(features_names, neg_class_prob_sorted[:10]))\n",
    "    print(\"******************************************************************************\")\n",
    "    print(\"Positive Class Important Features \\n\",np.take(features_names, pos_class_prob_sorted[:10]))\n",
    "\n",
    "    # Confusion matrix evaluations \n",
    "    \n",
    "    print(\"=\"*100)\n",
    "    y_train_pred = (np.array(y_train_pred_prob) >= cutoff_val).astype(int)\n",
    "    y_test_pred = (np.array(y_test_pred_prob) >= cutoff_val).astype(int)\n",
    "    f, (ax1, ax2) = plt.subplots(2, 1,figsize=[8,8])\n",
    "    print(\"Confusion matrix \\n\")\n",
    "    sns.heatmap(data=confusion_matrix(y_train, y_train_pred),annot=True,fmt=\"\",ax=ax1)\n",
    "    ax1.set_title('Train confusion matrix')\n",
    "    sns.heatmap(data=confusion_matrix(y_test, y_test_pred),annot=True,fmt=\"\",ax=ax2)\n",
    "    ax2.set_title('Test confusion matrix')\n",
    "    plt.show()\n",
    "    return (auc(train_fpr, train_tpr),auc(test_fpr, test_tpr))\n",
    "\n"
   ]
  },
  {
   "cell_type": "code",
   "execution_count": 0,
   "metadata": {
    "colab": {},
    "colab_type": "code",
    "id": "AsOTaIVW9CyK"
   },
   "outputs": [],
   "source": [
    "def print_dimension_info(_obj,_name):\n",
    "    data_list= ['Training count : ','Cross Validation count : ','Test count : '] * len(_obj)\n",
    "    col_num = []\n",
    "    row_num = list()\n",
    "    for i in _obj:\n",
    "        row_num.append(i.shape[0])\n",
    "        col_num.append(i.shape[1])\n",
    "    print(\"The Values for : \", _name)\n",
    "    print(\"\\nRow Values are : \",list(zip(data_list,row_num)))\n",
    "    print(\"\\nColumn Values are : \",list(zip(data_list,col_num)))\n",
    "    print(\"\\nType of matrices: \",[type(x) for x in _obj])\n",
    "    print(\"*\"*100)"
   ]
  },
  {
   "cell_type": "code",
   "execution_count": 0,
   "metadata": {
    "colab": {},
    "colab_type": "code",
    "id": "va5BibgE-CvN"
   },
   "outputs": [],
   "source": [
    "\n",
    "def one_hot_encoder(df_col_train,df_col_cv,df_col_test,vocab=None,case=False,_bin=True):\n",
    "    encoder_obj = CountVectorizer(vocabulary = vocab,lowercase=case,binary=_bin)\n",
    "    encoder_obj.fit(df_col_train)\n",
    "    print(\"features are : \\n\",encoder_obj.get_feature_names())\n",
    "    \n",
    "    return encoder_obj.transform(df_col_train.values),encoder_obj.transform(df_col_cv.values),encoder_obj.transform(df_col_test.values),encoder_obj.get_feature_names()\n"
   ]
  },
  {
   "cell_type": "markdown",
   "metadata": {
    "colab_type": "text",
    "id": "VG7SrQdCCypn"
   },
   "source": [
    "<h2>2.2 Make Data Model Ready: encoding numerical, categorical features</h2>"
   ]
  },
  {
   "cell_type": "code",
   "execution_count": 0,
   "metadata": {
    "colab": {},
    "colab_type": "code",
    "id": "cTlBv2kmCypo"
   },
   "outputs": [],
   "source": [
    "# please write all the code with proper documentation, and proper titles for each subsection\n",
    "# go through documentations and blogs before you start coding \n",
    "# first figure out what to do, and then think about how to do.\n",
    "# reading and understanding error messages will be very much helpfull in debugging your code\n",
    "# make sure you featurize train and test data separatly\n",
    "\n",
    "# when you plot any graph make sure you use \n",
    "    # a. Title, that describes your plot, this will be very helpful to the reader\n",
    "    # b. Legends if needed\n",
    "    # c. X-axis label\n",
    "    # d. Y-axis label"
   ]
  },
  {
   "cell_type": "code",
   "execution_count": 49,
   "metadata": {
    "colab": {
     "base_uri": "https://localhost:8080/",
     "height": 51
    },
    "colab_type": "code",
    "id": "dQunmy9FCypT",
    "outputId": "d4e3350a-f516-4bf1-d40b-6f0cb6088c24"
   },
   "outputs": [
    {
     "name": "stdout",
     "output_type": "stream",
     "text": [
      "features are : \n",
      " ['Dr', 'Mr', 'Mrs', 'Ms', 'Teacher']\n"
     ]
    }
   ],
   "source": [
    "# Vectorizing the teacher prefix input\n",
    "x_train_tp,x_cv_tp,x_test_tp,tp_feat_names = one_hot_encoder(df_col_train=x_train['teacher_prefix'],\\\n",
    "                                               df_col_cv=x_cv['teacher_prefix'],\\\n",
    "                                               df_col_test=x_test['teacher_prefix'])\n",
    "                                              "
   ]
  },
  {
   "cell_type": "code",
   "execution_count": 50,
   "metadata": {
    "colab": {
     "base_uri": "https://localhost:8080/",
     "height": 170
    },
    "colab_type": "code",
    "id": "9iQelsT_hdls",
    "outputId": "c1356a76-5ebf-4fd2-d0dd-b16a05518aa4"
   },
   "outputs": [
    {
     "name": "stdout",
     "output_type": "stream",
     "text": [
      "  (0, 3)\t1\n",
      "  (1, 3)\t1\n",
      "  (2, 2)\t1\n",
      "  (3, 3)\t1\n",
      "  (4, 2)\t1\n",
      "  (5, 2)\t1\n",
      "  (6, 3)\t1\n",
      "  (7, 3)\t1\n",
      "  (8, 1)\t1\n"
     ]
    }
   ],
   "source": [
    "print(x_train_tp[1:10])"
   ]
  },
  {
   "cell_type": "code",
   "execution_count": 51,
   "metadata": {
    "colab": {
     "base_uri": "https://localhost:8080/",
     "height": 71
    },
    "colab_type": "code",
    "id": "IoZa6IJig8sy",
    "outputId": "3ff156be-8309-4145-d3ce-ccdcb990756d"
   },
   "outputs": [
    {
     "name": "stdout",
     "output_type": "stream",
     "text": [
      "features are : \n",
      " ['AK', 'AL', 'AR', 'AZ', 'CA', 'CO', 'CT', 'DC', 'DE', 'FL', 'GA', 'HI', 'IA', 'ID', 'IL', 'IN', 'KS', 'KY', 'LA', 'MA', 'MD', 'ME', 'MI', 'MN', 'MO', 'MS', 'MT', 'NC', 'ND', 'NE', 'NH', 'NJ', 'NM', 'NV', 'NY', 'OH', 'OK', 'OR', 'PA', 'RI', 'SC', 'SD', 'TN', 'TX', 'UT', 'VA', 'VT', 'WA', 'WI', 'WV', 'WY']\n"
     ]
    }
   ],
   "source": [
    "# vectorizing the school state column\n",
    "x_train_ss,x_cv_ss,x_test_ss,ss_feat_names = one_hot_encoder(df_col_train=x_train['school_state'],df_col_cv=x_cv['school_state'],\\\n",
    "                                               df_col_test=x_test['school_state'])\n"
   ]
  },
  {
   "cell_type": "code",
   "execution_count": 52,
   "metadata": {
    "colab": {
     "base_uri": "https://localhost:8080/",
     "height": 51
    },
    "colab_type": "code",
    "id": "j61jooskhmLB",
    "outputId": "328948ee-8046-4a00-f1ea-180e48c77204"
   },
   "outputs": [
    {
     "name": "stdout",
     "output_type": "stream",
     "text": [
      "features are : \n",
      " ['Grades PreK-2', 'Grades 9-12', 'Grades 6-8', 'Grades 3-5']\n"
     ]
    }
   ],
   "source": [
    "# Vectorizing the project_grade_category\n",
    "x_train_pgc,x_cv_pgc,x_test_pgc,pgc_feat_names = one_hot_encoder(df_col_train=x_train['project_grade_category'],df_col_cv=x_cv['project_grade_category'],\\\n",
    "                                                  df_col_test=x_test['project_grade_category'],vocab=list(x_train['project_grade_category'].unique()))\n"
   ]
  },
  {
   "cell_type": "code",
   "execution_count": 53,
   "metadata": {
    "colab": {
     "base_uri": "https://localhost:8080/",
     "height": 51
    },
    "colab_type": "code",
    "id": "ap04-FhwiTPg",
    "outputId": "2391dc69-ed53-4c57-e64b-08eb7b564de9"
   },
   "outputs": [
    {
     "name": "stdout",
     "output_type": "stream",
     "text": [
      "features are : \n",
      " ['AppliedLearning', 'Health_Sports', 'Care_Hunger', 'SpecialNeeds', 'Literacy_Language', 'History_Civics', 'Music_Arts', 'Warmth', 'Math_Science']\n"
     ]
    }
   ],
   "source": [
    "# Vectorizing the project subject category\n",
    "x_train_cat,x_cv_cat,x_test_cat,cat_feat_names = one_hot_encoder(df_col_train=x_train['clean_categories'],df_col_cv=x_cv['clean_categories'],\\\n",
    "                                                  df_col_test=x_test['clean_categories'],vocab=retreive_vocab(_data=x_train['clean_categories'].values))\n",
    "\n"
   ]
  },
  {
   "cell_type": "code",
   "execution_count": 54,
   "metadata": {
    "colab": {
     "base_uri": "https://localhost:8080/",
     "height": 71
    },
    "colab_type": "code",
    "id": "2fslTS5_jYJx",
    "outputId": "2a768ecc-3685-4482-bf58-8962bebffa7a"
   },
   "outputs": [
    {
     "name": "stdout",
     "output_type": "stream",
     "text": [
      "features are : \n",
      " ['ForeignLanguages', 'NutritionEducation', 'SpecialNeeds', 'Other', 'History_Geography', 'CommunityService', 'Gym_Fitness', 'PerformingArts', 'Warmth', 'TeamSports', 'Care_Hunger', 'Mathematics', 'FinancialLiteracy', 'AppliedSciences', 'Music', 'EnvironmentalScience', 'College_CareerPrep', 'SocialSciences', 'Civics_Government', 'Literature_Writing', 'ESL', 'ParentInvolvement', 'Health_Wellness', 'CharacterEducation', 'EarlyDevelopment', 'Economics', 'VisualArts', 'Extracurricular', 'Health_LifeScience', 'Literacy']\n"
     ]
    }
   ],
   "source": [
    "# Vectorizing the project subject sub category\n",
    "x_train_sub,x_cv_sub,x_test_sub,sub_feat_names = one_hot_encoder(df_col_train=x_train['clean_subcategories'],df_col_cv=x_cv['clean_subcategories'],\\\n",
    "                                                  df_col_test=x_test['clean_subcategories'],vocab=retreive_vocab(_data=x_train['clean_subcategories'].values))"
   ]
  },
  {
   "cell_type": "markdown",
   "metadata": {
    "colab_type": "text",
    "id": "2bQMPh66hdl3"
   },
   "source": [
    "Let's check if the data distribution is close to normal distribution. So we gonna plot the price random variable and teacher number of previous project count and we will checking if they are close to normal distribution or not. If they are close to normal distribution then we gonna use gaussain naive bayes as it will give more accurate probablities values. else we might have to bin them and then proceed further with multinomial naive bayes. Also binning removes noise from data "
   ]
  },
  {
   "cell_type": "code",
   "execution_count": 0,
   "metadata": {
    "colab": {},
    "colab_type": "code",
    "id": "3zp_KMHchdl4"
   },
   "outputs": [],
   "source": [
    "# cutting the real valued functions on the basis every tenth percentiles\n",
    "# Adaptive Binning \n",
    "\n",
    "def bin_data(s_train,s_cv,s_test):\n",
    "    # https://towardsdatascience.com/understanding-feature-engineering-part-1-continuous-numeric-data-da4e47099a7b\n",
    "    \n",
    "    quantile_list = [0.,.1, .2,.3,.4, .5,.6 ,.7,.8,.9, 1.]\n",
    "    quantiles = s_train.quantile(quantile_list)\n",
    "    print(quantiles)\n",
    "    fig, ax = plt.subplots()\n",
    "    s_train.hist(bins=80, color='#A9C5D3', edgecolor='black', grid=False)\n",
    "    s_cv.hist(bins=50,color='blue',edgecolor='black',grid=False)\n",
    "    s_test.hist(bins=60,color='green',edgecolor='black',grid=False)\n",
    "    for quantile in quantiles:\n",
    "        qvl = plt.axvline(quantile, color='r')\n",
    "    ax.legend([qvl], ['Quantiles'], fontsize=10)\n",
    "    ax.set_title('distribution per user Histogram with Quantiles', \n",
    "                 fontsize=12)\n",
    "    ax.set_xlabel('distribution', fontsize=12)\n",
    "    ax.set_ylabel('Frequency', fontsize=12)\n",
    "    \n",
    "    \n",
    "    s_train = pd.qcut(s_train,q=quantile_list,duplicates='drop')\n",
    "    s_cv = pd.qcut(s_cv,q=quantile_list,duplicates = 'drop')\n",
    "    s_test = pd.qcut(s_test,q=quantile_list,duplicates='drop')\n",
    "    \n",
    "    return s_train,s_cv,s_test"
   ]
  },
  {
   "cell_type": "code",
   "execution_count": 56,
   "metadata": {
    "colab": {
     "base_uri": "https://localhost:8080/",
     "height": 502
    },
    "colab_type": "code",
    "id": "hMp3bwRvhdl6",
    "outputId": "9d732c24-62ea-4f27-f74a-a9c9df40a79e"
   },
   "outputs": [
    {
     "name": "stdout",
     "output_type": "stream",
     "text": [
      "0.0       0.660\n",
      "0.1      38.515\n",
      "0.2      83.980\n",
      "0.3     123.290\n",
      "0.4     164.020\n",
      "0.5     206.910\n",
      "0.6     266.930\n",
      "0.7     334.975\n",
      "0.8     428.680\n",
      "0.9     619.300\n",
      "1.0    9999.000\n",
      "Name: price, dtype: float64\n"
     ]
    },
    {
     "data": {
      "image/png": "[encoded data removed]",
      "text/plain": [
       "<Figure size 432x288 with 1 Axes>"
      ]
     },
     "metadata": {
      "tags": []
     },
     "output_type": "display_data"
    }
   ],
   "source": [
    "x_train_price,x_cv_price,x_test_price = bin_data(s_train = x_train['price'],\\\n",
    "                                                 s_cv = x_cv['price'],s_test=x_test['price'])\n",
    "\n"
   ]
  },
  {
   "cell_type": "code",
   "execution_count": 57,
   "metadata": {
    "colab": {
     "base_uri": "https://localhost:8080/",
     "height": 85
    },
    "colab_type": "code",
    "id": "Ti7fYWOGhdl8",
    "outputId": "6210f31f-8ccb-4e2f-824e-06ff35d4193c"
   },
   "outputs": [
    {
     "data": {
      "text/plain": [
       "array(['(428.68, 619.3]', '(38.515, 83.98]', '(83.98, 123.29]',\n",
       "       '(619.3, 9999.0]', '(123.29, 164.02]', '(266.93, 334.975]',\n",
       "       '(0.659, 38.515]', '(164.02, 206.91]', '(206.91, 266.93]',\n",
       "       '(334.975, 428.68]'], dtype=object)"
      ]
     },
     "execution_count": 57,
     "metadata": {
      "tags": []
     },
     "output_type": "execute_result"
    }
   ],
   "source": [
    "x_train_price.astype(str).unique()"
   ]
  },
  {
   "cell_type": "code",
   "execution_count": 58,
   "metadata": {
    "colab": {
     "base_uri": "https://localhost:8080/",
     "height": 71
    },
    "colab_type": "code",
    "id": "HOBF3aYlhdl_",
    "outputId": "5a9e7c9f-902c-470e-8684-2385ba0ec057"
   },
   "outputs": [
    {
     "name": "stdout",
     "output_type": "stream",
     "text": [
      "features are : \n",
      " ['(428.68, 619.3]', '(38.515, 83.98]', '(83.98, 123.29]', '(619.3, 9999.0]', '(123.29, 164.02]', '(266.93, 334.975]', '(0.659, 38.515]', '(164.02, 206.91]', '(206.91, 266.93]', '(334.975, 428.68]']\n"
     ]
    }
   ],
   "source": [
    "x_train_price,x_cv_price,x_test_price,price_feat_names = one_hot_encoder(df_col_train=x_train_price.astype(str),\\\n",
    "                                                        df_col_cv=x_cv_price.astype(str),\\\n",
    "                                                        df_col_test=x_test_price.astype(str),vocab=x_train_price.astype(str).unique())\n"
   ]
  },
  {
   "cell_type": "code",
   "execution_count": 59,
   "metadata": {
    "colab": {
     "base_uri": "https://localhost:8080/",
     "height": 502
    },
    "colab_type": "code",
    "id": "PfoBcYEBhdmF",
    "outputId": "c6a0757b-63b9-4add-fc41-d37067da1dda"
   },
   "outputs": [
    {
     "name": "stdout",
     "output_type": "stream",
     "text": [
      "0.0      0.0\n",
      "0.1      0.0\n",
      "0.2      0.0\n",
      "0.3      1.0\n",
      "0.4      1.0\n",
      "0.5      2.0\n",
      "0.6      4.0\n",
      "0.7      6.5\n",
      "0.8     12.0\n",
      "0.9     28.0\n",
      "1.0    437.0\n",
      "Name: teacher_number_of_previously_posted_projects, dtype: float64\n"
     ]
    },
    {
     "data": {
      "image/png": "[encoded data removed]",
      "text/plain": [
       "<Figure size 432x288 with 1 Axes>"
      ]
     },
     "metadata": {
      "tags": []
     },
     "output_type": "display_data"
    }
   ],
   "source": [
    "x_train_pp_count,x_cv_pp_count,x_test_pp_count = bin_data(s_train = x_train['teacher_number_of_previously_posted_projects'],\\\n",
    "                                                         s_cv = x_cv['teacher_number_of_previously_posted_projects'],\\\n",
    "                                                         s_test = x_test['teacher_number_of_previously_posted_projects'],\\\n",
    "                                                         )"
   ]
  },
  {
   "cell_type": "code",
   "execution_count": 60,
   "metadata": {
    "colab": {
     "base_uri": "https://localhost:8080/",
     "height": 51
    },
    "colab_type": "code",
    "id": "uGYHPajshdmH",
    "outputId": "0546bca0-614a-4a41-da47-77fff7e60c54"
   },
   "outputs": [
    {
     "data": {
      "text/plain": [
       "array(['(-0.001, 1.0]', '(1.0, 2.0]', '(28.0, 437.0]', '(2.0, 4.0]',\n",
       "       '(4.0, 6.5]', '(12.0, 28.0]', '(6.5, 12.0]'], dtype=object)"
      ]
     },
     "execution_count": 60,
     "metadata": {
      "tags": []
     },
     "output_type": "execute_result"
    }
   ],
   "source": [
    "x_train_pp_count.astype(str).unique()"
   ]
  },
  {
   "cell_type": "code",
   "execution_count": 61,
   "metadata": {
    "colab": {
     "base_uri": "https://localhost:8080/",
     "height": 51
    },
    "colab_type": "code",
    "id": "9-ptgGu7hdmJ",
    "outputId": "8b61746b-abfc-4247-ec4b-9c01de17881d"
   },
   "outputs": [
    {
     "name": "stdout",
     "output_type": "stream",
     "text": [
      "features are : \n",
      " ['(-0.001, 1.0]', '(1.0, 2.0]', '(28.0, 437.0]', '(2.0, 4.0]', '(4.0, 6.5]', '(12.0, 28.0]', '(6.5, 12.0]']\n"
     ]
    }
   ],
   "source": [
    "x_train_pp_count,x_cv_pp_count,x_test_pp_count,pp_feat_names = one_hot_encoder(df_col_train=x_train_pp_count.astype(str),\\\n",
    "                                                                df_col_cv=x_cv_pp_count.astype(str),\\\n",
    "                                                                df_col_test=x_test_pp_count.astype(str),\\\n",
    "                                                                vocab=x_train_pp_count.astype(str).unique())"
   ]
  },
  {
   "cell_type": "code",
   "execution_count": 62,
   "metadata": {
    "colab": {
     "base_uri": "https://localhost:8080/",
     "height": 969
    },
    "colab_type": "code",
    "id": "slDsHxGylh7z",
    "outputId": "cc376593-6834-4617-91c4-f9919a4eb60c"
   },
   "outputs": [
    {
     "name": "stdout",
     "output_type": "stream",
     "text": [
      "The Values for :  Teacher Prefix\n",
      "\n",
      "Row Values are :  [('Training count : ', 69916), ('Cross Validation count : ', 17480), ('Test count : ', 21849)]\n",
      "\n",
      "Column Values are :  [('Training count : ', 5), ('Cross Validation count : ', 5), ('Test count : ', 5)]\n",
      "\n",
      "Type of matrices:  [<class 'scipy.sparse.csr.csr_matrix'>, <class 'scipy.sparse.csr.csr_matrix'>, <class 'scipy.sparse.csr.csr_matrix'>]\n",
      "****************************************************************************************************\n",
      "The Values for :  Schol State Column\n",
      "\n",
      "Row Values are :  [('Training count : ', 69916), ('Cross Validation count : ', 17480), ('Test count : ', 21849)]\n",
      "\n",
      "Column Values are :  [('Training count : ', 51), ('Cross Validation count : ', 51), ('Test count : ', 51)]\n",
      "\n",
      "Type of matrices:  [<class 'scipy.sparse.csr.csr_matrix'>, <class 'scipy.sparse.csr.csr_matrix'>, <class 'scipy.sparse.csr.csr_matrix'>]\n",
      "****************************************************************************************************\n",
      "The Values for :  Project Grade Category\n",
      "\n",
      "Row Values are :  [('Training count : ', 69916), ('Cross Validation count : ', 17480), ('Test count : ', 21849)]\n",
      "\n",
      "Column Values are :  [('Training count : ', 4), ('Cross Validation count : ', 4), ('Test count : ', 4)]\n",
      "\n",
      "Type of matrices:  [<class 'scipy.sparse.csr.csr_matrix'>, <class 'scipy.sparse.csr.csr_matrix'>, <class 'scipy.sparse.csr.csr_matrix'>]\n",
      "****************************************************************************************************\n",
      "The Values for :  Project subject category\n",
      "\n",
      "Row Values are :  [('Training count : ', 69916), ('Cross Validation count : ', 17480), ('Test count : ', 21849)]\n",
      "\n",
      "Column Values are :  [('Training count : ', 9), ('Cross Validation count : ', 9), ('Test count : ', 9)]\n",
      "\n",
      "Type of matrices:  [<class 'scipy.sparse.csr.csr_matrix'>, <class 'scipy.sparse.csr.csr_matrix'>, <class 'scipy.sparse.csr.csr_matrix'>]\n",
      "****************************************************************************************************\n",
      "The Values for :  Project subject sub category\n",
      "\n",
      "Row Values are :  [('Training count : ', 69916), ('Cross Validation count : ', 17480), ('Test count : ', 21849)]\n",
      "\n",
      "Column Values are :  [('Training count : ', 30), ('Cross Validation count : ', 30), ('Test count : ', 30)]\n",
      "\n",
      "Type of matrices:  [<class 'scipy.sparse.csr.csr_matrix'>, <class 'scipy.sparse.csr.csr_matrix'>, <class 'scipy.sparse.csr.csr_matrix'>]\n",
      "****************************************************************************************************\n",
      "The Values for :  Price\n",
      "\n",
      "Row Values are :  [('Training count : ', 69916), ('Cross Validation count : ', 17480), ('Test count : ', 21849)]\n",
      "\n",
      "Column Values are :  [('Training count : ', 10), ('Cross Validation count : ', 10), ('Test count : ', 10)]\n",
      "\n",
      "Type of matrices:  [<class 'scipy.sparse.csr.csr_matrix'>, <class 'scipy.sparse.csr.csr_matrix'>, <class 'scipy.sparse.csr.csr_matrix'>]\n",
      "****************************************************************************************************\n",
      "The Values for :  Count of previous project submitted by teacher\n",
      "\n",
      "Row Values are :  [('Training count : ', 69916), ('Cross Validation count : ', 17480), ('Test count : ', 21849)]\n",
      "\n",
      "Column Values are :  [('Training count : ', 7), ('Cross Validation count : ', 7), ('Test count : ', 7)]\n",
      "\n",
      "Type of matrices:  [<class 'scipy.sparse.csr.csr_matrix'>, <class 'scipy.sparse.csr.csr_matrix'>, <class 'scipy.sparse.csr.csr_matrix'>]\n",
      "****************************************************************************************************\n"
     ]
    }
   ],
   "source": [
    "# printing the dimensions of vectorized of dataset\n",
    "print_dimension_info(_obj=[x_train_tp,x_cv_tp,x_test_tp],_name='Teacher Prefix')\n",
    "print_dimension_info(_obj=[x_train_ss,x_cv_ss,x_test_ss],_name='Schol State Column')\n",
    "print_dimension_info(_obj=[x_train_pgc,x_cv_pgc,x_test_pgc],_name = 'Project Grade Category')\n",
    "print_dimension_info(_obj=[x_train_cat,x_cv_cat,x_test_cat],_name= 'Project subject category')\n",
    "print_dimension_info(_obj=[x_train_sub,x_cv_sub,x_test_sub],_name= 'Project subject sub category')\n",
    "print_dimension_info(_obj=[x_train_price,x_cv_price,x_test_price],_name = 'Price')\n",
    "print_dimension_info(_obj=[x_train_pp_count,x_cv_pp_count,x_test_pp_count],_name='Count of previous project submitted by teacher')\n"
   ]
  },
  {
   "cell_type": "code",
   "execution_count": 63,
   "metadata": {
    "colab": {
     "base_uri": "https://localhost:8080/",
     "height": 153
    },
    "colab_type": "code",
    "id": "_RAxn5477JM1",
    "outputId": "e4883faf-aba5-42c2-f682-2786830d4721"
   },
   "outputs": [
    {
     "name": "stdout",
     "output_type": "stream",
     "text": [
      "The Values for :  Stacked sparse matrices dimensions\n",
      "\n",
      "Row Values are :  [('Training count : ', 69916), ('Cross Validation count : ', 17480), ('Test count : ', 21849)]\n",
      "\n",
      "Column Values are :  [('Training count : ', 116), ('Cross Validation count : ', 116), ('Test count : ', 116)]\n",
      "\n",
      "Type of matrices:  [<class 'scipy.sparse.csr.csr_matrix'>, <class 'scipy.sparse.csr.csr_matrix'>, <class 'scipy.sparse.csr.csr_matrix'>]\n",
      "****************************************************************************************************\n"
     ]
    }
   ],
   "source": [
    "# merge two sparse matrices: https://stackoverflow.com/a/19710648/4084039\n",
    "from scipy.sparse import hstack\n",
    "# with the same hstack function we can concatenate a sparse matrix and a dense matirx :)\n",
    "x_train_vec = hstack((x_train_tp, x_train_ss, x_train_pgc, x_train_cat, x_train_sub, x_train_price, x_train_pp_count),format='csr')\n",
    "x_cv_vec = hstack((x_cv_tp, x_cv_ss, x_cv_pgc, x_cv_cat, x_cv_sub, x_cv_price, x_cv_pp_count),format='csr')\n",
    "x_test_vec = hstack((x_test_tp, x_test_ss, x_test_pgc, x_test_cat, x_test_sub, x_test_price, x_test_pp_count),format='csr')\n",
    "\n",
    "print_dimension_info(_obj=[x_train_vec,x_cv_vec,x_test_vec],_name='Stacked sparse matrices dimensions')\n",
    "\n"
   ]
  },
  {
   "cell_type": "markdown",
   "metadata": {
    "colab_type": "text",
    "id": "V8pUeQFiCypq"
   },
   "source": [
    "<h2>2.3 Make Data Model Ready: encoding essay, and project_title</h2>"
   ]
  },
  {
   "cell_type": "code",
   "execution_count": 0,
   "metadata": {
    "colab": {},
    "colab_type": "code",
    "id": "7L7e-_EfCypq"
   },
   "outputs": [],
   "source": [
    "# please write all the code with proper documentation, and proper titles for each subsection\n",
    "# go through documentations and blogs before you start coding\n",
    "# first figure out what to do, and then think about how to do.\n",
    "# reading and understanding error messages will be very much helpfull in debugging your code\n",
    "# make sure you featurize train and test data separatly\n",
    "\n",
    "# when you plot any graph make sure you use \n",
    "    # a. Title, that describes your plot, this will be very helpful to the reader\n",
    "    # b. Legends if needed\n",
    "    # c. X-axis label\n",
    "    # d. Y-axis label"
   ]
  },
  {
   "cell_type": "code",
   "execution_count": 65,
   "metadata": {
    "colab": {
     "base_uri": "https://localhost:8080/",
     "height": 289
    },
    "colab_type": "code",
    "id": "11Uu3IBkL5Nd",
    "outputId": "f191b521-b971-4f8e-a330-0e4c718945e8"
   },
   "outputs": [
    {
     "name": "stdout",
     "output_type": "stream",
     "text": [
      "The Values for :  Dimensions after BOW on Title :\n",
      "\n",
      "Row Values are :  [('Training count : ', 69916), ('Cross Validation count : ', 17480), ('Test count : ', 21849)]\n",
      "\n",
      "Column Values are :  [('Training count : ', 2469), ('Cross Validation count : ', 2469), ('Test count : ', 2469)]\n",
      "\n",
      "Type of matrices:  [<class 'scipy.sparse.csr.csr_matrix'>, <class 'scipy.sparse.csr.csr_matrix'>, <class 'scipy.sparse.csr.csr_matrix'>]\n",
      "****************************************************************************************************\n",
      "The Values for :  Dimensions after BOW on essay\n",
      "\n",
      "Row Values are :  [('Training count : ', 69916), ('Cross Validation count : ', 17480), ('Test count : ', 21849)]\n",
      "\n",
      "Column Values are :  [('Training count : ', 3000), ('Cross Validation count : ', 3000), ('Test count : ', 3000)]\n",
      "\n",
      "Type of matrices:  [<class 'scipy.sparse.csr.csr_matrix'>, <class 'scipy.sparse.csr.csr_matrix'>, <class 'scipy.sparse.csr.csr_matrix'>]\n",
      "****************************************************************************************************\n"
     ]
    }
   ],
   "source": [
    "# Bag of words vectorization for train,cv and test data\n",
    "bow_title_train,bow_title_cv,bow_title_test,bow_title_features = vectorize_text(encoding_type='BOW',train_text = x_train['title'],\\\n",
    "                                                             cv_text =x_cv['title'] , test_text =x_test['title'] )\n",
    "\n",
    "print_dimension_info(_obj=[bow_title_train,bow_title_cv,bow_title_test],_name='Dimensions after BOW on Title :')\n",
    "\n",
    "bow_essay_train,bow_essay_cv,bow_essay_test,bow_essay_features = vectorize_text(encoding_type='BOW',train_text = x_train['essay'],\\\n",
    "                                                             cv_text =x_cv['essay'] , test_text =x_test['essay'] )\n",
    "print_dimension_info(_obj=[bow_essay_train,bow_essay_cv,bow_essay_test],_name='Dimensions after BOW on essay')\n"
   ]
  },
  {
   "cell_type": "code",
   "execution_count": 78,
   "metadata": {
    "colab": {
     "base_uri": "https://localhost:8080/",
     "height": 153
    },
    "colab_type": "code",
    "id": "-V8LpEyyL5N6",
    "outputId": "e127eae6-714d-444b-c03f-e0c418bf24c6"
   },
   "outputs": [
    {
     "name": "stdout",
     "output_type": "stream",
     "text": [
      "The Values for :  The Final Matrix dimension info after BOW\n",
      "\n",
      "Row Values are :  [('Training count : ', 69916), ('Cross Validation count : ', 17480), ('Test count : ', 21849)]\n",
      "\n",
      "Column Values are :  [('Training count : ', 5585), ('Cross Validation count : ', 5585), ('Test count : ', 5585)]\n",
      "\n",
      "Type of matrices:  [<class 'scipy.sparse.csr.csr_matrix'>, <class 'scipy.sparse.csr.csr_matrix'>, <class 'scipy.sparse.csr.csr_matrix'>]\n",
      "****************************************************************************************************\n"
     ]
    }
   ],
   "source": [
    "# Stacking all the BOW models with existing data frame - \n",
    "\n",
    "final_x_train = hstack((x_train_vec,bow_title_train,bow_essay_train),format='csr')\n",
    "final_x_cv = hstack((x_cv_vec,bow_title_cv,bow_essay_cv),format='csr')\n",
    "final_x_test = hstack((x_test_vec,bow_title_test,bow_essay_test),format='csr')\n",
    "\n",
    "# stacking all their features also so that we can interpret the features importance here.\n",
    "stacked_feature_list = [tp_feat_names,ss_feat_names,pgc_feat_names,cat_feat_names,sub_feat_names,\\\n",
    "                ['price range '+x for x in price_feat_names],['pp count '+x for x in pp_feat_names] ]\n",
    "feature_list = list()\n",
    "for features in stacked_feature_list:\n",
    "    feature_list.extend(features)\n",
    "#print(\"All general features are: \\n\",feature_list)\n",
    "# stacking for features for bow model\n",
    "bow_feature_list = list()\n",
    "bow_feature_list.extend(feature_list)\n",
    "for features in [bow_title_features,bow_essay_features]:\n",
    "    bow_feature_list.extend(features)\n",
    "\n",
    "print_dimension_info(_obj=[final_x_train,final_x_cv,final_x_test],_name='The Final Matrix dimension info after BOW')"
   ]
  },
  {
   "cell_type": "markdown",
   "metadata": {
    "colab_type": "text",
    "id": "UL8bHrflCyps"
   },
   "source": [
    "<h2>2.4 Appling NB() on different kind of featurization as mentioned in the instructions</h2>\n",
    "\n",
    "<br>Apply Naive Bayes on different kind of featurization as mentioned in the instructions\n",
    "<br> For Every model that you work on make sure you do the step 2 and step 3 of instrucations"
   ]
  },
  {
   "cell_type": "code",
   "execution_count": 0,
   "metadata": {
    "colab": {},
    "colab_type": "code",
    "id": "Tsay467cCypt"
   },
   "outputs": [],
   "source": [
    "# please write all the code with proper documentation, and proper titles for each subsection\n",
    "# go through documentations and blogs before you start coding\n",
    "# first figure out what to do, and then think about how to do.\n",
    "# reading and understanding error messages will be very much helpfull in debugging your code. \n",
    "\n",
    "# when you plot any graph make sure you use \n",
    "    # a. Title, that describes your plot, this will be very helpful to the reader\n",
    "    # b. Legends if needed\n",
    "    # c. X-axis label\n",
    "    # d. Y-axis label"
   ]
  },
  {
   "cell_type": "markdown",
   "metadata": {
    "colab_type": "text",
    "id": "B1dIm8PiCypw"
   },
   "source": [
    "### 2.4.1 Applying NB brute force on BOW,<font color='red'> SET 1</font>"
   ]
  },
  {
   "cell_type": "code",
   "execution_count": 80,
   "metadata": {
    "colab": {
     "base_uri": "https://localhost:8080/",
     "height": 295
    },
    "colab_type": "code",
    "id": "nmdkqJdjL5OF",
    "outputId": "f9eb2168-8276-49a1-9b3c-c49c7a06e7e1"
   },
   "outputs": [
    {
     "data": {
      "image/png": "[encoded data removed]",
      "text/plain": [
       "<Figure size 432x288 with 1 Axes>"
      ]
     },
     "metadata": {
      "tags": []
     },
     "output_type": "display_data"
    }
   ],
   "source": [
    "# cross validation with BOW model\n",
    "\n",
    "_hypertuning(x_train = final_x_train,y_train=y_train.values,x_cv=final_x_cv,y_cv=y_cv.values,tune_type='gridsearch')\n"
   ]
  },
  {
   "cell_type": "code",
   "execution_count": 81,
   "metadata": {
    "colab": {
     "base_uri": "https://localhost:8080/",
     "height": 425
    },
    "colab_type": "code",
    "id": "W2g_YqLehdma",
    "outputId": "e2617075-488c-4e25-db15-102c47ffe3dc"
   },
   "outputs": [
    {
     "name": "stdout",
     "output_type": "stream",
     "text": [
      "+--------------------------+---------------------+---------------------+---------------------------+\n",
      "| Sensitivity/Recall (TPR) | Specificity (1-FPR) |   Threshold Value   | Log Probability threshold |\n",
      "+--------------------------+---------------------+---------------------+---------------------------+\n",
      "|           1.0            |         0.0         |         0.0         |            -inf           |\n",
      "|    0.890649228072541     | 0.29580657347941064 | 0.05000000000000001 |     -2.995732273553991    |\n",
      "|    0.8623339850333716    |  0.3494522100491122 | 0.10000000000000002 |    -2.3025850929940455    |\n",
      "|    0.8430526528686038    |  0.3849641103135625 | 0.15000000000000002 |     -1.897119984885881    |\n",
      "|    0.8291647003303445    |  0.4064979221760484 |         0.2         |    -1.6094379124341003    |\n",
      "|    0.8152767477920853    |  0.4238760861352474 |         0.25        |    -1.3862943611198906    |\n",
      "|    0.8035461471044293    | 0.44276539478655086 | 0.30000000000000004 |     -1.203972804325936    |\n",
      "|    0.7920852153980988    | 0.45787684170759346 | 0.35000000000000003 |    -1.0498221244986776    |\n",
      "|    0.7808265354277624    |  0.4726105024556101 |         0.4         |     -0.916290731874155    |\n",
      "|    0.768624014022787     | 0.48885530789573106 |         0.45        |    -0.7985076962177716    |\n",
      "|    0.7584440099777523    |  0.5020778239516434 |         0.5         |    -0.6931471805599453    |\n",
      "|    0.7449605609114811    |  0.5187004155647903 |         0.55        |    -0.5978370007556204    |\n",
      "|    0.7320164498078608    |  0.5292784284095202 |  0.6000000000000001 |    -0.5108256237659905    |\n",
      "|    0.7203532663655363    |  0.5443898753305629 |         0.65        |    -0.4307829160924542    |\n",
      "|    0.7086226656778803    |  0.5644125425009445 |  0.7000000000000001 |    -0.3566749439387323    |\n",
      "|    0.6927121957796805    |  0.5821684926331696 |         0.75        |    -0.2876820724517809    |\n",
      "|    0.6759253016921729    |  0.5972799395542123 |         0.8         |    -0.2231435513142097    |\n",
      "|    0.6534079417515001    |  0.6233471854930109 |  0.8500000000000001 |    -0.1625189294977748    |\n",
      "|    0.6207779950111239    |  0.6535700793350963 |         0.9         |    -0.10536051565782628   |\n",
      "|    0.5701476437672757    |  0.7057045712126936 |  0.9500000000000001 |    -0.05129329438755046   |\n",
      "+--------------------------+---------------------+---------------------+---------------------------+\n"
     ]
    }
   ],
   "source": [
    "# Deciding appropriate threshold with cross validation dataset\n",
    "evaluate_threshold(_alpha=np.exp(-1),x_train = final_x_train,y_train=y_train.values,x_cv=final_x_cv,y_cv=y_cv.values)\n",
    "\n"
   ]
  },
  {
   "cell_type": "markdown",
   "metadata": {
    "colab_type": "text",
    "id": "14u1LpwZj2II"
   },
   "source": [
    "In general, We will be choosing Threshold value as 0.8 (log threshold = -0.22) as it maximizes Sensitivity as well as Specificity. Also it's more inclined towards TPR values means relative less false negatives </br> Also it depends on the case where what we want to maximize either TPR (or minimise FN) or FPR (or maximize FP) </br>\n",
    "For Alpha we will be taking values around log threshold -1. As post this value there is not much growth in cross validation AUC score but Training set AUC will decrease drastically."
   ]
  },
  {
   "cell_type": "code",
   "execution_count": 82,
   "metadata": {
    "colab": {
     "base_uri": "https://localhost:8080/",
     "height": 998
    },
    "colab_type": "code",
    "id": "1GEtb80xqebW",
    "outputId": "7aecbcc4-66cc-445d-f1ba-eeff9ec3f7a9"
   },
   "outputs": [
    {
     "data": {
      "image/png": "[encoded data removed]",
      "text/plain": [
       "<Figure size 432x288 with 1 Axes>"
      ]
     },
     "metadata": {
      "tags": []
     },
     "output_type": "display_data"
    },
    {
     "name": "stdout",
     "output_type": "stream",
     "text": [
      "Negative Class Important Features \n",
      " ['magna' 'choir' 'textbooks' '60' 'bikes' 'ten' 'pokey' 'teenagers'\n",
      " 'search' 'easels']\n",
      "******************************************************************************\n",
      "Positive Class Important Features \n",
      " ['Grades 3-5' 'pp count (28.0, 437.0]' 'pp count (1.0, 2.0]'\n",
      " 'pp count (-0.001, 1.0]' 'price range (334.975, 428.68]'\n",
      " 'price range (206.91, 266.93]' 'price range (164.02, 206.91]'\n",
      " 'Grades 6-8' 'price range (0.659, 38.515]'\n",
      " 'price range (266.93, 334.975]']\n",
      "====================================================================================================\n",
      "Confusion matrix \n",
      "\n"
     ]
    },
    {
     "data": {
      "image/png": "[encoded data removed]",
      "text/plain": [
       "<Figure size 576x576 with 4 Axes>"
      ]
     },
     "metadata": {
      "tags": []
     },
     "output_type": "display_data"
    }
   ],
   "source": [
    "# Checking the auc score with proper K value\n",
    "bow_aplha = np.exp(-1)\n",
    "bow_train_auc,bow_test_auc = model_gen_score(x_train = final_x_train,y_train=y_train.values,\\\n",
    "                                             x_test=final_x_test,y_test=y_test.values,best_alpha=bow_aplha,\\\n",
    "                                            cutoff_val= -0.22,features_names=bow_feature_list)\n",
    "                                             "
   ]
  },
  {
   "cell_type": "markdown",
   "metadata": {
    "colab_type": "text",
    "id": "RcYw1vnf8M1R"
   },
   "source": [
    "The Test Accuracy (70%) is almost similar to train Accuracy (73%) which is quite good as this model is generalizing well on unseen data."
   ]
  },
  {
   "cell_type": "markdown",
   "metadata": {
    "colab_type": "text",
    "id": "s85gPOAbCyp1"
   },
   "source": [
    "### 2.4.2 Applying NB brute force on TFIDF,<font color='red'> SET 2</font>"
   ]
  },
  {
   "cell_type": "code",
   "execution_count": 0,
   "metadata": {
    "colab": {},
    "colab_type": "code",
    "id": "AfUKrzirCyp1"
   },
   "outputs": [],
   "source": [
    "# Please write all the code with proper documentation\n",
    "\n",
    "tfidf_essay_train,tfidf_essay_cv,tfidf_essay_test,tfidf_essay_features = vectorize_text(encoding_type='TFIDF',train_text = x_train['essay'],\\\n",
    "                                                             cv_text =x_cv['essay'] , test_text =x_test['essay'] )"
   ]
  },
  {
   "cell_type": "code",
   "execution_count": 0,
   "metadata": {
    "colab": {},
    "colab_type": "code",
    "id": "7o6ALdAkwxCC"
   },
   "outputs": [],
   "source": [
    "# Please write all the code with proper documentation\n",
    "\n",
    "tfidf_title_train,tfidf_title_cv,tfidf_title_test,tfidf_title_features = vectorize_text(encoding_type='TFIDF',train_text = x_train['title'],\\\n",
    "                                                             cv_text =x_cv['title'] , test_text =x_test['title'] )"
   ]
  },
  {
   "cell_type": "code",
   "execution_count": 83,
   "metadata": {
    "colab": {
     "base_uri": "https://localhost:8080/",
     "height": 153
    },
    "colab_type": "code",
    "id": "5YUwaBHwxGmt",
    "outputId": "4d53ffc2-4077-4921-d460-9dc9f777959f"
   },
   "outputs": [
    {
     "name": "stdout",
     "output_type": "stream",
     "text": [
      "The Values for :  The Final Matrix dimension info after TFIDF\n",
      "\n",
      "Row Values are :  [('Training count : ', 69916), ('Cross Validation count : ', 17480), ('Test count : ', 21849)]\n",
      "\n",
      "Column Values are :  [('Training count : ', 5585), ('Cross Validation count : ', 5585), ('Test count : ', 5585)]\n",
      "\n",
      "Type of matrices:  [<class 'scipy.sparse.csr.csr_matrix'>, <class 'scipy.sparse.csr.csr_matrix'>, <class 'scipy.sparse.csr.csr_matrix'>]\n",
      "****************************************************************************************************\n"
     ]
    }
   ],
   "source": [
    "final_x_train = hstack((x_train_vec,tfidf_title_train,tfidf_essay_train),format='csr')\n",
    "final_x_cv = hstack((x_cv_vec,tfidf_title_cv,tfidf_essay_cv),format='csr')\n",
    "final_x_test = hstack((x_test_vec,tfidf_title_test,tfidf_essay_test),format='csr')\n",
    "\n",
    "tfidf_feature_list = list()\n",
    "tfidf_feature_list.extend(feature_list)\n",
    "#print('tfidf features ', tfidf_feature_list)\n",
    "for features in [tfidf_title_features,tfidf_essay_features]:\n",
    "    tfidf_feature_list.extend(features)\n",
    "\n",
    "print_dimension_info(_obj=[final_x_train,final_x_cv,final_x_test],_name='The Final Matrix dimension info after TFIDF')"
   ]
  },
  {
   "cell_type": "code",
   "execution_count": 84,
   "metadata": {
    "colab": {
     "base_uri": "https://localhost:8080/",
     "height": 295
    },
    "colab_type": "code",
    "id": "u5RX9J4QxgG9",
    "outputId": "b3c0e427-ca9a-480e-a38d-e4d61452a549"
   },
   "outputs": [
    {
     "data": {
      "image/png": "[encoded data removed]",
      "text/plain": [
       "<Figure size 432x288 with 1 Axes>"
      ]
     },
     "metadata": {
      "tags": []
     },
     "output_type": "display_data"
    }
   ],
   "source": [
    "# Hypertuning the parameters for cross validation\n",
    "\n",
    "_hypertuning(x_train = final_x_train,y_train=y_train.values,x_cv=final_x_cv,y_cv=y_cv.values,tune_type='gridsearch')\n"
   ]
  },
  {
   "cell_type": "code",
   "execution_count": 85,
   "metadata": {
    "colab": {
     "base_uri": "https://localhost:8080/",
     "height": 425
    },
    "colab_type": "code",
    "id": "kh7o293dyTSH",
    "outputId": "c53a8d45-222d-438d-f4c3-d21588132547"
   },
   "outputs": [
    {
     "name": "stdout",
     "output_type": "stream",
     "text": [
      "+--------------------------+-----------------------+---------------------+---------------------------+\n",
      "| Sensitivity/Recall (TPR) |  Specificity (1-FPR)  |   Threshold Value   | Log Probability threshold |\n",
      "+--------------------------+-----------------------+---------------------+---------------------------+\n",
      "|           1.0            |          0.0          |         0.0         |            -inf           |\n",
      "|           1.0            |          0.0          | 0.05000000000000001 |     -2.995732273553991    |\n",
      "|           1.0            |          0.0          | 0.10000000000000002 |    -2.3025850929940455    |\n",
      "|           1.0            |          0.0          | 0.15000000000000002 |     -1.897119984885881    |\n",
      "|           1.0            |          0.0          |         0.2         |    -1.6094379124341003    |\n",
      "|    0.9999325827546687    |          0.0          |         0.25        |    -1.3862943611198906    |\n",
      "|    0.9993932447920177    |  0.000755572346052169 | 0.30000000000000004 |     -1.203972804325936    |\n",
      "|    0.9987864895840356    | 0.0037778617302606232 | 0.35000000000000003 |    -1.0498221244986776    |\n",
      "|    0.9971010584507517    |  0.008311295806573527 |         0.4         |     -0.916290731874155    |\n",
      "|    0.9942021169015034    |  0.018889308651303338 |         0.45        |    -0.7985076962177716    |\n",
      "|    0.9877300613496932    |  0.03362296939931997  |         0.5         |    -0.6931471805599453    |\n",
      "|    0.9786287332299602    |  0.06233471854930106  |         0.55        |    -0.5978370007556204    |\n",
      "|    0.9633250185397425    |  0.11106913486966374  |  0.6000000000000001 |    -0.5108256237659905    |\n",
      "|    0.9375716308231645    |   0.1711371363808084  |         0.65        |    -0.4307829160924542    |\n",
      "|    0.8987392975123036    |  0.24367208160181342  |  0.7000000000000001 |    -0.3566749439387323    |\n",
      "|    0.8402885458100182    |   0.3313184737438609  |         0.75        |    -0.2876820724517809    |\n",
      "|    0.758376592732421     |   0.455232338496411   |         0.8         |    -0.2231435513142097    |\n",
      "|    0.6408009168745366    |   0.5931242916509256  |  0.8500000000000001 |    -0.1625189294977748    |\n",
      "|    0.4601901166318344    |   0.7669059312429165  |         0.9         |    -0.10536051565782628   |\n",
      "|   0.18324007281062496    |   0.9308651303362296  |  0.9500000000000001 |    -0.05129329438755046   |\n",
      "+--------------------------+-----------------------+---------------------+---------------------------+\n"
     ]
    }
   ],
   "source": [
    "# Deciding appropriate threshold with cross validation dataset\n",
    "evaluate_threshold(_alpha=np.exp(-0.8),x_train = final_x_train,y_train=y_train.values,x_cv=final_x_cv,y_cv=y_cv.values)\n"
   ]
  },
  {
   "cell_type": "markdown",
   "metadata": {
    "colab_type": "text",
    "id": "PxsWfPIx71dD"
   },
   "source": [
    "There is certain spikes between -1 and 0 values. In general, We will be choosing Threshold value as 0.85 (log threshold = -0.16) as it maximizes Sensitivity as well as Specificity. Also it's more inclined towards TPR values means relative less false negatives </br> Also it depends on the case where what we want to maximize either TPR (or minimise FN) or FPR (or maximize FP) </br>\n",
    "For Alpha we will be taking values around log threshold -0.8. As post this value there is not much growth in cross validation AUC score but Training set AUC will decrease drastically."
   ]
  },
  {
   "cell_type": "code",
   "execution_count": 89,
   "metadata": {
    "colab": {
     "base_uri": "https://localhost:8080/",
     "height": 998
    },
    "colab_type": "code",
    "id": "anDlMJzJ13pm",
    "outputId": "f4bd31e1-4827-435b-ca82-c0bff8f4c343"
   },
   "outputs": [
    {
     "data": {
      "image/png": "[encoded data removed]",
      "text/plain": [
       "<Figure size 432x288 with 1 Axes>"
      ]
     },
     "metadata": {
      "tags": []
     },
     "output_type": "display_data"
    },
    {
     "name": "stdout",
     "output_type": "stream",
     "text": [
      "Negative Class Important Features \n",
      " ['pp count (2.0, 4.0]' 'pp count (6.5, 12.0]' '000' 'donate' 'meaning'\n",
      " 'maximizing' 'zenergy' 'thirst' 'mat' 'pp count (12.0, 28.0]']\n",
      "******************************************************************************\n",
      "Positive Class Important Features \n",
      " ['pp count (4.0, 6.5]' 'pp count (2.0, 4.0]' 'pp count (28.0, 437.0]'\n",
      " 'pp count (1.0, 2.0]' 'pp count (-0.001, 1.0]'\n",
      " 'price range (334.975, 428.68]' 'price range (206.91, 266.93]'\n",
      " 'price range (164.02, 206.91]' 'pp count (12.0, 28.0]'\n",
      " 'price range (266.93, 334.975]']\n",
      "====================================================================================================\n",
      "Confusion matrix \n",
      "\n"
     ]
    },
    {
     "data": {
      "image/png": "[encoded data removed]",
      "text/plain": [
       "<Figure size 576x576 with 4 Axes>"
      ]
     },
     "metadata": {
      "tags": []
     },
     "output_type": "display_data"
    }
   ],
   "source": [
    "# Testing the data on Test data to check generalization of this Model\n",
    "tfidf_alpha = np.exp(-0.8)\n",
    "tfidf_train_auc,tfidf_test_auc = model_gen_score(x_train = final_x_train,y_train = y_train.values,x_test = final_x_test,y_test = y_test.values,best_alpha = tfidf_alpha,cutoff_val = -0.16,features_names = tfidf_feature_list)\n",
    "                                                 "
   ]
  },
  {
   "cell_type": "markdown",
   "metadata": {
    "colab_type": "text",
    "id": "hULgN2rg8mc0"
   },
   "source": [
    "The train AUC i.e. 72% and Test AUC i.e. 67% is almost closer but BOW model was generalizing well as compared to TFIDF models. </br> \n",
    "Also The false negatives are relatively lesser as compared to other values(FP,TN,TP)"
   ]
  },
  {
   "cell_type": "markdown",
   "metadata": {
    "colab_type": "text",
    "id": "bemispVtCyp-"
   },
   "source": [
    "<h1>3. Conclusions</h1>"
   ]
  },
  {
   "cell_type": "code",
   "execution_count": 92,
   "metadata": {
    "colab": {
     "base_uri": "https://localhost:8080/",
     "height": 119
    },
    "colab_type": "code",
    "id": "zRO-VPG2Cyp_",
    "outputId": "9866c92d-c0c5-41fd-a2f3-cbd69fadadef"
   },
   "outputs": [
    {
     "name": "stdout",
     "output_type": "stream",
     "text": [
      "+------------+-------+---------------------+--------------------+\n",
      "| Vectorizer | Model |   Hyperparameters   |      TEST AUC      |\n",
      "+------------+-------+---------------------+--------------------+\n",
      "|    BOW     | BRUTE | 0.36787944117144233 | 0.7003310321052587 |\n",
      "|   TFIDF    | BRUTE | 0.44932896411722156 | 0.6707193319788616 |\n",
      "+------------+-------+---------------------+--------------------+\n"
     ]
    }
   ],
   "source": [
    "# Please compare all your models using Prettytable library\n",
    "# http://zetcode.com/python/prettytable/\n",
    "\n",
    "from prettytable import PrettyTable\n",
    "    \n",
    "x = PrettyTable()\n",
    "\n",
    "x.field_names = ['Vectorizer','Model','Hyperparameters','TEST AUC']\n",
    "\n",
    "x.add_row(['BOW','BRUTE',bow_aplha,bow_test_auc])\n",
    "x.add_row(['TFIDF','BRUTE',tfidf_alpha,tfidf_test_auc])\n",
    "\n",
    "print(x)\n"
   ]
  },
  {
   "cell_type": "markdown",
   "metadata": {
    "colab_type": "text",
    "id": "7hVHUdHVFxnf"
   },
   "source": [
    "* The BOW model has better generalized with the AUC of 70% while TFIDF model (AUC 67%). </br>\n",
    "* Since, Real valued random variables in this dataset were following pareto Distribution, instead of Gaussian distribution. So, We have binned the Continuos variable data to use multinomial NB directly on the whole dataset so that we do hyper parameter tuning on whole dataset.\n",
    "* Also binning can remove the noise from data. "
   ]
  }
 ],
 "metadata": {
  "colab": {
   "collapsed_sections": [],
   "name": "4_DonorsChoose_NB_v0.1.ipynb",
   "provenance": [],
   "version": "0.3.2"
  },
  "kernelspec": {
   "display_name": "Python 3",
   "language": "python",
   "name": "python3"
  },
  "language_info": {
   "codemirror_mode": {
    "name": "ipython",
    "version": 3
   },
   "file_extension": ".py",
   "mimetype": "text/x-python",
   "name": "python",
   "nbconvert_exporter": "python",
   "pygments_lexer": "ipython3",
   "version": "3.8.3"
  }
 },
 "nbformat": 4,
 "nbformat_minor": 1
}
