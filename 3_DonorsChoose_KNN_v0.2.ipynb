{
 "cells": [
  {
   "cell_type": "markdown",
   "metadata": {
    "colab_type": "text",
    "id": "-Ab-X-IrCyl0"
   },
   "source": [
    "# DonorsChoose"
   ]
  },
  {
   "cell_type": "markdown",
   "metadata": {
    "colab_type": "text",
    "id": "etNpzy7rCyl2"
   },
   "source": [
    "<p>\n",
    "DonorsChoose.org receives hundreds of thousands of project proposals each year for classroom projects in need of funding. Right now, a large number of volunteers is needed to manually screen each submission before it's approved to be posted on the DonorsChoose.org website.\n",
    "</p>\n",
    "<p>\n",
    "    Next year, DonorsChoose.org expects to receive close to 500,000 project proposals. As a result, there are three main problems they need to solve:\n",
    "<ul>\n",
    "<li>\n",
    "    How to scale current manual processes and resources to screen 500,000 projects so that they can be posted as quickly and as efficiently as possible</li>\n",
    "    <li>How to increase the consistency of project vetting across different volunteers to improve the experience for teachers</li>\n",
    "    <li>How to focus volunteer time on the applications that need the most assistance</li>\n",
    "    </ul>\n",
    "</p>    \n",
    "<p>\n",
    "The goal of the competition is to predict whether or not a DonorsChoose.org project proposal submitted by a teacher will be approved, using the text of project descriptions as well as additional metadata about the project, teacher, and school. DonorsChoose.org can then use this information to identify projects most likely to need further review before approval.\n",
    "</p>"
   ]
  },
  {
   "cell_type": "markdown",
   "metadata": {
    "colab_type": "text",
    "id": "kO2Kg7TgCyl4"
   },
   "source": [
    "## About the DonorsChoose Data Set\n",
    "\n",
    "The `train.csv` data set provided by DonorsChoose contains the following features:\n",
    "\n",
    "Feature | Description \n",
    "----------|---------------\n",
    "**`project_id`** | A unique identifier for the proposed project. **Example:** `p036502`   \n",
    "**`project_title`**    | Title of the project. **Examples:**<br><ul><li><code>Art Will Make You Happy!</code></li><li><code>First Grade Fun</code></li></ul> \n",
    "**`project_grade_category`** | Grade level of students for which the project is targeted. One of the following enumerated values: <br/><ul><li><code>Grades PreK-2</code></li><li><code>Grades 3-5</code></li><li><code>Grades 6-8</code></li><li><code>Grades 9-12</code></li></ul>  \n",
    " **`project_subject_categories`** | One or more (comma-separated) subject categories for the project from the following enumerated list of values:  <br/><ul><li><code>Applied Learning</code></li><li><code>Care &amp; Hunger</code></li><li><code>Health &amp; Sports</code></li><li><code>History &amp; Civics</code></li><li><code>Literacy &amp; Language</code></li><li><code>Math &amp; Science</code></li><li><code>Music &amp; The Arts</code></li><li><code>Special Needs</code></li><li><code>Warmth</code></li></ul><br/> **Examples:** <br/><ul><li><code>Music &amp; The Arts</code></li><li><code>Literacy &amp; Language, Math &amp; Science</code></li>  \n",
    "  **`school_state`** | State where school is located ([Two-letter U.S. postal code](https://en.wikipedia.org/wiki/List_of_U.S._state_abbreviations#Postal_codes)). **Example:** `WY`\n",
    "**`project_subject_subcategories`** | One or more (comma-separated) subject subcategories for the project. **Examples:** <br/><ul><li><code>Literacy</code></li><li><code>Literature &amp; Writing, Social Sciences</code></li></ul> \n",
    "**`project_resource_summary`** | An explanation of the resources needed for the project. **Example:** <br/><ul><li><code>My students need hands on literacy materials to manage sensory needs!</code</li></ul> \n",
    "**`project_essay_1`**    | First application essay<sup>*</sup>  \n",
    "**`project_essay_2`**    | Second application essay<sup>*</sup> \n",
    "**`project_essay_3`**    | Third application essay<sup>*</sup> \n",
    "**`project_essay_4`**    | Fourth application essay<sup>*</sup> \n",
    "**`project_submitted_datetime`** | Datetime when project application was submitted. **Example:** `2016-04-28 12:43:56.245`   \n",
    "**`teacher_id`** | A unique identifier for the teacher of the proposed project. **Example:** `bdf8baa8fedef6bfeec7ae4ff1c15c56`  \n",
    "**`teacher_prefix`** | Teacher's title. One of the following enumerated values: <br/><ul><li><code>nan</code></li><li><code>Dr.</code></li><li><code>Mr.</code></li><li><code>Mrs.</code></li><li><code>Ms.</code></li><li><code>Teacher.</code></li></ul>  \n",
    "**`teacher_number_of_previously_posted_projects`** | Number of project applications previously submitted by the same teacher. **Example:** `2` \n",
    "\n",
    "<sup>*</sup> See the section <b>Notes on the Essay Data</b> for more details about these features.\n",
    "\n",
    "Additionally, the `resources.csv` data set provides more data about the resources required for each project. Each line in this file represents a resource required by a project:\n",
    "\n",
    "Feature | Description \n",
    "----------|---------------\n",
    "**`id`** | A `project_id` value from the `train.csv` file.  **Example:** `p036502`   \n",
    "**`description`** | Desciption of the resource. **Example:** `Tenor Saxophone Reeds, Box of 25`   \n",
    "**`quantity`** | Quantity of the resource required. **Example:** `3`   \n",
    "**`price`** | Price of the resource required. **Example:** `9.95`   \n",
    "\n",
    "**Note:** Many projects require multiple resources. The `id` value corresponds to a `project_id` in train.csv, so you use it as a key to retrieve all resources needed for a project:\n",
    "\n",
    "The data set contains the following label (the value you will attempt to predict):\n",
    "\n",
    "Label | Description\n",
    "----------|---------------\n",
    "`project_is_approved` | A binary flag indicating whether DonorsChoose approved the project. A value of `0` indicates the project was not approved, and a value of `1` indicates the project was approved."
   ]
  },
  {
   "cell_type": "markdown",
   "metadata": {
    "colab_type": "text",
    "id": "dBGA_YStCyl6"
   },
   "source": [
    "### Notes on the Essay Data\n",
    "\n",
    "<ul>\n",
    "Prior to May 17, 2016, the prompts for the essays were as follows:\n",
    "<li>__project_essay_1:__ \"Introduce us to your classroom\"</li>\n",
    "<li>__project_essay_2:__ \"Tell us more about your students\"</li>\n",
    "<li>__project_essay_3:__ \"Describe how your students will use the materials you're requesting\"</li>\n",
    "<li>__project_essay_3:__ \"Close by sharing why your project will make a difference\"</li>\n",
    "</ul>\n",
    "\n",
    "\n",
    "<ul>\n",
    "Starting on May 17, 2016, the number of essays was reduced from 4 to 2, and the prompts for the first 2 essays were changed to the following:<br>\n",
    "<li>__project_essay_1:__ \"Describe your students: What makes your students special? Specific details about their background, your neighborhood, and your school are all helpful.\"</li>\n",
    "<li>__project_essay_2:__ \"About your project: How will these materials make a difference in your students' learning and improve their school lives?\"</li>\n",
    "<br>For all projects with project_submitted_datetime of 2016-05-17 and later, the values of project_essay_3 and project_essay_4 will be NaN.\n",
    "</ul>\n"
   ]
  },
  {
   "cell_type": "code",
   "execution_count": 1,
   "metadata": {
    "colab": {
     "base_uri": "https://localhost:8080/",
     "height": 122
    },
    "colab_type": "code",
    "id": "dElwbPa1NkCj",
    "outputId": "70179813-c283-4986-a1a7-a60a18272616"
   },
   "outputs": [
    {
     "name": "stdout",
     "output_type": "stream",
     "text": [
      "Go to this URL in a browser: https://accounts.google.com/o/oauth2/auth?client_id=947318989803-6bn6qk8qdgf4n4g3pfee6491hc0brc4i.apps.googleusercontent.com&redirect_uri=urn%3aietf%3awg%3aoauth%3a2.0%3aoob&response_type=code&scope=email%20https%3a%2f%2fwww.googleapis.com%2fauth%2fdocs.test%20https%3a%2f%2fwww.googleapis.com%2fauth%2fdrive%20https%3a%2f%2fwww.googleapis.com%2fauth%2fdrive.photos.readonly%20https%3a%2f%2fwww.googleapis.com%2fauth%2fpeopleapi.readonly\n",
      "\n",
      "Enter your authorization code:\n",
      "··········\n",
      "Mounted at /content/drive\n"
     ]
    }
   ],
   "source": [
    "from google.colab import drive\n",
    "drive.mount('/content/drive')"
   ]
  },
  {
   "cell_type": "code",
   "execution_count": 2,
   "metadata": {
    "colab": {
     "base_uri": "https://localhost:8080/",
     "height": 34
    },
    "colab_type": "code",
    "id": "O2wsiCVxRtay",
    "outputId": "f413951a-ad2d-47fb-a01c-b588deae3fc1"
   },
   "outputs": [
    {
     "name": "stdout",
     "output_type": "stream",
     "text": [
      "'drive/My Drive/data/train_data.csv'\n"
     ]
    }
   ],
   "source": [
    "!ls drive/'My Drive'/data/train_data.csv"
   ]
  },
  {
   "cell_type": "code",
   "execution_count": 0,
   "metadata": {
    "colab": {},
    "colab_type": "code",
    "id": "XTrCJ5p9Cyl7"
   },
   "outputs": [],
   "source": [
    "%matplotlib inline\n",
    "import warnings\n",
    "warnings.filterwarnings(\"ignore\")\n",
    "\n",
    "import pandas as pd\n",
    "import numpy as np\n",
    "import string\n",
    "import matplotlib.pyplot as plt\n",
    "import seaborn as sns\n",
    "from sklearn.feature_extraction.text import TfidfTransformer\n",
    "from sklearn.feature_extraction.text import TfidfVectorizer\n",
    "\n",
    "from sklearn.feature_extraction.text import CountVectorizer\n",
    "from sklearn.metrics import confusion_matrix\n",
    "from sklearn import metrics\n",
    "from sklearn.metrics import roc_curve, auc\n",
    "\n",
    "\n",
    "import re\n",
    "# Tutorial about Python regular expressions: https://pymotw.com/2/re/\n",
    "import string\n",
    "\n",
    "\n",
    "from gensim.models import Word2Vec\n",
    "from gensim.models import KeyedVectors\n",
    "import pickle\n",
    "\n",
    "from tqdm import tqdm\n",
    "import os\n",
    "\n",
    "\n",
    "from collections import Counter"
   ]
  },
  {
   "cell_type": "markdown",
   "metadata": {
    "colab_type": "text",
    "id": "MjknLZQqCymQ"
   },
   "source": [
    "## 1.1 Reading Data"
   ]
  },
  {
   "cell_type": "code",
   "execution_count": 0,
   "metadata": {
    "colab": {},
    "colab_type": "code",
    "id": "abtcqBS8CymT"
   },
   "outputs": [],
   "source": [
    "project_data = pd.read_csv('drive/My Drive/data/train_data.csv')\n",
    "resource_data = pd.read_csv('drive/My Drive/data/resources.csv')"
   ]
  },
  {
   "cell_type": "code",
   "execution_count": 5,
   "metadata": {
    "colab": {
     "base_uri": "https://localhost:8080/",
     "height": 153
    },
    "colab_type": "code",
    "id": "Prf2ghjDCymX",
    "outputId": "f688410d-d8bf-4fbd-ca3c-680d13e377d7"
   },
   "outputs": [
    {
     "name": "stdout",
     "output_type": "stream",
     "text": [
      "Number of data points in train data (109248, 17)\n",
      "--------------------------------------------------\n",
      "The attributes of data : ['Unnamed: 0' 'id' 'teacher_id' 'teacher_prefix' 'school_state'\n",
      " 'project_submitted_datetime' 'project_grade_category'\n",
      " 'project_subject_categories' 'project_subject_subcategories'\n",
      " 'project_title' 'project_essay_1' 'project_essay_2' 'project_essay_3'\n",
      " 'project_essay_4' 'project_resource_summary'\n",
      " 'teacher_number_of_previously_posted_projects' 'project_is_approved']\n"
     ]
    }
   ],
   "source": [
    "print(\"Number of data points in train data\", project_data.shape)\n",
    "print('-'*50)\n",
    "print(\"The attributes of data :\", project_data.columns.values)"
   ]
  },
  {
   "cell_type": "code",
   "execution_count": 6,
   "metadata": {
    "colab": {
     "base_uri": "https://localhost:8080/",
     "height": 323
    },
    "colab_type": "code",
    "id": "-sn3gXsML5Jq",
    "outputId": "db849fd7-60bd-4218-ef35-f0c8256d6955"
   },
   "outputs": [
    {
     "name": "stdout",
     "output_type": "stream",
     "text": [
      "The Columns with their nan values counts are below \n",
      "Unnamed: 0  0\n",
      "id  0\n",
      "teacher_id  0\n",
      "teacher_prefix  3\n",
      "school_state  0\n",
      "project_submitted_datetime  0\n",
      "project_grade_category  0\n",
      "project_subject_categories  0\n",
      "project_subject_subcategories  0\n",
      "project_title  0\n",
      "project_essay_1  0\n",
      "project_essay_2  0\n",
      "project_essay_3  105490\n",
      "project_essay_4  105490\n",
      "project_resource_summary  0\n",
      "teacher_number_of_previously_posted_projects  0\n",
      "project_is_approved  0\n"
     ]
    }
   ],
   "source": [
    "print('The Columns with their nan values counts are below ')\n",
    "for col in project_data.columns:\n",
    "    print('{col} '.format(col=col),project_data[col].isnull().sum())"
   ]
  },
  {
   "cell_type": "code",
   "execution_count": 0,
   "metadata": {
    "colab": {},
    "colab_type": "code",
    "id": "QVfbXGM1L5Jt"
   },
   "outputs": [],
   "source": [
    "# removing 3 nan values from teacher prefix column as they seems to be outliers\n",
    "# DataFrame.dropna(axis=0, how='any', thresh=None, subset=None, inplace=False)\n",
    "project_data.dropna(subset=['teacher_prefix'],inplace=True)"
   ]
  },
  {
   "cell_type": "code",
   "execution_count": 8,
   "metadata": {
    "colab": {
     "base_uri": "https://localhost:8080/",
     "height": 233
    },
    "colab_type": "code",
    "id": "BTGMDQoPCymc",
    "outputId": "a93a36ba-2d7d-4ac1-a614-e3beb0183de1"
   },
   "outputs": [
    {
     "data": {
      "text/html": [
       "<div>\n",
       "<style scoped>\n",
       "    .dataframe tbody tr th:only-of-type {\n",
       "        vertical-align: middle;\n",
       "    }\n",
       "\n",
       "    .dataframe tbody tr th {\n",
       "        vertical-align: top;\n",
       "    }\n",
       "\n",
       "    .dataframe thead th {\n",
       "        text-align: right;\n",
       "    }\n",
       "</style>\n",
       "<table border=\"1\" class=\"dataframe\">\n",
       "  <thead>\n",
       "    <tr style=\"text-align: right;\">\n",
       "      <th></th>\n",
       "      <th>Unnamed: 0</th>\n",
       "      <th>id</th>\n",
       "      <th>teacher_id</th>\n",
       "      <th>teacher_prefix</th>\n",
       "      <th>school_state</th>\n",
       "      <th>Date</th>\n",
       "      <th>project_grade_category</th>\n",
       "      <th>project_subject_categories</th>\n",
       "      <th>project_subject_subcategories</th>\n",
       "      <th>project_title</th>\n",
       "      <th>project_essay_1</th>\n",
       "      <th>project_essay_2</th>\n",
       "      <th>project_essay_3</th>\n",
       "      <th>project_essay_4</th>\n",
       "      <th>project_resource_summary</th>\n",
       "      <th>teacher_number_of_previously_posted_projects</th>\n",
       "      <th>project_is_approved</th>\n",
       "    </tr>\n",
       "  </thead>\n",
       "  <tbody>\n",
       "    <tr>\n",
       "      <th>55660</th>\n",
       "      <td>8393</td>\n",
       "      <td>p205479</td>\n",
       "      <td>2bf07ba08945e5d8b2a3f269b2b3cfe5</td>\n",
       "      <td>Mrs.</td>\n",
       "      <td>CA</td>\n",
       "      <td>2016-04-27 00:27:36</td>\n",
       "      <td>Grades PreK-2</td>\n",
       "      <td>Math &amp; Science</td>\n",
       "      <td>Applied Sciences, Health &amp; Life Science</td>\n",
       "      <td>Engineering STEAM into the Primary Classroom</td>\n",
       "      <td>I have been fortunate enough to use the Fairy ...</td>\n",
       "      <td>My students come from a variety of backgrounds...</td>\n",
       "      <td>Each month I try to do several science or STEM...</td>\n",
       "      <td>It is challenging to develop high quality scie...</td>\n",
       "      <td>My students need STEM kits to learn critical s...</td>\n",
       "      <td>53</td>\n",
       "      <td>1</td>\n",
       "    </tr>\n",
       "    <tr>\n",
       "      <th>76127</th>\n",
       "      <td>37728</td>\n",
       "      <td>p043609</td>\n",
       "      <td>3f60494c61921b3b43ab61bdde2904df</td>\n",
       "      <td>Ms.</td>\n",
       "      <td>UT</td>\n",
       "      <td>2016-04-27 00:31:25</td>\n",
       "      <td>Grades 3-5</td>\n",
       "      <td>Special Needs</td>\n",
       "      <td>Special Needs</td>\n",
       "      <td>Sensory Tools for Focus</td>\n",
       "      <td>Imagine being 8-9 years old. You're in your th...</td>\n",
       "      <td>Most of my students have autism, anxiety, anot...</td>\n",
       "      <td>It is tough to do more than one thing at a tim...</td>\n",
       "      <td>When my students are able to calm themselves d...</td>\n",
       "      <td>My students need Boogie Boards for quiet senso...</td>\n",
       "      <td>4</td>\n",
       "      <td>1</td>\n",
       "    </tr>\n",
       "  </tbody>\n",
       "</table>\n",
       "</div>"
      ],
      "text/plain": [
       "       Unnamed: 0  ... project_is_approved\n",
       "55660        8393  ...                   1\n",
       "76127       37728  ...                   1\n",
       "\n",
       "[2 rows x 17 columns]"
      ]
     },
     "execution_count": 8,
     "metadata": {
      "tags": []
     },
     "output_type": "execute_result"
    }
   ],
   "source": [
    "#how to replace elements in list python: https://stackoverflow.com/a/2582163/4084039\n",
    "cols = ['Date' if x=='project_submitted_datetime' else x for x in list(project_data.columns)]\n",
    "\n",
    "\n",
    "#sort dataframe based on time pandas python: https://stackoverflow.com/a/49702492/4084039\n",
    "project_data['Date'] = pd.to_datetime(project_data['project_submitted_datetime'])\n",
    "project_data.drop('project_submitted_datetime', axis=1, inplace=True)\n",
    "project_data.sort_values(by=['Date'], inplace=True)\n",
    "\n",
    "\n",
    "# how to reorder columns pandas python: https://stackoverflow.com/a/13148611/4084039\n",
    "project_data = project_data[cols]\n",
    "\n",
    "\n",
    "project_data.head(2)"
   ]
  },
  {
   "cell_type": "code",
   "execution_count": 9,
   "metadata": {
    "colab": {
     "base_uri": "https://localhost:8080/",
     "height": 145
    },
    "colab_type": "code",
    "id": "ntdWuRoUCymj",
    "outputId": "dc256410-4295-4e11-bd45-c338ad152809"
   },
   "outputs": [
    {
     "name": "stdout",
     "output_type": "stream",
     "text": [
      "Number of data points in train data (1541272, 4)\n",
      "['id' 'description' 'quantity' 'price']\n"
     ]
    },
    {
     "data": {
      "text/html": [
       "<div>\n",
       "<style scoped>\n",
       "    .dataframe tbody tr th:only-of-type {\n",
       "        vertical-align: middle;\n",
       "    }\n",
       "\n",
       "    .dataframe tbody tr th {\n",
       "        vertical-align: top;\n",
       "    }\n",
       "\n",
       "    .dataframe thead th {\n",
       "        text-align: right;\n",
       "    }\n",
       "</style>\n",
       "<table border=\"1\" class=\"dataframe\">\n",
       "  <thead>\n",
       "    <tr style=\"text-align: right;\">\n",
       "      <th></th>\n",
       "      <th>id</th>\n",
       "      <th>description</th>\n",
       "      <th>quantity</th>\n",
       "      <th>price</th>\n",
       "    </tr>\n",
       "  </thead>\n",
       "  <tbody>\n",
       "    <tr>\n",
       "      <th>0</th>\n",
       "      <td>p233245</td>\n",
       "      <td>LC652 - Lakeshore Double-Space Mobile Drying Rack</td>\n",
       "      <td>1</td>\n",
       "      <td>149.00</td>\n",
       "    </tr>\n",
       "    <tr>\n",
       "      <th>1</th>\n",
       "      <td>p069063</td>\n",
       "      <td>Bouncy Bands for Desks (Blue support pipes)</td>\n",
       "      <td>3</td>\n",
       "      <td>14.95</td>\n",
       "    </tr>\n",
       "  </tbody>\n",
       "</table>\n",
       "</div>"
      ],
      "text/plain": [
       "        id                                        description  quantity   price\n",
       "0  p233245  LC652 - Lakeshore Double-Space Mobile Drying Rack         1  149.00\n",
       "1  p069063        Bouncy Bands for Desks (Blue support pipes)         3   14.95"
      ]
     },
     "execution_count": 9,
     "metadata": {
      "tags": []
     },
     "output_type": "execute_result"
    }
   ],
   "source": [
    "print(\"Number of data points in train data\", resource_data.shape)\n",
    "print(resource_data.columns.values)\n",
    "resource_data.head(2)"
   ]
  },
  {
   "cell_type": "markdown",
   "metadata": {
    "colab_type": "text",
    "id": "6WZaYhwJCymp"
   },
   "source": [
    "## 1.2 preprocessing of `project_subject_categories`"
   ]
  },
  {
   "cell_type": "code",
   "execution_count": 0,
   "metadata": {
    "colab": {},
    "colab_type": "code",
    "id": "Mdkhq7PRCymr"
   },
   "outputs": [],
   "source": [
    "catogories = list(project_data['project_subject_categories'].values)\n",
    "# remove special characters from list of strings python: https://stackoverflow.com/a/47301924/4084039\n",
    "\n",
    "# https://www.geeksforgeeks.org/removing-stop-words-nltk-python/\n",
    "# https://stackoverflow.com/questions/23669024/how-to-strip-a-specific-word-from-a-string\n",
    "# https://stackoverflow.com/questions/8270092/remove-all-whitespace-in-a-string-in-python\n",
    "cat_list = []\n",
    "for i in catogories:\n",
    "    temp = \"\"\n",
    "    # consider we have text like this \"Math & Science, Warmth, Care & Hunger\"\n",
    "    for j in i.split(','): # it will split it in three parts [\"Math & Science\", \"Warmth\", \"Care & Hunger\"]\n",
    "        if 'The' in j.split(): # this will split each of the catogory based on space \"Math & Science\"=> \"Math\",\"&\", \"Science\"\n",
    "            j=j.replace('The','') # if we have the words \"The\" we are going to replace it with ''(i.e removing 'The')\n",
    "        j = j.replace(' ','') # we are placeing all the ' '(space) with ''(empty) ex:\"Math & Science\"=>\"Math&Science\"\n",
    "        temp+=j.strip()+\" \" #\" abc \".strip() will return \"abc\", remove the trailing spaces\n",
    "        temp = temp.replace('&','_') # we are replacing the & value into \n",
    "    cat_list.append(temp.strip())\n",
    "    \n",
    "project_data['clean_categories'] = cat_list\n",
    "project_data.drop(['project_subject_categories'], axis=1, inplace=True) #0 for index and 1 for columns\n",
    "\n",
    "#counting the occurence of word\n",
    "\n",
    "from collections import Counter\n",
    "my_counter = Counter()\n",
    "for word in project_data['clean_categories'].values:\n",
    "    my_counter.update(word.split())\n",
    "\n",
    "cat_dict = dict(my_counter)\n",
    "sorted_cat_dict = dict(sorted(cat_dict.items(), key=lambda kv: kv[1]))\n"
   ]
  },
  {
   "cell_type": "code",
   "execution_count": 11,
   "metadata": {
    "colab": {
     "base_uri": "https://localhost:8080/",
     "height": 54
    },
    "colab_type": "code",
    "id": "RNOEr6GiL5J4",
    "outputId": "975956d8-dc40-4ab9-c9d2-a482ca07eb51"
   },
   "outputs": [
    {
     "data": {
      "text/plain": [
       "dict_items([('Math_Science', 41419), ('SpecialNeeds', 13642), ('Literacy_Language', 52236), ('AppliedLearning', 12135), ('History_Civics', 5914), ('Music_Arts', 10293), ('Health_Sports', 14223), ('Warmth', 1388), ('Care_Hunger', 1388)])"
      ]
     },
     "execution_count": 11,
     "metadata": {
      "tags": []
     },
     "output_type": "execute_result"
    }
   ],
   "source": [
    "# checking the items present category list\n",
    "cat_dict.items()"
   ]
  },
  {
   "cell_type": "markdown",
   "metadata": {
    "colab_type": "text",
    "id": "386yx3T2Cymv"
   },
   "source": [
    "## 1.3 preprocessing of `project_subject_subcategories`"
   ]
  },
  {
   "cell_type": "code",
   "execution_count": 0,
   "metadata": {
    "colab": {},
    "colab_type": "code",
    "id": "4QSP0r8XCymw"
   },
   "outputs": [],
   "source": [
    "sub_catogories = list(project_data['project_subject_subcategories'].values)\n",
    "# remove special characters from list of strings python: https://stackoverflow.com/a/47301924/4084039\n",
    "\n",
    "# https://www.geeksforgeeks.org/removing-stop-words-nltk-python/\n",
    "# https://stackoverflow.com/questions/23669024/how-to-strip-a-specific-word-from-a-string\n",
    "# https://stackoverflow.com/questions/8270092/remove-all-whitespace-in-a-string-in-python\n",
    "\n",
    "sub_cat_list = []\n",
    "for i in sub_catogories:\n",
    "    temp = \"\"\n",
    "    # consider we have text like this \"Math & Science, Warmth, Care & Hunger\"\n",
    "    for j in i.split(','): # it will split it in three parts [\"Math & Science\", \"Warmth\", \"Care & Hunger\"]\n",
    "        if 'The' in j.split(): # this will split each of the catogory based on space \"Math & Science\"=> \"Math\",\"&\", \"Science\"\n",
    "            j=j.replace('The','') # if we have the words \"The\" we are going to replace it with ''(i.e removing 'The')\n",
    "        j = j.replace(' ','') # we are placeing all the ' '(space) with ''(empty) ex:\"Math & Science\"=>\"Math&Science\"\n",
    "        temp +=j.strip()+\" \"#\" abc \".strip() will return \"abc\", remove the trailing spaces\n",
    "        temp = temp.replace('&','_')\n",
    "    sub_cat_list.append(temp.strip())\n",
    "\n",
    "project_data['clean_subcategories'] = sub_cat_list\n",
    "project_data.drop(['project_subject_subcategories'], axis=1, inplace=True)\n",
    "\n",
    "# count of all the words in corpus python: https://stackoverflow.com/a/22898595/4084039\n",
    "my_counter = Counter()\n",
    "for word in project_data['clean_subcategories'].values:\n",
    "    my_counter.update(word.split())\n",
    "    \n",
    "sub_cat_dict = dict(my_counter)\n",
    "sorted_sub_cat_dict = dict(sorted(sub_cat_dict.items(), key=lambda kv: kv[1]))"
   ]
  },
  {
   "cell_type": "code",
   "execution_count": 13,
   "metadata": {
    "colab": {
     "base_uri": "https://localhost:8080/",
     "height": 54
    },
    "colab_type": "code",
    "id": "UwVGSATrA2Zq",
    "outputId": "bdab4b14-bb36-4895-ce42-87d2d4612ce3"
   },
   "outputs": [
    {
     "data": {
      "text/plain": [
       "dict_items([('AppliedSciences', 10816), ('Health_LifeScience', 4235), ('SpecialNeeds', 13642), ('Literacy', 33699), ('EarlyDevelopment', 4254), ('Mathematics', 28072), ('SocialSciences', 1920), ('History_Geography', 3171), ('ESL', 4367), ('Extracurricular', 810), ('VisualArts', 6278), ('EnvironmentalScience', 5591), ('Literature_Writing', 22177), ('Gym_Fitness', 4509), ('Music', 3145), ('TeamSports', 2192), ('PerformingArts', 1961), ('College_CareerPrep', 2568), ('Other', 2372), ('CharacterEducation', 2065), ('ForeignLanguages', 890), ('Health_Wellness', 10234), ('Civics_Government', 815), ('Economics', 269), ('CommunityService', 441), ('FinancialLiteracy', 568), ('NutritionEducation', 1355), ('ParentInvolvement', 677), ('Warmth', 1388), ('Care_Hunger', 1388)])"
      ]
     },
     "execution_count": 13,
     "metadata": {
      "tags": []
     },
     "output_type": "execute_result"
    }
   ],
   "source": [
    "sub_cat_dict.items()"
   ]
  },
  {
   "cell_type": "markdown",
   "metadata": {
    "colab_type": "text",
    "id": "NANzhWlLCynN"
   },
   "source": [
    "## 1.3 Text preprocessing"
   ]
  },
  {
   "cell_type": "code",
   "execution_count": 0,
   "metadata": {
    "colab": {},
    "colab_type": "code",
    "id": "yqsmu-BTCynQ"
   },
   "outputs": [],
   "source": [
    "# merge two column text dataframe: \n",
    "project_data[\"essay\"] = project_data[\"project_essay_1\"].map(str) +\\\n",
    "                        project_data[\"project_essay_2\"].map(str) + \\\n",
    "                        project_data[\"project_essay_3\"].map(str) + \\\n",
    "                        project_data[\"project_essay_4\"].map(str)"
   ]
  },
  {
   "cell_type": "code",
   "execution_count": 15,
   "metadata": {
    "colab": {
     "base_uri": "https://localhost:8080/",
     "height": 335
    },
    "colab_type": "code",
    "id": "xxtnd3maCynV",
    "outputId": "a882740f-8ea7-4dab-9917-92a21df2cb26"
   },
   "outputs": [
    {
     "data": {
      "text/html": [
       "<div>\n",
       "<style scoped>\n",
       "    .dataframe tbody tr th:only-of-type {\n",
       "        vertical-align: middle;\n",
       "    }\n",
       "\n",
       "    .dataframe tbody tr th {\n",
       "        vertical-align: top;\n",
       "    }\n",
       "\n",
       "    .dataframe thead th {\n",
       "        text-align: right;\n",
       "    }\n",
       "</style>\n",
       "<table border=\"1\" class=\"dataframe\">\n",
       "  <thead>\n",
       "    <tr style=\"text-align: right;\">\n",
       "      <th></th>\n",
       "      <th>Unnamed: 0</th>\n",
       "      <th>id</th>\n",
       "      <th>teacher_id</th>\n",
       "      <th>teacher_prefix</th>\n",
       "      <th>school_state</th>\n",
       "      <th>Date</th>\n",
       "      <th>project_grade_category</th>\n",
       "      <th>project_title</th>\n",
       "      <th>project_essay_1</th>\n",
       "      <th>project_essay_2</th>\n",
       "      <th>project_essay_3</th>\n",
       "      <th>project_essay_4</th>\n",
       "      <th>project_resource_summary</th>\n",
       "      <th>teacher_number_of_previously_posted_projects</th>\n",
       "      <th>project_is_approved</th>\n",
       "      <th>clean_categories</th>\n",
       "      <th>clean_subcategories</th>\n",
       "      <th>essay</th>\n",
       "    </tr>\n",
       "  </thead>\n",
       "  <tbody>\n",
       "    <tr>\n",
       "      <th>55660</th>\n",
       "      <td>8393</td>\n",
       "      <td>p205479</td>\n",
       "      <td>2bf07ba08945e5d8b2a3f269b2b3cfe5</td>\n",
       "      <td>Mrs.</td>\n",
       "      <td>CA</td>\n",
       "      <td>2016-04-27 00:27:36</td>\n",
       "      <td>Grades PreK-2</td>\n",
       "      <td>Engineering STEAM into the Primary Classroom</td>\n",
       "      <td>I have been fortunate enough to use the Fairy ...</td>\n",
       "      <td>My students come from a variety of backgrounds...</td>\n",
       "      <td>Each month I try to do several science or STEM...</td>\n",
       "      <td>It is challenging to develop high quality scie...</td>\n",
       "      <td>My students need STEM kits to learn critical s...</td>\n",
       "      <td>53</td>\n",
       "      <td>1</td>\n",
       "      <td>Math_Science</td>\n",
       "      <td>AppliedSciences Health_LifeScience</td>\n",
       "      <td>I have been fortunate enough to use the Fairy ...</td>\n",
       "    </tr>\n",
       "    <tr>\n",
       "      <th>76127</th>\n",
       "      <td>37728</td>\n",
       "      <td>p043609</td>\n",
       "      <td>3f60494c61921b3b43ab61bdde2904df</td>\n",
       "      <td>Ms.</td>\n",
       "      <td>UT</td>\n",
       "      <td>2016-04-27 00:31:25</td>\n",
       "      <td>Grades 3-5</td>\n",
       "      <td>Sensory Tools for Focus</td>\n",
       "      <td>Imagine being 8-9 years old. You're in your th...</td>\n",
       "      <td>Most of my students have autism, anxiety, anot...</td>\n",
       "      <td>It is tough to do more than one thing at a tim...</td>\n",
       "      <td>When my students are able to calm themselves d...</td>\n",
       "      <td>My students need Boogie Boards for quiet senso...</td>\n",
       "      <td>4</td>\n",
       "      <td>1</td>\n",
       "      <td>SpecialNeeds</td>\n",
       "      <td>SpecialNeeds</td>\n",
       "      <td>Imagine being 8-9 years old. You're in your th...</td>\n",
       "    </tr>\n",
       "  </tbody>\n",
       "</table>\n",
       "</div>"
      ],
      "text/plain": [
       "       Unnamed: 0  ...                                              essay\n",
       "55660        8393  ...  I have been fortunate enough to use the Fairy ...\n",
       "76127       37728  ...  Imagine being 8-9 years old. You're in your th...\n",
       "\n",
       "[2 rows x 18 columns]"
      ]
     },
     "execution_count": 15,
     "metadata": {
      "tags": []
     },
     "output_type": "execute_result"
    }
   ],
   "source": [
    "project_data.head(2)"
   ]
  },
  {
   "cell_type": "code",
   "execution_count": 16,
   "metadata": {
    "colab": {
     "base_uri": "https://localhost:8080/",
     "height": 207
    },
    "colab_type": "code",
    "id": "TCl7L1DhCyne",
    "outputId": "09e41cd7-6fe5-4f6a-d75e-c3489d0a0577"
   },
   "outputs": [
    {
     "name": "stdout",
     "output_type": "stream",
     "text": [
      "I have been fortunate enough to use the Fairy Tale STEM kits in my classroom as well as the STEM journals, which my students really enjoyed.  I would love to implement more of the Lakeshore STEM kits in my classroom for the next school year as they provide excellent and engaging STEM lessons.My students come from a variety of backgrounds, including language and socioeconomic status.  Many of them don't have a lot of experience in science and engineering and these kits give me the materials to provide these exciting opportunities for my students.Each month I try to do several science or STEM/STEAM projects.  I would use the kits and robot to help guide my science instruction in engaging and meaningful ways.  I can adapt the kits to my current language arts pacing guide where we already teach some of the material in the kits like tall tales (Paul Bunyan) or Johnny Appleseed.  The following units will be taught in the next school year where I will implement these kits: magnets, motion, sink vs. float, robots.  I often get to these units and don't know If I am teaching the right way or using the right materials.    The kits will give me additional ideas, strategies, and lessons to prepare my students in science.It is challenging to develop high quality science activities.  These kits give me the materials I need to provide my students with science activities that will go along with the curriculum in my classroom.  Although I have some things (like magnets) in my classroom, I don't know how to use them effectively.  The kits will provide me with the right amount of materials and show me how to use them in an appropriate way.\n",
      "==================================================\n",
      "I teach high school English to students with learning and behavioral disabilities. My students all vary in their ability level. However, the ultimate goal is to increase all students literacy levels. This includes their reading, writing, and communication levels.I teach a really dynamic group of students. However, my students face a lot of challenges. My students all live in poverty and in a dangerous neighborhood. Despite these challenges, I have students who have the the desire to defeat these challenges. My students all have learning disabilities and currently all are performing below grade level. My students are visual learners and will benefit from a classroom that fulfills their preferred learning style.The materials I am requesting will allow my students to be prepared for the classroom with the necessary supplies.  Too often I am challenged with students who come to school unprepared for class due to economic challenges.  I want my students to be able to focus on learning and not how they will be able to get school supplies.  The supplies will last all year.  Students will be able to complete written assignments and maintain a classroom journal.  The chart paper will be used to make learning more visual in class and to create posters to aid students in their learning.  The students have access to a classroom printer.  The toner will be used to print student work that is completed on the classroom Chromebooks.I want to try and remove all barriers for the students learning and create opportunities for learning. One of the biggest barriers is the students not having the resources to get pens, paper, and folders. My students will be able to increase their literacy skills because of this project.\n",
      "==================================================\n",
      "\\\"Life moves pretty fast. If you don't stop and look around once in awhile, you could miss it.\\\"  from the movie, Ferris Bueller's Day Off.  Think back...what do you remember about your grandparents?  How amazing would it be to be able to flip through a book to see a day in their lives?My second graders are voracious readers! They love to read both fiction and nonfiction books.  Their favorite characters include Pete the Cat, Fly Guy, Piggie and Elephant, and Mercy Watson. They also love to read about insects, space and plants. My students are hungry bookworms! My students are eager to learn and read about the world around them. My kids love to be at school and are like little sponges absorbing everything around them. Their parents work long hours and usually do not see their children. My students are usually cared for by their grandparents or a family friend. Most of my students do not have someone who speaks English at home. Thus it is difficult for my students to acquire language.Now think forward... wouldn't it mean a lot to your kids, nieces or nephews or grandchildren, to be able to see a day in your life today 30 years from now? Memories are so precious to us and being able to share these memories with future generations will be a rewarding experience.  As part of our social studies curriculum, students will be learning about changes over time.  Students will be studying photos to learn about how their community has changed over time.  In particular, we will look at photos to study how the land, buildings, clothing, and schools have changed over time.  As a culminating activity, my students will capture a slice of their history and preserve it through scrap booking. Key important events in their young lives will be documented with the date, location, and names.   Students will be using photos from home and from school to create their second grade memories.   Their scrap books will preserve their unique stories for future generations to enjoy.Your donation to this project will provide my second graders with an opportunity to learn about social studies in a fun and creative manner.  Through their scrapbooks, children will share their story with others and have a historical document for the rest of their lives.\n",
      "==================================================\n",
      "Some of my students come from difficult family lives, but they don't let that stop them. We have built a community in our classroom that allows each student to be comfortable with who they are. Even though we are a diverse school, everyone feels included. We have a high Hispanic population, and about 90% of the students are on free or reduced-price lunch. Most students are living with a single parent or both parents work full time, although many parents are eager to help in any way they can.\\r\\nWe all know how important it is to get kids up and moving. I want my classroom to be a place where students can be active phyically and mentally. The requested items will allow my students to move all day. When they are sitting in a chair, their movement is limited.\\r\\n       Kindergarten students have a hard time sitting still for long periods of time. They would much rather bounce on a stability ball or wiggle on a cushion than sit in a hard chair. Having these choices in my classroom will allow students to be active and learn at the same time. \\r\\n        Having these choices in my classroom will also build a greater bond between the students.  They will learn to choose which seat best fits their learning style, and hopefully they will be able to help their classmates find a seat that works for them. As the students move around the room, they will be able to work with everyone instead of being with one group each day.nannan\n",
      "==================================================\n",
      "\\\"This is how mathematicians do it! Remember we are all mathematicians in this classroom!\\\" A few simple words repeated regularly-words that instill a sense of pride in each of my students!\\r\\n\\r\\nI am proud to teach math in rural Alabama where our Title I school has both administrator and parental support.\\r\\nThis sense of community pride has been instilled in the students. It is visible in the respect they give both faculty and visitors to our campus. It is apparent in their love of learning. Our parents want the best for their children, but many of them, due to their own economic concerns, can offer very little in the way of anything more than just the basics. Many of our students live in homes without computers or Internet access. I feel that due to the socioeconomic status of many of my students it is my job to level the playing field as much as possible so that my students will have the same learning opportunities as other students and will be able to compete in the global market.Many of my students come from low socioeconomic homes. These homes have little in the way of hands on toys. In addition, even those from affluent backgrounds, are more interested in electronics  than \\\"old fashion\\\" toys. As a result, more and more students, find measurement- especially area, a very abstract concept!\\r\\n  Building bricks would provide students a hands on opportunity to explore measurement and area in an engaging way! Not only would students be able to explore measurement, but also to learn more about the real world skills of designing and building structures. It would also encourage teamwork and problem solving as students developed an idea and then worked to implement their idea.\\r\\n   How exciting would it be for students to have the opportunity to not only learn so much, but to also have fun through such a simple items as building bricks!\\r\\nnannan\n",
      "==================================================\n"
     ]
    }
   ],
   "source": [
    "# printing some random reviews\n",
    "print(project_data['essay'].values[0])\n",
    "print(\"=\"*50)\n",
    "print(project_data['essay'].values[150])\n",
    "print(\"=\"*50)\n",
    "print(project_data['essay'].values[1000])\n",
    "print(\"=\"*50)\n",
    "print(project_data['essay'].values[20000])\n",
    "print(\"=\"*50)\n",
    "print(project_data['essay'].values[99999])\n",
    "print(\"=\"*50)"
   ]
  },
  {
   "cell_type": "code",
   "execution_count": 0,
   "metadata": {
    "colab": {},
    "colab_type": "code",
    "id": "Yqj4vGVoCynh"
   },
   "outputs": [],
   "source": [
    "# https://stackoverflow.com/a/47091490/4084039\n",
    "import re\n",
    "\n",
    "def decontracted(phrase):\n",
    "    # specific\n",
    "    phrase = re.sub(r\"won't\", \"will not\", phrase)\n",
    "    phrase = re.sub(r\"can\\'t\", \"can not\", phrase)\n",
    "\n",
    "    # general\n",
    "    phrase = re.sub(r\"n\\'t\", \" not\", phrase)\n",
    "    phrase = re.sub(r\"\\'re\", \" are\", phrase)\n",
    "    phrase = re.sub(r\"\\'s\", \" is\", phrase)\n",
    "    phrase = re.sub(r\"\\'d\", \" would\", phrase)\n",
    "    phrase = re.sub(r\"\\'ll\", \" will\", phrase)\n",
    "    phrase = re.sub(r\"\\'t\", \" not\", phrase)\n",
    "    phrase = re.sub(r\"\\'ve\", \" have\", phrase)\n",
    "    phrase = re.sub(r\"\\'m\", \" am\", phrase)\n",
    "    return phrase"
   ]
  },
  {
   "cell_type": "code",
   "execution_count": 18,
   "metadata": {
    "colab": {
     "base_uri": "https://localhost:8080/",
     "height": 71
    },
    "colab_type": "code",
    "id": "aDUbe9piCynj",
    "outputId": "d83c4cfb-cb24-41cf-9b6e-7bb44ba50c24"
   },
   "outputs": [
    {
     "name": "stdout",
     "output_type": "stream",
     "text": [
      "Some of my students come from difficult family lives, but they do not let that stop them. We have built a community in our classroom that allows each student to be comfortable with who they are. Even though we are a diverse school, everyone feels included. We have a high Hispanic population, and about 90% of the students are on free or reduced-price lunch. Most students are living with a single parent or both parents work full time, although many parents are eager to help in any way they can.\\r\\nWe all know how important it is to get kids up and moving. I want my classroom to be a place where students can be active phyically and mentally. The requested items will allow my students to move all day. When they are sitting in a chair, their movement is limited.\\r\\n       Kindergarten students have a hard time sitting still for long periods of time. They would much rather bounce on a stability ball or wiggle on a cushion than sit in a hard chair. Having these choices in my classroom will allow students to be active and learn at the same time. \\r\\n        Having these choices in my classroom will also build a greater bond between the students.  They will learn to choose which seat best fits their learning style, and hopefully they will be able to help their classmates find a seat that works for them. As the students move around the room, they will be able to work with everyone instead of being with one group each day.nannan\n",
      "==================================================\n"
     ]
    }
   ],
   "source": [
    "sent = decontracted(project_data['essay'].values[20000])\n",
    "print(sent)\n",
    "print(\"=\"*50)"
   ]
  },
  {
   "cell_type": "code",
   "execution_count": 19,
   "metadata": {
    "colab": {
     "base_uri": "https://localhost:8080/",
     "height": 54
    },
    "colab_type": "code",
    "id": "vXSbHYJ4Cynp",
    "outputId": "1f48031f-40e8-4f63-85d5-37f5b2e8b9db",
    "scrolled": true
   },
   "outputs": [
    {
     "name": "stdout",
     "output_type": "stream",
     "text": [
      "Some of my students come from difficult family lives, but they do not let that stop them. We have built a community in our classroom that allows each student to be comfortable with who they are. Even though we are a diverse school, everyone feels included. We have a high Hispanic population, and about 90% of the students are on free or reduced-price lunch. Most students are living with a single parent or both parents work full time, although many parents are eager to help in any way they can.  We all know how important it is to get kids up and moving. I want my classroom to be a place where students can be active phyically and mentally. The requested items will allow my students to move all day. When they are sitting in a chair, their movement is limited.         Kindergarten students have a hard time sitting still for long periods of time. They would much rather bounce on a stability ball or wiggle on a cushion than sit in a hard chair. Having these choices in my classroom will allow students to be active and learn at the same time.           Having these choices in my classroom will also build a greater bond between the students.  They will learn to choose which seat best fits their learning style, and hopefully they will be able to help their classmates find a seat that works for them. As the students move around the room, they will be able to work with everyone instead of being with one group each day.nannan\n"
     ]
    }
   ],
   "source": [
    "# \\r \\n \\t remove from string python: http://texthandler.com/info/remove-line-breaks-python/\n",
    "sent = sent.replace('\\\\r', ' ')\n",
    "sent = sent.replace('\\\\\"', ' ')\n",
    "sent = sent.replace('\\\\n', ' ')\n",
    "print(sent)"
   ]
  },
  {
   "cell_type": "code",
   "execution_count": 20,
   "metadata": {
    "colab": {
     "base_uri": "https://localhost:8080/",
     "height": 54
    },
    "colab_type": "code",
    "id": "67Agrz_YCynt",
    "outputId": "2d668933-ea7f-4634-eb22-11609695076f",
    "scrolled": true
   },
   "outputs": [
    {
     "name": "stdout",
     "output_type": "stream",
     "text": [
      "Some of my students come from difficult family lives but they do not let that stop them We have built a community in our classroom that allows each student to be comfortable with who they are Even though we are a diverse school everyone feels included We have a high Hispanic population and about 90 of the students are on free or reduced price lunch Most students are living with a single parent or both parents work full time although many parents are eager to help in any way they can We all know how important it is to get kids up and moving I want my classroom to be a place where students can be active phyically and mentally The requested items will allow my students to move all day When they are sitting in a chair their movement is limited Kindergarten students have a hard time sitting still for long periods of time They would much rather bounce on a stability ball or wiggle on a cushion than sit in a hard chair Having these choices in my classroom will allow students to be active and learn at the same time Having these choices in my classroom will also build a greater bond between the students They will learn to choose which seat best fits their learning style and hopefully they will be able to help their classmates find a seat that works for them As the students move around the room they will be able to work with everyone instead of being with one group each day nannan\n"
     ]
    }
   ],
   "source": [
    "#remove spacial character: https://stackoverflow.com/a/5843547/4084039\n",
    "sent = re.sub('[^A-Za-z0-9]+', ' ', sent)\n",
    "print(sent)"
   ]
  },
  {
   "cell_type": "code",
   "execution_count": 0,
   "metadata": {
    "colab": {},
    "colab_type": "code",
    "id": "hhyPw-8wCyny"
   },
   "outputs": [],
   "source": [
    "# https://gist.github.com/sebleier/554280\n",
    "# we are removing the words from the stop words list: 'no', 'nor', 'not'\n",
    "stopwords= ['i', 'me', 'my', 'myself', 'we', 'our', 'ours', 'ourselves', 'you', \"you're\", \"you've\",\\\n",
    "            \"you'll\", \"you'd\", 'your', 'yours', 'yourself', 'yourselves', 'he', 'him', 'his', 'himself', \\\n",
    "            'she', \"she's\", 'her', 'hers', 'herself', 'it', \"it's\", 'its', 'itself', 'they', 'them', 'their',\\\n",
    "            'theirs', 'themselves', 'what', 'which', 'who', 'whom', 'this', 'that', \"that'll\", 'these', 'those', \\\n",
    "            'am', 'is', 'are', 'was', 'were', 'be', 'been', 'being', 'have', 'has', 'had', 'having', 'do', 'does', \\\n",
    "            'did', 'doing', 'a', 'an', 'the', 'and', 'but', 'if', 'or', 'because', 'as', 'until', 'while', 'of', \\\n",
    "            'at', 'by', 'for', 'with', 'about', 'against', 'between', 'into', 'through', 'during', 'before', 'after',\\\n",
    "            'above', 'below', 'to', 'from', 'up', 'down', 'in', 'out', 'on', 'off', 'over', 'under', 'again', 'further',\\\n",
    "            'then', 'once', 'here', 'there', 'when', 'where', 'why', 'how', 'all', 'any', 'both', 'each', 'few', 'more',\\\n",
    "            'most', 'other', 'some', 'such', 'only', 'own', 'same', 'so', 'than', 'too', 'very', \\\n",
    "            's', 't', 'can', 'will', 'just', 'don', \"don't\", 'should', \"should've\", 'now', 'd', 'll', 'm', 'o', 're', \\\n",
    "            've', 'y', 'ain', 'aren', \"aren't\", 'couldn', \"couldn't\", 'didn', \"didn't\", 'doesn', \"doesn't\", 'hadn',\\\n",
    "            \"hadn't\", 'hasn', \"hasn't\", 'haven', \"haven't\", 'isn', \"isn't\", 'ma', 'mightn', \"mightn't\", 'mustn',\\\n",
    "            \"mustn't\", 'needn', \"needn't\", 'shan', \"shan't\", 'shouldn', \"shouldn't\", 'wasn', \"wasn't\", 'weren', \"weren't\", \\\n",
    "            'won', \"won't\", 'wouldn', \"wouldn't\"]"
   ]
  },
  {
   "cell_type": "code",
   "execution_count": 22,
   "metadata": {
    "colab": {
     "base_uri": "https://localhost:8080/",
     "height": 34
    },
    "colab_type": "code",
    "id": "d6RCdphRCyn0",
    "outputId": "db8bfe72-eff0-48cc-bee6-0be101e17249"
   },
   "outputs": [
    {
     "name": "stderr",
     "output_type": "stream",
     "text": [
      "100%|██████████| 109245/109245 [01:05<00:00, 1679.80it/s]\n"
     ]
    }
   ],
   "source": [
    "# Combining all the above stundents \n",
    "from tqdm import tqdm\n",
    "preprocessed_essays = []\n",
    "# tqdm is for printing the status bar\n",
    "for sentance in tqdm(project_data['essay'].values):\n",
    "    sent = decontracted(sentance)\n",
    "    sent = sent.replace('\\\\r', ' ')\n",
    "    sent = sent.replace('\\\\\"', ' ')\n",
    "    sent = sent.replace('\\\\n', ' ')\n",
    "    sent = re.sub('[^A-Za-z0-9]+', ' ', sent)\n",
    "    # https://gist.github.com/sebleier/554280\n",
    "    sent = ' '.join(e for e in sent.split() if e.lower() not in stopwords)\n",
    "    preprocessed_essays.append(sent.lower().strip())"
   ]
  },
  {
   "cell_type": "code",
   "execution_count": 23,
   "metadata": {
    "colab": {
     "base_uri": "https://localhost:8080/",
     "height": 54
    },
    "colab_type": "code",
    "id": "rPo9cLvNCyn3",
    "outputId": "f6584285-89f2-459f-82be-8d75e391de39",
    "scrolled": true
   },
   "outputs": [
    {
     "data": {
      "text/plain": [
       "'students come difficult family lives not let stop built community classroom allows student comfortable even though diverse school everyone feels included high hispanic population 90 students free reduced price lunch students living single parent parents work full time although many parents eager help way know important get kids moving want classroom place students active phyically mentally requested items allow students move day sitting chair movement limited kindergarten students hard time sitting still long periods time would much rather bounce stability ball wiggle cushion sit hard chair choices classroom allow students active learn time choices classroom also build greater bond students learn choose seat best fits learning style hopefully able help classmates find seat works students move around room able work everyone instead one group day nannan'"
      ]
     },
     "execution_count": 23,
     "metadata": {
      "tags": []
     },
     "output_type": "execute_result"
    }
   ],
   "source": [
    "# after preprocesing\n",
    "preprocessed_essays[20000]"
   ]
  },
  {
   "cell_type": "markdown",
   "metadata": {
    "colab_type": "text",
    "id": "QeUw6WMKCyn7"
   },
   "source": [
    "<h2><font color='red'> 1.4 Preprocessing of `project_title`</font></h2>"
   ]
  },
  {
   "cell_type": "code",
   "execution_count": 24,
   "metadata": {
    "colab": {
     "base_uri": "https://localhost:8080/",
     "height": 34
    },
    "colab_type": "code",
    "id": "Ql9ttfW3Cyn7",
    "outputId": "a93070c7-b87d-4439-b2ec-29e233c91e5b"
   },
   "outputs": [
    {
     "name": "stderr",
     "output_type": "stream",
     "text": [
      "100%|██████████| 109245/109245 [00:02<00:00, 38601.03it/s]\n"
     ]
    }
   ],
   "source": [
    "# similarly you can preprocess the titles also\n",
    "preprocessed_title = []\n",
    "\n",
    "for sentence in tqdm(project_data['project_title'].values):\n",
    "    sent = decontracted(sentence)\n",
    "    sent = sent.replace('\\\\r',' ')\n",
    "    sent = sent.replace('\\\\\"',' ')\n",
    "    sent = sent.replace('\\\\n', ' ')\n",
    "    sent = re.sub('[^A-Za-z0-9]+', ' ', sent)\n",
    "    # https://gist.github.com/sebleier/554280\n",
    "    sent = ' '.join(e for e in sent.split() if e.lower() not in stopwords)\n",
    "    preprocessed_title.append(sent.lower().strip())"
   ]
  },
  {
   "cell_type": "markdown",
   "metadata": {
    "colab_type": "text",
    "id": "gbjk0MXsA2aV"
   },
   "source": [
    "### Preprocessing on Teacher prefix\n",
    "As the teacher prefix has period assciated with the title like mr.,dr.,etc.\n"
   ]
  },
  {
   "cell_type": "code",
   "execution_count": 25,
   "metadata": {
    "colab": {
     "base_uri": "https://localhost:8080/",
     "height": 68
    },
    "colab_type": "code",
    "id": "Rh7sr_kaA2aW",
    "outputId": "cc227d92-448d-4a96-8b1c-e7730d8078f8"
   },
   "outputs": [
    {
     "data": {
      "text/plain": [
       "False    106885\n",
       "True       2360\n",
       "Name: teacher_prefix, dtype: int64"
      ]
     },
     "execution_count": 25,
     "metadata": {
      "tags": []
     },
     "output_type": "execute_result"
    }
   ],
   "source": [
    "# let's check the distribution of this prefix with having period and  special characters\n",
    "# https://www.geeksforgeeks.org/python-program-check-string-contains-special-character/\n",
    "import re\n",
    "regex = re.compile('[@_!#$%^&*()<>?/\\|}{~:.]')\n",
    "project_data.teacher_prefix.map(lambda x: regex.search(x)== None).value_counts()"
   ]
  },
  {
   "cell_type": "markdown",
   "metadata": {
    "colab_type": "text",
    "id": "UwcSchciA2aa"
   },
   "source": [
    "There 106885 prefix having period at the end and 2360 titles won't have period. This can be lead to lead to vectorization problem as mr. and mr will be considered differently for features vector."
   ]
  },
  {
   "cell_type": "code",
   "execution_count": 0,
   "metadata": {
    "colab": {},
    "colab_type": "code",
    "id": "vIw_JEh6A2ab"
   },
   "outputs": [],
   "source": [
    "# https://stackoverflow.com/questions/50444346/fast-punctuation-removal-with-pandas\n",
    "# cleaning the teacher prefix columns as the cells have periods associated with the value like dr.,mr.,etc\n",
    "# python's str.translate function is implemented in C, and is therefore very fast.\n",
    "\n",
    "def clean_col(col): \n",
    "    import string\n",
    "    punct = '!\"#$%&\\'()*+,-./:;<=>?@[\\\\]^_`{}~'   # `|` is not present in teacher prefx\n",
    "    transtab = str.maketrans(dict.fromkeys(punct, ''))\n",
    "\n",
    "    col = '|'.join(col.tolist()).translate(transtab).split('|')\n",
    "    return col"
   ]
  },
  {
   "cell_type": "code",
   "execution_count": 0,
   "metadata": {
    "colab": {},
    "colab_type": "code",
    "id": "tt8AXqHjA2af"
   },
   "outputs": [],
   "source": [
    "preprocessed_prefix = clean_col(project_data['teacher_prefix'])\n"
   ]
  },
  {
   "cell_type": "code",
   "execution_count": 28,
   "metadata": {
    "colab": {
     "base_uri": "https://localhost:8080/",
     "height": 34
    },
    "colab_type": "code",
    "id": "bUeycbt0A2aj",
    "outputId": "3a4a558e-cc7e-4110-9d0a-7cbd03d4bd8e"
   },
   "outputs": [
    {
     "name": "stdout",
     "output_type": "stream",
     "text": [
      "109245\n"
     ]
    }
   ],
   "source": [
    "# verifying if any special char are present or not\n",
    "c = list(map(lambda x : regex.search(x) == None,preprocessed_prefix)).count(True)\n",
    "print(c)"
   ]
  },
  {
   "cell_type": "markdown",
   "metadata": {
    "colab_type": "text",
    "id": "WdzsvgN7A2al"
   },
   "source": [
    "No special character is present as we have 109245 number of data where all returning true to above regex means all values are special character free."
   ]
  },
  {
   "cell_type": "markdown",
   "metadata": {
    "colab_type": "text",
    "id": "NQg4ZfFtCyn9"
   },
   "source": [
    "## 1.5 Preparing data for models"
   ]
  },
  {
   "cell_type": "code",
   "execution_count": 29,
   "metadata": {
    "colab": {
     "base_uri": "https://localhost:8080/",
     "height": 136
    },
    "colab_type": "code",
    "id": "V4GS54ZTCyn-",
    "outputId": "0d808a84-1e61-4059-ed8a-445eae55d0ed",
    "scrolled": true
   },
   "outputs": [
    {
     "data": {
      "text/plain": [
       "Index(['Unnamed: 0', 'id', 'teacher_id', 'teacher_prefix', 'school_state',\n",
       "       'Date', 'project_grade_category', 'project_title', 'project_essay_1',\n",
       "       'project_essay_2', 'project_essay_3', 'project_essay_4',\n",
       "       'project_resource_summary',\n",
       "       'teacher_number_of_previously_posted_projects', 'project_is_approved',\n",
       "       'clean_categories', 'clean_subcategories', 'essay'],\n",
       "      dtype='object')"
      ]
     },
     "execution_count": 29,
     "metadata": {
      "tags": []
     },
     "output_type": "execute_result"
    }
   ],
   "source": [
    "project_data.columns"
   ]
  },
  {
   "cell_type": "markdown",
   "metadata": {
    "colab_type": "text",
    "id": "6FDsc1epCyoD"
   },
   "source": [
    "we are going to consider\n",
    "\n",
    "       - school_state : categorical data\n",
    "       - clean_categories : categorical data\n",
    "       - clean_subcategories : categorical data\n",
    "       - project_grade_category : categorical data\n",
    "       - teacher_prefix : categorical data\n",
    "       \n",
    "       - project_title : text data\n",
    "       - text : text data\n",
    "       - project_resource_summary: text data (optinal)\n",
    "       \n",
    "       - quantity : numerical (optinal)\n",
    "       - teacher_number_of_previously_posted_projects : numerical\n",
    "       - price : numerical"
   ]
  },
  {
   "cell_type": "markdown",
   "metadata": {
    "colab_type": "text",
    "id": "0d0QeeQ-CyoD"
   },
   "source": [
    "### 1.5.1 Vectorizing Categorical data"
   ]
  },
  {
   "cell_type": "markdown",
   "metadata": {
    "colab_type": "text",
    "id": "kFZFSOirCyoD"
   },
   "source": [
    "- https://www.appliedaicourse.com/course/applied-ai-course-online/lessons/handling-categorical-and-numerical-features/"
   ]
  },
  {
   "cell_type": "markdown",
   "metadata": {
    "colab_type": "text",
    "id": "6Em6Kb2-CypR"
   },
   "source": [
    "### 1.5.3 Vectorizing Numerical features"
   ]
  },
  {
   "cell_type": "markdown",
   "metadata": {
    "colab_type": "text",
    "id": "5UbaJH21Cypa"
   },
   "source": [
    "### 1.5.4 Merging all the above features"
   ]
  },
  {
   "cell_type": "markdown",
   "metadata": {
    "colab_type": "text",
    "id": "fAZixvIeCypb"
   },
   "source": [
    "- we need to merge all the numerical vectors i.e catogorical, text, numerical vectors"
   ]
  },
  {
   "cell_type": "markdown",
   "metadata": {
    "colab_type": "text",
    "id": "V3vrK7BSCypi"
   },
   "source": [
    "# Assignment 3: Apply KNN"
   ]
  },
  {
   "cell_type": "markdown",
   "metadata": {
    "colab_type": "text",
    "id": "WFI1ug-gCypi"
   },
   "source": [
    "<ol>\n",
    "    <li><strong>[Task-1] Apply KNN(brute force version) on these feature sets</strong>\n",
    "        <ul>\n",
    "            <li><font color='red'>Set 1</font>: categorical, numerical features + project_title(BOW) + preprocessed_essay (BOW)</li>\n",
    "            <li><font color='red'>Set 2</font>: categorical, numerical features + project_title(TFIDF)+  preprocessed_essay (TFIDF)</li>\n",
    "            <li><font color='red'>Set 3</font>: categorical, numerical features + project_title(AVG W2V)+  preprocessed_essay (AVG W2V)</li>\n",
    "            <li><font color='red'>Set 4</font>: categorical, numerical features + project_title(TFIDF W2V)+  preprocessed_essay (TFIDF W2V)</li>\n",
    "        </ul>\n",
    "    </li>\n",
    "    <br>\n",
    "    <li><strong>Hyper paramter tuning to find best K</strong>\n",
    "        <ul>\n",
    "    <li>Find the best hyper parameter which results in the maximum <a href='https://www.appliedaicourse.com/course/applied-ai-course-online/lessons/receiver-operating-characteristic-curve-roc-curve-and-auc-1/'>AUC</a> value</li>\n",
    "    <li>Find the best hyper paramter using k-fold cross validation (or) simple cross validation data</li>\n",
    "    <li>Use gridsearch-cv or randomsearch-cv or  write your own for loops to do this task</li>\n",
    "        </ul>\n",
    "    </li>\n",
    "    <br>\n",
    "    <li>\n",
    "    <strong>Representation of results</strong>\n",
    "        <ul>\n",
    "    <li>You need to plot the performance of model both on train data and cross validation data for each hyper parameter, as shown in the figure\n",
    "    <img src='train_cv_auc.JPG' width=300px></li>\n",
    "    <li>Once you find the best hyper parameter, you need to train your model-M using the best hyper-param. Now, find the AUC on test data and plot the ROC curve on both train and test using model-M.\n",
    "    <img src='train_test_auc.JPG' width=300px></li>\n",
    "    <li>Along with plotting ROC curve, you need to print the <a href='https://www.appliedaicourse.com/course/applied-ai-course-online/lessons/confusion-matrix-tpr-fpr-fnr-tnr-1/'>confusion matrix</a> with predicted and original labels of test data points\n",
    "    <img src='confusion_matrix.png' width=300px></li>\n",
    "        </ul>\n",
    "    </li>\n",
    "    <li><strong> [Task-2] </strong>\n",
    "        <ul>\n",
    "            <li>Select top 2000 features from feature <font color='red'>Set 2</font> using <a href='https://scikit-learn.org/stable/modules/generated/sklearn.feature_selection.SelectKBest.html'>`SelectKBest`</a>\n",
    "and then apply KNN on top of these features</li>\n",
    "            <li>\n",
    "                <pre>\n",
    "                from sklearn.datasets import load_digits\n",
    "                from sklearn.feature_selection import SelectKBest, chi2\n",
    "                X, y = load_digits(return_X_y=True)\n",
    "                X.shape\n",
    "                X_new = SelectKBest(chi2, k=20).fit_transform(X, y)\n",
    "                X_new.shape\n",
    "                ========\n",
    "                output:\n",
    "                (1797, 64)\n",
    "                (1797, 20)\n",
    "                </pre>\n",
    "            </li>\n",
    "            <li>Repeat the steps 2 and 3 on the data matrix after feature selection</li>\n",
    "        </ul>\n",
    "    </li>\n",
    "    <br>\n",
    "    <li><strong>Conclusion</strong>\n",
    "        <ul>\n",
    "    <li>You need to summarize the results at the end of the notebook, summarize it in the table format. To print out a table please refer to this prettytable library<a href='http://zetcode.com/python/prettytable/'> link</a> \n",
    "        <img src='summary.JPG' width=400px>\n",
    "    </li>\n",
    "        </ul>\n",
    "</ol>"
   ]
  },
  {
   "cell_type": "markdown",
   "metadata": {
    "colab_type": "text",
    "id": "vNcsOaPrCypk"
   },
   "source": [
    "<h4><font color='red'>Note: Data Leakage</font></h4>\n",
    "\n",
    "1. There will be an issue of data-leakage if you vectorize the entire data and then split it into train/cv/test.\n",
    "2. To avoid the issue of data-leakag, make sure to split your data first and then vectorize it. \n",
    "3. While vectorizing your data, apply the method fit_transform() on you train data, and apply the method transform() on cv/test data.\n",
    "4. For more details please go through this <a href='https://soundcloud.com/applied-ai-course/leakage-bow-and-tfidf'>link.</a>"
   ]
  },
  {
   "cell_type": "markdown",
   "metadata": {
    "colab_type": "text",
    "id": "u7svGNyWCypl"
   },
   "source": [
    "<h1>2. K Nearest Neighbor</h1>"
   ]
  },
  {
   "cell_type": "markdown",
   "metadata": {
    "colab_type": "text",
    "id": "W6fBRNBMCypl"
   },
   "source": [
    "<h2>2.1 Splitting data into Train and cross validation(or test): Stratified Sampling</h2>"
   ]
  },
  {
   "cell_type": "markdown",
   "metadata": {
    "colab_type": "text",
    "id": "tNvUXB-xWVdw"
   },
   "source": [
    "#### Pandas Dataframe Reordering\n",
    "\n",
    "Reordering the pandas dataframe with pre processed essays,title and relevant columns for classification"
   ]
  },
  {
   "cell_type": "code",
   "execution_count": 30,
   "metadata": {
    "colab": {
     "base_uri": "https://localhost:8080/",
     "height": 335
    },
    "colab_type": "code",
    "id": "1K9Edd5gWUhq",
    "outputId": "197ed04a-fb4d-45fd-d7b4-fdee3d7afb99"
   },
   "outputs": [
    {
     "data": {
      "text/html": [
       "<div>\n",
       "<style scoped>\n",
       "    .dataframe tbody tr th:only-of-type {\n",
       "        vertical-align: middle;\n",
       "    }\n",
       "\n",
       "    .dataframe tbody tr th {\n",
       "        vertical-align: top;\n",
       "    }\n",
       "\n",
       "    .dataframe thead th {\n",
       "        text-align: right;\n",
       "    }\n",
       "</style>\n",
       "<table border=\"1\" class=\"dataframe\">\n",
       "  <thead>\n",
       "    <tr style=\"text-align: right;\">\n",
       "      <th></th>\n",
       "      <th>Unnamed: 0</th>\n",
       "      <th>id</th>\n",
       "      <th>teacher_id</th>\n",
       "      <th>teacher_prefix</th>\n",
       "      <th>school_state</th>\n",
       "      <th>Date</th>\n",
       "      <th>project_grade_category</th>\n",
       "      <th>project_title</th>\n",
       "      <th>project_essay_1</th>\n",
       "      <th>project_essay_2</th>\n",
       "      <th>project_essay_3</th>\n",
       "      <th>project_essay_4</th>\n",
       "      <th>project_resource_summary</th>\n",
       "      <th>teacher_number_of_previously_posted_projects</th>\n",
       "      <th>project_is_approved</th>\n",
       "      <th>clean_categories</th>\n",
       "      <th>clean_subcategories</th>\n",
       "      <th>essay</th>\n",
       "    </tr>\n",
       "  </thead>\n",
       "  <tbody>\n",
       "    <tr>\n",
       "      <th>55660</th>\n",
       "      <td>8393</td>\n",
       "      <td>p205479</td>\n",
       "      <td>2bf07ba08945e5d8b2a3f269b2b3cfe5</td>\n",
       "      <td>Mrs.</td>\n",
       "      <td>CA</td>\n",
       "      <td>2016-04-27 00:27:36</td>\n",
       "      <td>Grades PreK-2</td>\n",
       "      <td>Engineering STEAM into the Primary Classroom</td>\n",
       "      <td>I have been fortunate enough to use the Fairy ...</td>\n",
       "      <td>My students come from a variety of backgrounds...</td>\n",
       "      <td>Each month I try to do several science or STEM...</td>\n",
       "      <td>It is challenging to develop high quality scie...</td>\n",
       "      <td>My students need STEM kits to learn critical s...</td>\n",
       "      <td>53</td>\n",
       "      <td>1</td>\n",
       "      <td>Math_Science</td>\n",
       "      <td>AppliedSciences Health_LifeScience</td>\n",
       "      <td>I have been fortunate enough to use the Fairy ...</td>\n",
       "    </tr>\n",
       "    <tr>\n",
       "      <th>76127</th>\n",
       "      <td>37728</td>\n",
       "      <td>p043609</td>\n",
       "      <td>3f60494c61921b3b43ab61bdde2904df</td>\n",
       "      <td>Ms.</td>\n",
       "      <td>UT</td>\n",
       "      <td>2016-04-27 00:31:25</td>\n",
       "      <td>Grades 3-5</td>\n",
       "      <td>Sensory Tools for Focus</td>\n",
       "      <td>Imagine being 8-9 years old. You're in your th...</td>\n",
       "      <td>Most of my students have autism, anxiety, anot...</td>\n",
       "      <td>It is tough to do more than one thing at a tim...</td>\n",
       "      <td>When my students are able to calm themselves d...</td>\n",
       "      <td>My students need Boogie Boards for quiet senso...</td>\n",
       "      <td>4</td>\n",
       "      <td>1</td>\n",
       "      <td>SpecialNeeds</td>\n",
       "      <td>SpecialNeeds</td>\n",
       "      <td>Imagine being 8-9 years old. You're in your th...</td>\n",
       "    </tr>\n",
       "  </tbody>\n",
       "</table>\n",
       "</div>"
      ],
      "text/plain": [
       "       Unnamed: 0  ...                                              essay\n",
       "55660        8393  ...  I have been fortunate enough to use the Fairy ...\n",
       "76127       37728  ...  Imagine being 8-9 years old. You're in your th...\n",
       "\n",
       "[2 rows x 18 columns]"
      ]
     },
     "execution_count": 30,
     "metadata": {
      "tags": []
     },
     "output_type": "execute_result"
    }
   ],
   "source": [
    "project_data.head(2)"
   ]
  },
  {
   "cell_type": "code",
   "execution_count": 0,
   "metadata": {
    "colab": {},
    "colab_type": "code",
    "id": "2KIa2Z06yb4n"
   },
   "outputs": [],
   "source": [
    "# checking the aggregate price per resource\n",
    "price_data = resource_data.groupby('id').agg({'price':'sum', 'quantity':'sum'}).reset_index()\n",
    "project_data = pd.merge(project_data, price_data, on='id', how='left')"
   ]
  },
  {
   "cell_type": "code",
   "execution_count": 32,
   "metadata": {
    "colab": {
     "base_uri": "https://localhost:8080/",
     "height": 153
    },
    "colab_type": "code",
    "id": "-GiUUFO8A2bA",
    "outputId": "8097710a-4602-4c02-8be3-1f034479511c"
   },
   "outputs": [
    {
     "data": {
      "text/plain": [
       "Index(['Unnamed: 0', 'id', 'teacher_id', 'teacher_prefix', 'school_state',\n",
       "       'Date', 'project_grade_category', 'project_title', 'project_essay_1',\n",
       "       'project_essay_2', 'project_essay_3', 'project_essay_4',\n",
       "       'project_resource_summary',\n",
       "       'teacher_number_of_previously_posted_projects', 'project_is_approved',\n",
       "       'clean_categories', 'clean_subcategories', 'essay', 'price',\n",
       "       'quantity'],\n",
       "      dtype='object')"
      ]
     },
     "execution_count": 32,
     "metadata": {
      "tags": []
     },
     "output_type": "execute_result"
    }
   ],
   "source": [
    "project_data.columns"
   ]
  },
  {
   "cell_type": "code",
   "execution_count": 33,
   "metadata": {
    "colab": {
     "base_uri": "https://localhost:8080/",
     "height": 142
    },
    "colab_type": "code",
    "id": "v57BTOtnbOBi",
    "outputId": "c5ccf263-29a7-40c4-c1b7-0e6870e7c868"
   },
   "outputs": [
    {
     "data": {
      "text/html": [
       "<div>\n",
       "<style scoped>\n",
       "    .dataframe tbody tr th:only-of-type {\n",
       "        vertical-align: middle;\n",
       "    }\n",
       "\n",
       "    .dataframe tbody tr th {\n",
       "        vertical-align: top;\n",
       "    }\n",
       "\n",
       "    .dataframe thead th {\n",
       "        text-align: right;\n",
       "    }\n",
       "</style>\n",
       "<table border=\"1\" class=\"dataframe\">\n",
       "  <thead>\n",
       "    <tr style=\"text-align: right;\">\n",
       "      <th></th>\n",
       "      <th>school_state</th>\n",
       "      <th>project_grade_category</th>\n",
       "      <th>clean_categories</th>\n",
       "      <th>clean_subcategories</th>\n",
       "      <th>teacher_number_of_previously_posted_projects</th>\n",
       "      <th>price</th>\n",
       "    </tr>\n",
       "  </thead>\n",
       "  <tbody>\n",
       "    <tr>\n",
       "      <th>0</th>\n",
       "      <td>CA</td>\n",
       "      <td>Grades PreK-2</td>\n",
       "      <td>Math_Science</td>\n",
       "      <td>AppliedSciences Health_LifeScience</td>\n",
       "      <td>53</td>\n",
       "      <td>725.05</td>\n",
       "    </tr>\n",
       "    <tr>\n",
       "      <th>1</th>\n",
       "      <td>UT</td>\n",
       "      <td>Grades 3-5</td>\n",
       "      <td>SpecialNeeds</td>\n",
       "      <td>SpecialNeeds</td>\n",
       "      <td>4</td>\n",
       "      <td>213.03</td>\n",
       "    </tr>\n",
       "    <tr>\n",
       "      <th>2</th>\n",
       "      <td>CA</td>\n",
       "      <td>Grades PreK-2</td>\n",
       "      <td>Literacy_Language</td>\n",
       "      <td>Literacy</td>\n",
       "      <td>10</td>\n",
       "      <td>329.00</td>\n",
       "    </tr>\n",
       "  </tbody>\n",
       "</table>\n",
       "</div>"
      ],
      "text/plain": [
       "  school_state  ...   price\n",
       "0           CA  ...  725.05\n",
       "1           UT  ...  213.03\n",
       "2           CA  ...  329.00\n",
       "\n",
       "[3 rows x 6 columns]"
      ]
     },
     "execution_count": 33,
     "metadata": {
      "tags": []
     },
     "output_type": "execute_result"
    }
   ],
   "source": [
    "# https://stackoverflow.com/questions/45747589/copying-a-column-from-one-dataframe-to-another-gives-nan-values?rq=1\n",
    "\n",
    "project_data_ = pd.DataFrame({c: project_data[c].to_numpy() for c in ('school_state','project_grade_category','clean_categories','clean_subcategories',\\\n",
    "                                                                     'teacher_number_of_previously_posted_projects','price')})\n",
    "project_data_.head(3)\n",
    "\n"
   ]
  },
  {
   "cell_type": "code",
   "execution_count": 34,
   "metadata": {
    "colab": {
     "base_uri": "https://localhost:8080/",
     "height": 400
    },
    "colab_type": "code",
    "id": "UVXU8tdGvt0t",
    "outputId": "4c98362a-7129-477c-f70a-7614c7c60195"
   },
   "outputs": [
    {
     "data": {
      "text/html": [
       "<div>\n",
       "<style scoped>\n",
       "    .dataframe tbody tr th:only-of-type {\n",
       "        vertical-align: middle;\n",
       "    }\n",
       "\n",
       "    .dataframe tbody tr th {\n",
       "        vertical-align: top;\n",
       "    }\n",
       "\n",
       "    .dataframe thead th {\n",
       "        text-align: right;\n",
       "    }\n",
       "</style>\n",
       "<table border=\"1\" class=\"dataframe\">\n",
       "  <thead>\n",
       "    <tr style=\"text-align: right;\">\n",
       "      <th></th>\n",
       "      <th>school_state</th>\n",
       "      <th>project_grade_category</th>\n",
       "      <th>clean_categories</th>\n",
       "      <th>clean_subcategories</th>\n",
       "      <th>teacher_number_of_previously_posted_projects</th>\n",
       "      <th>price</th>\n",
       "      <th>teacher_prefix</th>\n",
       "      <th>essay</th>\n",
       "      <th>title</th>\n",
       "      <th>approved</th>\n",
       "    </tr>\n",
       "  </thead>\n",
       "  <tbody>\n",
       "    <tr>\n",
       "      <th>0</th>\n",
       "      <td>CA</td>\n",
       "      <td>Grades PreK-2</td>\n",
       "      <td>Math_Science</td>\n",
       "      <td>AppliedSciences Health_LifeScience</td>\n",
       "      <td>53</td>\n",
       "      <td>725.05</td>\n",
       "      <td>Mrs</td>\n",
       "      <td>fortunate enough use fairy tale stem kits clas...</td>\n",
       "      <td>engineering steam primary classroom</td>\n",
       "      <td>1</td>\n",
       "    </tr>\n",
       "    <tr>\n",
       "      <th>1</th>\n",
       "      <td>UT</td>\n",
       "      <td>Grades 3-5</td>\n",
       "      <td>SpecialNeeds</td>\n",
       "      <td>SpecialNeeds</td>\n",
       "      <td>4</td>\n",
       "      <td>213.03</td>\n",
       "      <td>Ms</td>\n",
       "      <td>imagine 8 9 years old third grade classroom se...</td>\n",
       "      <td>sensory tools focus</td>\n",
       "      <td>1</td>\n",
       "    </tr>\n",
       "    <tr>\n",
       "      <th>2</th>\n",
       "      <td>CA</td>\n",
       "      <td>Grades PreK-2</td>\n",
       "      <td>Literacy_Language</td>\n",
       "      <td>Literacy</td>\n",
       "      <td>10</td>\n",
       "      <td>329.00</td>\n",
       "      <td>Mrs</td>\n",
       "      <td>class 24 students comes diverse learners stude...</td>\n",
       "      <td>mobile learning mobile listening center</td>\n",
       "      <td>1</td>\n",
       "    </tr>\n",
       "  </tbody>\n",
       "</table>\n",
       "</div>"
      ],
      "text/plain": [
       "  school_state  ... approved\n",
       "0           CA  ...        1\n",
       "1           UT  ...        1\n",
       "2           CA  ...        1\n",
       "\n",
       "[3 rows x 10 columns]"
      ]
     },
     "execution_count": 34,
     "metadata": {
      "tags": []
     },
     "output_type": "execute_result"
    }
   ],
   "source": [
    "# assigning the text data to existing dataframe\n",
    "project_data_ = project_data_.assign(teacher_prefix = preprocessed_prefix,\\\n",
    "                                     essay = preprocessed_essays,title = preprocessed_title,approved = project_data['project_is_approved'])\n",
    "project_data_.head(3)\n"
   ]
  },
  {
   "cell_type": "markdown",
   "metadata": {
    "colab_type": "text",
    "id": "06xq1Pt2L5Mk"
   },
   "source": [
    "#### Creating the dataframe for new features first."
   ]
  },
  {
   "cell_type": "code",
   "execution_count": 35,
   "metadata": {
    "colab": {
     "base_uri": "https://localhost:8080/",
     "height": 51
    },
    "colab_type": "code",
    "id": "IlZdfjdJL5Ms",
    "outputId": "854df823-784a-459c-98d5-c5b7fcf3c0c7"
   },
   "outputs": [
    {
     "name": "stdout",
     "output_type": "stream",
     "text": [
      "Negative reviews count =  16542\n",
      "positive reviews count =  92703\n"
     ]
    }
   ],
   "source": [
    "# Before splitting model let's check if dataset is balanced or not.\n",
    "print(\"Negative reviews count = \",np.sum(project_data_.approved==0))\n",
    "print(\"positive reviews count = \",np.sum(project_data_.approved==1))"
   ]
  },
  {
   "cell_type": "code",
   "execution_count": 36,
   "metadata": {
    "colab": {
     "base_uri": "https://localhost:8080/",
     "height": 295
    },
    "colab_type": "code",
    "id": "f-n7xDc-L5Mv",
    "outputId": "e6ef5405-b142-4140-cec8-5ff4fbf96f53"
   },
   "outputs": [
    {
     "data": {
      "text/plain": [
       "<matplotlib.axes._subplots.AxesSubplot at 0x7f474e681048>"
      ]
     },
     "execution_count": 36,
     "metadata": {
      "tags": []
     },
     "output_type": "execute_result"
    },
    {
     "data": {
      "image/png": "[encoded data removed]",
      "text/plain": [
       "<Figure size 432x288 with 1 Axes>"
      ]
     },
     "metadata": {
      "tags": []
     },
     "output_type": "display_data"
    }
   ],
   "source": [
    "# vizualing the distribution of class attribute\n",
    "project_data_.approved.value_counts().plot(kind='bar',title='Counts (Approval)')"
   ]
  },
  {
   "cell_type": "markdown",
   "metadata": {
    "colab_type": "text",
    "id": "BVIOF4X4L5My"
   },
   "source": [
    "As we can clearly see that this dataset higly imbalanced towards positive reviews that means most of the posted projects are getting accepted on this platform."
   ]
  },
  {
   "cell_type": "code",
   "execution_count": 37,
   "metadata": {
    "colab": {
     "base_uri": "https://localhost:8080/",
     "height": 85
    },
    "colab_type": "code",
    "id": "WACKQWT_Cypl",
    "outputId": "81c5f559-2b44-45b0-a302-b4bd3a7aeba4"
   },
   "outputs": [
    {
     "name": "stdout",
     "output_type": "stream",
     "text": [
      "Train Data shape :  (69916, 9) (69916,)\n",
      "Cross Validation Data shape : (17480, 9) (17480,)\n",
      "Test Data shape : (21849, 9) (21849,)\n",
      "====================================================================================================\n"
     ]
    }
   ],
   "source": [
    "# https://scikit-learn.org/stable/modules/generated/sklearn.model_selection.train_test_split.html\n",
    "from sklearn.model_selection import train_test_split\n",
    "x_train,x_test,y_train,y_test = None,None,None,None # clearing the variables\n",
    "# splitting of train and test data with 80:20 ratio\n",
    "\n",
    "x_train,x_test,y_train,y_test = train_test_split(project_data_.iloc[:,:project_data_.shape[1]-1],project_data_.approved,test_size=.2,random_state=31,stratify=project_data_.approved)\n",
    "#X_train,X_cv,y_train,y_cv = train_test_split(X_traincv,y_traincv,test_size=.2,stratify=y_traincv)\n",
    "x_train,x_cv,y_train,y_cv = train_test_split(x_train,y_train,test_size=.2,random_state=31,stratify=y_train)\n",
    "\n",
    "\n",
    "print(\"Train Data shape : \",x_train.shape, y_train.shape)\n",
    "print(\"Cross Validation Data shape :\", x_cv.shape, y_cv.shape)\n",
    "print(\"Test Data shape :\", x_test.shape, y_test.shape)\n",
    "\n",
    "print(\"=\"*100)\n"
   ]
  },
  {
   "cell_type": "code",
   "execution_count": 38,
   "metadata": {
    "colab": {
     "base_uri": "https://localhost:8080/",
     "height": 221
    },
    "colab_type": "code",
    "id": "J5N4IhTGL5NO",
    "outputId": "e90ce7a6-1398-438a-f112-900597b63346"
   },
   "outputs": [
    {
     "name": "stdout",
     "output_type": "stream",
     "text": [
      "x train distribution = \n",
      " 1    59329\n",
      "0    10587\n",
      "Name: approved, dtype: int64\n",
      "x cv distribution = \n",
      " 1    14833\n",
      "0     2647\n",
      "Name: approved, dtype: int64\n",
      "x test distribution = \n",
      " 1    18541\n",
      "0     3308\n",
      "Name: approved, dtype: int64\n"
     ]
    }
   ],
   "source": [
    "# Count of positive and negative class label in training, cross validation and test data\n",
    "\n",
    "print(\"x train distribution = \\n\", y_train.value_counts())\n",
    "print(\"x cv distribution = \\n\", y_cv.value_counts())\n",
    "print(\"x test distribution = \\n\", y_test.value_counts())"
   ]
  },
  {
   "cell_type": "code",
   "execution_count": 39,
   "metadata": {
    "colab": {
     "base_uri": "https://localhost:8080/",
     "height": 451
    },
    "colab_type": "code",
    "id": "G2pb-NkPmj-C",
    "outputId": "625dd9d1-a93e-4810-f086-45ef9d595bf0"
   },
   "outputs": [
    {
     "data": {
      "text/html": [
       "<div>\n",
       "<style scoped>\n",
       "    .dataframe tbody tr th:only-of-type {\n",
       "        vertical-align: middle;\n",
       "    }\n",
       "\n",
       "    .dataframe tbody tr th {\n",
       "        vertical-align: top;\n",
       "    }\n",
       "\n",
       "    .dataframe thead th {\n",
       "        text-align: right;\n",
       "    }\n",
       "</style>\n",
       "<table border=\"1\" class=\"dataframe\">\n",
       "  <thead>\n",
       "    <tr style=\"text-align: right;\">\n",
       "      <th></th>\n",
       "      <th>school_state</th>\n",
       "      <th>project_grade_category</th>\n",
       "      <th>clean_categories</th>\n",
       "      <th>clean_subcategories</th>\n",
       "      <th>teacher_number_of_previously_posted_projects</th>\n",
       "      <th>price</th>\n",
       "      <th>teacher_prefix</th>\n",
       "      <th>essay</th>\n",
       "      <th>title</th>\n",
       "    </tr>\n",
       "  </thead>\n",
       "  <tbody>\n",
       "    <tr>\n",
       "      <th>37390</th>\n",
       "      <td>NY</td>\n",
       "      <td>Grades 6-8</td>\n",
       "      <td>AppliedLearning Health_Sports</td>\n",
       "      <td>CharacterEducation Health_Wellness</td>\n",
       "      <td>0</td>\n",
       "      <td>202.72</td>\n",
       "      <td>Mrs</td>\n",
       "      <td>teacher low income high poverty school student...</td>\n",
       "      <td>place peace classroom</td>\n",
       "    </tr>\n",
       "    <tr>\n",
       "      <th>80786</th>\n",
       "      <td>MA</td>\n",
       "      <td>Grades PreK-2</td>\n",
       "      <td>Literacy_Language</td>\n",
       "      <td>ESL Literacy</td>\n",
       "      <td>2</td>\n",
       "      <td>194.05</td>\n",
       "      <td>Teacher</td>\n",
       "      <td>teach sei classroom east boston students engli...</td>\n",
       "      <td>laptops learning</td>\n",
       "    </tr>\n",
       "    <tr>\n",
       "      <th>253</th>\n",
       "      <td>TX</td>\n",
       "      <td>Grades PreK-2</td>\n",
       "      <td>Math_Science</td>\n",
       "      <td>AppliedSciences EnvironmentalScience</td>\n",
       "      <td>4</td>\n",
       "      <td>146.66</td>\n",
       "      <td>Mrs</td>\n",
       "      <td>day begins story relates science topic week ca...</td>\n",
       "      <td>mad science</td>\n",
       "    </tr>\n",
       "  </tbody>\n",
       "</table>\n",
       "</div>"
      ],
      "text/plain": [
       "      school_state  ...                  title\n",
       "37390           NY  ...  place peace classroom\n",
       "80786           MA  ...       laptops learning\n",
       "253             TX  ...            mad science\n",
       "\n",
       "[3 rows x 9 columns]"
      ]
     },
     "execution_count": 39,
     "metadata": {
      "tags": []
     },
     "output_type": "execute_result"
    }
   ],
   "source": [
    "x_train.head(3)"
   ]
  },
  {
   "cell_type": "markdown",
   "metadata": {
    "colab_type": "text",
    "id": "oy6rsDzA23gx"
   },
   "source": [
    "## **Functions Declaration:**\n",
    "\n",
    "Declaration of functions for which is further used in computational process like \n",
    "* Vectorization\n",
    "* Hyperparamater Tuning\n",
    "* Model Generalisation score on Test Data \n",
    "* Printing Dimenionality info of input matrix list\n",
    "* Retrive the vocabulary words for vectorization purposes"
   ]
  },
  {
   "cell_type": "code",
   "execution_count": 0,
   "metadata": {
    "colab": {},
    "colab_type": "code",
    "id": "2ABYfaT0KqEE"
   },
   "outputs": [],
   "source": [
    "\n",
    "def retreive_vocab(_data=None):\n",
    "    ls = []\n",
    "    for word in _data:\n",
    "        if len(word) != 1:\n",
    "            for w in word.split():\n",
    "                ls.append(w)\n",
    "        else:\n",
    "            ls.append(word)\n",
    "    return list(set(ls))"
   ]
  },
  {
   "cell_type": "code",
   "execution_count": 0,
   "metadata": {
    "colab": {},
    "colab_type": "code",
    "id": "L3J_vXoz7gZH"
   },
   "outputs": [],
   "source": [
    "# stronging variables into pickle files python: http://www.jessicayung.com/how-to-use-pickle-to-save-and-load-variables-in-python/\n",
    "# make sure you have the glove_vectors file\n",
    "with open('drive/My Drive/data/glove_vectors.dms', 'rb') as f:\n",
    "    model = pickle.load(f)\n",
    "    glove_words =  set(model.keys())"
   ]
  },
  {
   "cell_type": "code",
   "execution_count": 0,
   "metadata": {
    "colab": {},
    "colab_type": "code",
    "id": "TjT6fI7GL5NS"
   },
   "outputs": [],
   "source": [
    "def compute_avg_w2v(_text,w2v_model_words = glove_words):\n",
    "    avg_w2v_vectors = []; # the avg-w2v for each sentence/review is stored in this list\n",
    "    for sentence in tqdm(_text): # for each review/sentence\n",
    "        vector = np.zeros(300) # as word vectors are of zero length\n",
    "        cnt_words =0; # num of words with a valid vector in the sentence/review\n",
    "        for word in sentence.split(): # for each word in a review/sentence\n",
    "            if word in w2v_model_words:\n",
    "                vector += model[word]\n",
    "                cnt_words += 1\n",
    "        if cnt_words != 0:\n",
    "            vector /= cnt_words\n",
    "        avg_w2v_vectors.append(vector)\n",
    "\n",
    "    print(len(avg_w2v_vectors))\n",
    "    print(len(avg_w2v_vectors[0]))\n",
    "        \n",
    "    return avg_w2v_vectors"
   ]
  },
  {
   "cell_type": "code",
   "execution_count": 0,
   "metadata": {
    "colab": {},
    "colab_type": "code",
    "id": "b0uLYzBhL5NX"
   },
   "outputs": [],
   "source": [
    "def compute_tfidf_w2v(tfidf_model,_text,w2v_model_words = glove_words):\n",
    "    # we are converting a dictionary with word as a key, and the idf as a value\n",
    "    idf_value = dict(zip(tfidf_model.get_feature_names(), list(tfidf_model.idf_)))\n",
    "    tfidf_words = set(tfidf_model.get_feature_names())\n",
    "    # average Word2Vec\n",
    "    # compute average word2vec for each review.\n",
    "    tfidf_w2v_vectors = []; # the avg-w2v for each sentence/review is stored in this list\n",
    "    for sentence in tqdm(preprocessed_essays): # for each review/sentence\n",
    "        vector = np.zeros(300) # as word vectors are of zero length\n",
    "        tf_idf_weight =0; # num of words with a valid vector in the sentence/review\n",
    "        for word in sentence.split(): # for each word in a review/sentence\n",
    "            if (word in w2v_model_words) and (word in tfidf_words):\n",
    "                vec = model[word] # getting the vector for each word\n",
    "                # here we are multiplying idf value(dictionary[word]) and \n",
    "                #the tf value((sentence.count(word)/len(sentence.split())))\n",
    "                tf_idf = idf_value[word]*(sentence.count(word)/len(sentence.split())) # getting the tfidf value for each word\n",
    "                vector += (vec * tf_idf) # calculating tfidf weighted w2v\n",
    "                tf_idf_weight += tf_idf\n",
    "        if tf_idf_weight != 0:\n",
    "            vector /= tf_idf_weight\n",
    "        tfidf_w2v_vectors.append(vector)\n",
    "\n",
    "        print(len(tfidf_w2v_vectors))\n",
    "        print(len(tfidf_w2v_vectors[0]))\n",
    "        return tfidf_w2v_vectors"
   ]
  },
  {
   "cell_type": "code",
   "execution_count": 0,
   "metadata": {
    "colab": {},
    "colab_type": "code",
    "id": "PNweA6F7L5NZ"
   },
   "outputs": [],
   "source": [
    "# Defining a function to compute BOW, TFIDF and Word2Vec \n",
    "\n",
    "def vectorize_text(encoding_type=None,**kwargs):\n",
    "    # Validation for proper argument names\n",
    "    try:\n",
    "        checklist = ['test_text','cv_text','train_text']\n",
    "        for k,v in kwargs.items():\n",
    "            if k in checklist:\n",
    "                checklist.remove(k)\n",
    "        if not checklist:\n",
    "            # do nothing\n",
    "            pass\n",
    "        else:\n",
    "            raise ValueError(\"You haven't passed the matrices in the described format, please use names as test_text,cv_text,train_text\")\n",
    "    except ValueError as e:\n",
    "        print(\"Error : \", e)\n",
    "            \n",
    "    text_train = kwargs['train_text']\n",
    "    text_cv = kwargs['cv_text']\n",
    "    text_test = kwargs['test_text']\n",
    "    \n",
    "    if \"BOW\" in encoding_type.upper():\n",
    "        #Compute BOW\n",
    "        # We are considering only the words which appeared in at least 10 documents(rows or projects).\n",
    "        vectorizer = CountVectorizer(min_df=10,max_features=3000)\n",
    "        vectorizer.fit(text_train)\n",
    "        return vectorizer.transform(text_train),vectorizer.transform(text_cv),vectorizer.transform(text_test)\n",
    "    \n",
    "    elif \"TFIDF\" in encoding_type.upper():\n",
    "        #Compute TFIDF\n",
    "        from sklearn.feature_extraction.text import TfidfVectorizer\n",
    "        vectorizer = TfidfVectorizer(min_df=10,max_features=3000)\n",
    "        vectorizer.fit(text_train)\n",
    "        return vectorizer.transform(text_train),vectorizer.transform(text_cv),vectorizer.transform(text_test)\n",
    "    \n",
    "    elif \"AVGW2V\" in encoding_type.upper():\n",
    "        # compute average word2vec for each review.\n",
    "        return np.array(compute_avg_w2v(_text = text_train)),np.array(compute_avg_w2v(_text = text_cv)),np.array(compute_avg_w2v(_text = text_test)) \n",
    "        \n",
    "    \n",
    "    elif \"TFIDFW2V\" in encoding_type.upper():\n",
    "        from sklearn.feature_extraction.text import TfidfVectorizer\n",
    "        vectorizer = TfidfVectorizer(min_df=10,max_features=3000)\n",
    "        vectorizer.fit(text_train)\n",
    "        return np.array(compute_tfidf_w2v(tfidf_model=vectorizer,_text = text_train)),np.array(compute_tfidf_w2v(tfidf_model = vectorizer,_text = text_cv)),np.array(compute_tfidf_w2v(tfidf_model = vectorizer,_text = text_test))\n",
    "    \n",
    "    else:\n",
    "        raise ValueError('Please give the encoding type from the following: BOW, TFIDF, AVGW2V,TFIDFW2V')\n",
    "        \n",
    "        "
   ]
  },
  {
   "cell_type": "code",
   "execution_count": 0,
   "metadata": {
    "colab": {},
    "colab_type": "code",
    "id": "5VCLzbIoCypy"
   },
   "outputs": [],
   "source": [
    "def _hypertuning(x_train,y_train,x_cv,y_cv,tune_type):\n",
    "    K = [1,5,9,11,15,21,27,31,37,41,45,47,51]\n",
    "    from sklearn.neighbors import KNeighborsClassifier\n",
    "    \n",
    "    # we will have k matrix where each row will have y_pred_prob corresponding to k value.\n",
    "    if tune_type.lower() == 'custom':\n",
    "\n",
    "        from sklearn.metrics import roc_auc_score\n",
    "\n",
    "        #y_train_pred = []\n",
    "        train_auc_score = []\n",
    "        cv_auc_score = []\n",
    "\n",
    "        for i in K:\n",
    "            y_train_pred = []\n",
    "            y_cv_pred = []\n",
    "            neigh = KNeighborsClassifier(n_neighbors = i,n_jobs=-1)\n",
    "            neigh.fit(x_train,y_train)\n",
    "\n",
    "        # return value of predict_proba : array of shape = [n_samples, n_classes], or a list of n_outputs\n",
    "            for num in range(0,x_train.shape[0],1000):\n",
    "                y_train_pred.extend(neigh.predict_proba(x_train[num:num+1000])[:,1]) #[: = selecting all rows,1 = selecting all class probabilities for Y=1 ]\n",
    "            for num in range(0,x_cv.shape[0],1000):\n",
    "                y_cv_pred.extend(neigh.predict_proba(x_cv[num:num+1000])[:,1]) \n",
    "        \n",
    "            train_auc_score.append(roc_auc_score(y_train,y_train_pred))\n",
    "            cv_auc_score.append(roc_auc_score(y_cv,y_cv_pred))\n",
    "\n",
    "\n",
    "        plt.plot(K, train_auc_score, label='Train AUC')\n",
    "        #plt.scatter(K,train_auc_score)\n",
    "        plt.plot(K, cv_auc_score, label='CV AUC')\n",
    "        #plt.scatter(K,cv_auc_score)\n",
    "        plt.legend()\n",
    "        plt.xlabel(\"K: hyperparameter\")\n",
    "        plt.ylabel(\"AUC\")\n",
    "        plt.title(\"ERROR PLOTS\")\n",
    "        plt.show()\n",
    "\n",
    "        \n",
    "\n",
    "    elif tune_type.lower() == 'gridsearch':\n",
    "\n",
    "        # https://scikit-learn.org/stable/modules/generated/sklearn.model_selection.GridSearchCV.html\n",
    "        from sklearn.model_selection import GridSearchCV\n",
    "\n",
    "        neigh = KNeighborsClassifier(n_jobs=-1)\n",
    "        parameters = {'n_neighbors':[1, 5, 10, 15, 19 , 21, 31, 41, 51]}\n",
    "        clf = GridSearchCV(neigh, parameters, cv=10, scoring='roc_auc',n_jobs=-1,return_train_score=True) #cv param is K in K-Fold cross validation\n",
    "        clf.fit(x_train, y_train)\n",
    "\n",
    "        train_auc= clf.cv_results_['mean_train_score']\n",
    "        train_auc_std= clf.cv_results_['std_train_score']\n",
    "        cv_auc = clf.cv_results_['mean_test_score'] \n",
    "        cv_auc_std= clf.cv_results_['std_test_score']\n",
    "\n",
    "        plt.plot(parameters['n_neighbors'], train_auc, label='Train AUC')\n",
    "        # this code is copied from here: https://stackoverflow.com/a/48803361/4084039\n",
    "        plt.gca().fill_between(parameters['n_neighbors'],train_auc - train_auc_std,train_auc + train_auc_std,alpha=0.2,color='darkblue')\n",
    "\n",
    "        plt.plot(parameters['n_neighbors'], cv_auc, label='CV AUC')\n",
    "        # this code is copied from here: https://stackoverflow.com/a/48803361/4084039\n",
    "        plt.gca().fill_between(parameters['n_neighbors'],cv_auc - cv_auc_std,cv_auc + cv_auc_std,alpha=0.2,color='darkorange') \n",
    "        plt.legend()\n",
    "        plt.xlabel(\"K: hyperparameter\")\n",
    "        plt.ylabel(\"AUC\")\n",
    "        plt.title(\"ERROR PLOTS\")\n",
    "        plt.show()\n",
    "\n",
    "    \n",
    "            "
   ]
  },
  {
   "cell_type": "code",
   "execution_count": 0,
   "metadata": {
    "colab": {},
    "colab_type": "code",
    "id": "JXCJKIyHA2by"
   },
   "outputs": [],
   "source": [
    "#https://www.ritchieng.com/machine-learning-evaluate-classification-model/\n",
    "\n",
    "def evaluate_threshold(K,x_train,y_train,x_cv,y_cv):\n",
    "    from sklearn.neighbors import KNeighborsClassifier\n",
    "    y_cv_pred = []\n",
    "    neigh = KNeighborsClassifier(n_neighbors = K,n_jobs=-1)\n",
    "    neigh.fit(x_train,y_train)\n",
    "    for num in range(0,x_cv.shape[0],1000):\n",
    "        y_cv_pred.extend(neigh.predict_proba(x_cv[num:num+1000])[:,1])\n",
    "    from sklearn.metrics import roc_curve\n",
    "    fpr,tpr,thresholds = roc_curve(y_true = y_cv,y_score = y_cv_pred)\n",
    "    #t_val = [0.1,0.2,0.25,0.3,0.35,0.4,0.45,0.5,0.55,0.6,0.65,0.7,0.8,0.9] # different threshold values at which we will be evaluating our model\n",
    "    t_val = np.arange(0,1,0.05)\n",
    "    sn,sp =0,0\n",
    "\n",
    "    ss_score = list()\n",
    "    for i in t_val:\n",
    "        sn = tpr[thresholds > i][-1]\n",
    "        sp = 1 - fpr[thresholds > i][-1]\n",
    "        ss_score.append((sn,sp,i))\n",
    "    from prettytable import PrettyTable\n",
    "    x = PrettyTable()\n",
    "    x.field_names = ['Sensitivity/Recall (TPR)','Specificity (1-FPR)','Threshold Value']\n",
    "    for val in ss_score:\n",
    "        sn,sp,th = val\n",
    "        x.add_row([sn,sp,th])\n",
    "    print(x)\n",
    "\n"
   ]
  },
  {
   "cell_type": "code",
   "execution_count": 0,
   "metadata": {
    "colab": {},
    "colab_type": "code",
    "id": "KESRkqA3L5OE"
   },
   "outputs": [],
   "source": [
    "# https://stackoverflow.com/questions/19984957/scikit-predict-default-threshold\n",
    "\n",
    "def model_gen_score(x_train,y_train,x_test,y_test,best_k,cutoff_val):\n",
    "    from sklearn.metrics import roc_curve, auc\n",
    "    from sklearn.metrics import confusion_matrix\n",
    "    from sklearn.neighbors import KNeighborsClassifier\n",
    "\n",
    "    neigh = KNeighborsClassifier(n_neighbors=best_k,n_jobs=-1)\n",
    "    neigh.fit(x_train, y_train)\n",
    "# roc_auc_score(y_true, y_score) the 2nd parameter should be probability estimates of the positive class\n",
    "# not the predicted outputs\n",
    "    y_train_pred_prob = []\n",
    "    y_train_pred = []\n",
    "    y_test_pred_prob = []\n",
    "    y_test_pred = []\n",
    "\n",
    "    for num in range(0,x_train.shape[0],1000):\n",
    "        y_train_pred_prob.extend(neigh.predict_proba(x_train[num:num+1000])[:,1])\n",
    "      #y_train_pred.extend(neigh.predict(x_train[num:num+1000]))#[: = selecting all rows,1 = selecting all class probabilities for Y=1 ]\n",
    "    for num in range(0,x_test.shape[0],1000):\n",
    "        y_test_pred_prob.extend(neigh.predict_proba(x_test[num:num+1000])[:,1])\n",
    "      \n",
    "      \n",
    "\n",
    "     \n",
    "    train_fpr, train_tpr, train_thresholds = roc_curve(y_true=y_train,y_score=y_train_pred_prob)\n",
    "    test_fpr, test_tpr, test_thresholds = roc_curve(y_true=y_test,y_score=y_test_pred_prob)\n",
    "\n",
    "    plt.plot(train_fpr, train_tpr, label=\"train AUC =\"+str(auc(train_fpr, train_tpr)))\n",
    "    #plt.scatter(train_fpr, train_thresholds)\n",
    "    plt.plot(test_fpr, test_tpr, label=\"test AUC =\"+str(auc(test_fpr, test_tpr)))\n",
    "    #plt.scatter(test_fpr, test_thresholds)\n",
    "    plt.legend()\n",
    "    plt.xlabel(\"FPR (1 - Specificity)\")\n",
    "    plt.ylabel(\"TPR (Sensitivity)\")\n",
    "    plt.title(\"ROC Curve\")\n",
    "    plt.show()\n",
    "   \n",
    "    # Confusion matrix evaluations \n",
    "    \n",
    "    print(\"=\"*100)\n",
    "    y_train_pred = (np.array(y_train_pred_prob) >= cutoff_val).astype(int)\n",
    "    y_test_pred = (np.array(y_test_pred_prob) >= cutoff_val).astype(int)\n",
    "    print(\"Train confusion matrix\")\n",
    "    print(confusion_matrix(y_train, y_train_pred))\n",
    "    print(\"Test confusion matrix\")\n",
    "    print(confusion_matrix(y_test, y_test_pred))\n",
    "    return (auc(train_fpr, train_tpr),auc(test_fpr, test_tpr))\n",
    "\n"
   ]
  },
  {
   "cell_type": "code",
   "execution_count": 0,
   "metadata": {
    "colab": {},
    "colab_type": "code",
    "id": "AsOTaIVW9CyK"
   },
   "outputs": [],
   "source": [
    "def print_dimension_info(_obj,_name):\n",
    "    data_list= ['Training count : ','Cross Validation count : ','Test count : '] * len(_obj)\n",
    "    col_num = []\n",
    "    row_num = list()\n",
    "    for i in _obj:\n",
    "        row_num.append(i.shape[0])\n",
    "        col_num.append(i.shape[1])\n",
    "    print(\"The Values for : \", _name)\n",
    "    print(\"\\nRow Values are : \",list(zip(data_list,row_num)))\n",
    "    print(\"\\nColumn Values are : \",list(zip(data_list,col_num)))\n",
    "    print(\"\\nType of matrices: \",[type(x) for x in _obj])\n",
    "    print(\"*\"*100)"
   ]
  },
  {
   "cell_type": "code",
   "execution_count": 0,
   "metadata": {
    "colab": {},
    "colab_type": "code",
    "id": "va5BibgE-CvN"
   },
   "outputs": [],
   "source": [
    "\n",
    "def one_hot_encoder(df_col_train,df_col_cv,df_col_test,vocab=None,case=False,_bin=True):\n",
    "    encoder_obj = CountVectorizer(vocabulary = vocab,lowercase=case,binary=_bin)\n",
    "    encoder_obj.fit(df_col_train)\n",
    "    print(\"features are : \\n\",encoder_obj.get_feature_names())\n",
    "    return encoder_obj.transform(df_col_train.values),encoder_obj.transform(df_col_cv.values),encoder_obj.transform(df_col_test.values)\n"
   ]
  },
  {
   "cell_type": "markdown",
   "metadata": {
    "colab_type": "text",
    "id": "VG7SrQdCCypn"
   },
   "source": [
    "<h2>2.2 Make Data Model Ready: encoding numerical, categorical features</h2>"
   ]
  },
  {
   "cell_type": "code",
   "execution_count": 0,
   "metadata": {
    "colab": {},
    "colab_type": "code",
    "id": "cTlBv2kmCypo"
   },
   "outputs": [],
   "source": [
    "# please write all the code with proper documentation, and proper titles for each subsection\n",
    "# go through documentations and blogs before you start coding \n",
    "# first figure out what to do, and then think about how to do.\n",
    "# reading and understanding error messages will be very much helpfull in debugging your code\n",
    "# make sure you featurize train and test data separatly\n",
    "\n",
    "# when you plot any graph make sure you use \n",
    "    # a. Title, that describes your plot, this will be very helpful to the reader\n",
    "    # b. Legends if needed\n",
    "    # c. X-axis label\n",
    "    # d. Y-axis label"
   ]
  },
  {
   "cell_type": "code",
   "execution_count": 51,
   "metadata": {
    "colab": {
     "base_uri": "https://localhost:8080/",
     "height": 51
    },
    "colab_type": "code",
    "id": "dQunmy9FCypT",
    "outputId": "5d376df9-c7ed-4b72-9530-e98644b63bfe"
   },
   "outputs": [
    {
     "name": "stdout",
     "output_type": "stream",
     "text": [
      "features are : \n",
      " ['Dr', 'Mr', 'Mrs', 'Ms', 'Teacher']\n"
     ]
    }
   ],
   "source": [
    "# Vectorizing the teacher prefix input\n",
    "x_train_tp,x_cv_tp,x_test_tp = one_hot_encoder(df_col_train=x_train['teacher_prefix'],\\\n",
    "                                               df_col_cv=x_cv['teacher_prefix'],\\\n",
    "                                               df_col_test=x_test['teacher_prefix'])\n",
    "                                              "
   ]
  },
  {
   "cell_type": "code",
   "execution_count": 52,
   "metadata": {
    "colab": {
     "base_uri": "https://localhost:8080/",
     "height": 71
    },
    "colab_type": "code",
    "id": "IoZa6IJig8sy",
    "outputId": "01e0842a-2336-4a46-c9cd-319eb70a97c0"
   },
   "outputs": [
    {
     "name": "stdout",
     "output_type": "stream",
     "text": [
      "features are : \n",
      " ['AK', 'AL', 'AR', 'AZ', 'CA', 'CO', 'CT', 'DC', 'DE', 'FL', 'GA', 'HI', 'IA', 'ID', 'IL', 'IN', 'KS', 'KY', 'LA', 'MA', 'MD', 'ME', 'MI', 'MN', 'MO', 'MS', 'MT', 'NC', 'ND', 'NE', 'NH', 'NJ', 'NM', 'NV', 'NY', 'OH', 'OK', 'OR', 'PA', 'RI', 'SC', 'SD', 'TN', 'TX', 'UT', 'VA', 'VT', 'WA', 'WI', 'WV', 'WY']\n"
     ]
    }
   ],
   "source": [
    "# vectorizing the school state column\n",
    "x_train_ss,x_cv_ss,x_test_ss = one_hot_encoder(df_col_train=x_train['school_state'],df_col_cv=x_cv['school_state'],df_col_test=x_test['school_state'])"
   ]
  },
  {
   "cell_type": "code",
   "execution_count": 53,
   "metadata": {
    "colab": {
     "base_uri": "https://localhost:8080/",
     "height": 51
    },
    "colab_type": "code",
    "id": "j61jooskhmLB",
    "outputId": "536cb7d7-7d24-48ba-efe5-304656b1c83a"
   },
   "outputs": [
    {
     "name": "stdout",
     "output_type": "stream",
     "text": [
      "features are : \n",
      " ['Grades 6-8', 'Grades PreK-2', 'Grades 3-5', 'Grades 9-12']\n"
     ]
    }
   ],
   "source": [
    "# Vectorizing the project_grade_category\n",
    "x_train_pgc,x_cv_pgc,x_test_pgc = one_hot_encoder(df_col_train=x_train['project_grade_category'],df_col_cv=x_cv['project_grade_category'],\\\n",
    "                                                  df_col_test=x_test['project_grade_category'],vocab=list(x_train['project_grade_category'].unique()))\n"
   ]
  },
  {
   "cell_type": "code",
   "execution_count": 54,
   "metadata": {
    "colab": {
     "base_uri": "https://localhost:8080/",
     "height": 51
    },
    "colab_type": "code",
    "id": "ap04-FhwiTPg",
    "outputId": "d71c8bf9-0fac-4052-ec24-18b58da227a9"
   },
   "outputs": [
    {
     "name": "stdout",
     "output_type": "stream",
     "text": [
      "features are : \n",
      " ['Music_Arts', 'SpecialNeeds', 'History_Civics', 'Math_Science', 'AppliedLearning', 'Health_Sports', 'Warmth', 'Care_Hunger', 'Literacy_Language']\n"
     ]
    }
   ],
   "source": [
    "# Vectorizing the project subject category\n",
    "x_train_cat,x_cv_cat,x_test_cat = one_hot_encoder(df_col_train=x_train['clean_categories'],df_col_cv=x_cv['clean_categories'],\\\n",
    "                                                  df_col_test=x_test['clean_categories'],vocab=retreive_vocab(_data=x_train['clean_categories'].values))\n",
    "\n"
   ]
  },
  {
   "cell_type": "code",
   "execution_count": 55,
   "metadata": {
    "colab": {
     "base_uri": "https://localhost:8080/",
     "height": 71
    },
    "colab_type": "code",
    "id": "2fslTS5_jYJx",
    "outputId": "1e65d0b1-1b21-4409-9982-7124a89c0ca1"
   },
   "outputs": [
    {
     "name": "stdout",
     "output_type": "stream",
     "text": [
      "features are : \n",
      " ['EnvironmentalScience', 'Economics', 'EarlyDevelopment', 'SocialSciences', 'Health_LifeScience', 'VisualArts', 'Literacy', 'Health_Wellness', 'FinancialLiteracy', 'Care_Hunger', 'PerformingArts', 'Other', 'CommunityService', 'ParentInvolvement', 'TeamSports', 'Gym_Fitness', 'Warmth', 'Civics_Government', 'NutritionEducation', 'Extracurricular', 'SpecialNeeds', 'ESL', 'History_Geography', 'CharacterEducation', 'ForeignLanguages', 'AppliedSciences', 'College_CareerPrep', 'Mathematics', 'Literature_Writing', 'Music']\n"
     ]
    }
   ],
   "source": [
    "# Vectorizing the project subject sub category\n",
    "x_train_sub,x_cv_sub,x_test_sub = one_hot_encoder(df_col_train=x_train['clean_subcategories'],df_col_cv=x_cv['clean_subcategories'],\\\n",
    "                                                  df_col_test=x_test['clean_subcategories'],vocab=retreive_vocab(_data=x_train['clean_subcategories'].values))"
   ]
  },
  {
   "cell_type": "code",
   "execution_count": 56,
   "metadata": {
    "colab": {
     "base_uri": "https://localhost:8080/",
     "height": 34
    },
    "colab_type": "code",
    "id": "VXfszuI25wxr",
    "outputId": "9b74796c-d814-494f-b133-e1949be88d6a"
   },
   "outputs": [
    {
     "name": "stdout",
     "output_type": "stream",
     "text": [
      "Mean : 296.3948302248412, Standard deviation : 360.31133200700174\n"
     ]
    }
   ],
   "source": [
    "# check this one: https://www.youtube.com/watch?v=0HOqOcln3Z4&t=530s\n",
    "# standardization sklearn: https://scikit-learn.org/stable/modules/generated/sklearn.preprocessing.StandardScaler.html\n",
    "from sklearn.preprocessing import StandardScaler\n",
    "\n",
    "# price_standardized = standardScalar.fit(project_data['price'].values)\n",
    "# this will rise the error\n",
    "# ValueError: Expected 2D array, got 1D array instead: array=[725.05 213.03 329.   ... 399.   287.73   5.5 ].\n",
    "# Reshape your data either using array.reshape(-1, 1)\n",
    "\n",
    "price_scalar = StandardScaler()\n",
    "price_scalar.fit(x_train['price'].values.reshape(-1,1)) # finding the mean and standard deviation of this data\n",
    "print(f\"Mean : {price_scalar.mean_[0]}, Standard deviation : {np.sqrt(price_scalar.var_[0])}\")\n",
    "\n",
    "# Now standardize the data with above maen and variance.\n",
    "x_train_price_std = price_scalar.transform(x_train['price'].values.reshape(-1, 1))\n",
    "x_cv_price_std = price_scalar.transform(x_cv['price'].values.reshape(-1, 1))\n",
    "x_test_price_std = price_scalar.transform(x_test['price'].values.reshape(-1, 1))"
   ]
  },
  {
   "cell_type": "code",
   "execution_count": 57,
   "metadata": {
    "colab": {
     "base_uri": "https://localhost:8080/",
     "height": 34
    },
    "colab_type": "code",
    "id": "C5rr927k6Jrz",
    "outputId": "3e00d6bd-d40d-4fa6-eee4-2249186e9aed"
   },
   "outputs": [
    {
     "name": "stdout",
     "output_type": "stream",
     "text": [
      "Mean : 11.279063447565651, Standard deviation : 27.87682397556682\n"
     ]
    }
   ],
   "source": [
    "# we will be doing the standardization of teacher_number_of_previously_posted_projects also.\n",
    "teacher_pp_count = StandardScaler()\n",
    "teacher_pp_count.fit(x_train.teacher_number_of_previously_posted_projects.values.reshape(-1,1))\n",
    "print(f\"Mean : {teacher_pp_count.mean_[0]}, Standard deviation : {np.sqrt(teacher_pp_count.var_[0])}\")\n",
    "\n",
    "x_train_pp_count_std = teacher_pp_count.transform(x_train.teacher_number_of_previously_posted_projects.values.reshape(-1,1))\n",
    "x_cv_pp_count_std = teacher_pp_count.transform(x_cv.teacher_number_of_previously_posted_projects.values.reshape(-1,1))\n",
    "x_test_pp_count_std = teacher_pp_count.transform(x_test.teacher_number_of_previously_posted_projects.values.reshape(-1,1))\n",
    "\n"
   ]
  },
  {
   "cell_type": "code",
   "execution_count": 58,
   "metadata": {
    "colab": {
     "base_uri": "https://localhost:8080/",
     "height": 969
    },
    "colab_type": "code",
    "id": "slDsHxGylh7z",
    "outputId": "955f3f3d-0c6f-4cf9-9b8a-2007d34cc9f0"
   },
   "outputs": [
    {
     "name": "stdout",
     "output_type": "stream",
     "text": [
      "The Values for :  Teacher Prefix\n",
      "\n",
      "Row Values are :  [('Training count : ', 69916), ('Cross Validation count : ', 17480), ('Test count : ', 21849)]\n",
      "\n",
      "Column Values are :  [('Training count : ', 5), ('Cross Validation count : ', 5), ('Test count : ', 5)]\n",
      "\n",
      "Type of matrices:  [<class 'scipy.sparse.csr.csr_matrix'>, <class 'scipy.sparse.csr.csr_matrix'>, <class 'scipy.sparse.csr.csr_matrix'>]\n",
      "****************************************************************************************************\n",
      "The Values for :  Schol State Column\n",
      "\n",
      "Row Values are :  [('Training count : ', 69916), ('Cross Validation count : ', 17480), ('Test count : ', 21849)]\n",
      "\n",
      "Column Values are :  [('Training count : ', 51), ('Cross Validation count : ', 51), ('Test count : ', 51)]\n",
      "\n",
      "Type of matrices:  [<class 'scipy.sparse.csr.csr_matrix'>, <class 'scipy.sparse.csr.csr_matrix'>, <class 'scipy.sparse.csr.csr_matrix'>]\n",
      "****************************************************************************************************\n",
      "The Values for :  Project Grade Category\n",
      "\n",
      "Row Values are :  [('Training count : ', 69916), ('Cross Validation count : ', 17480), ('Test count : ', 21849)]\n",
      "\n",
      "Column Values are :  [('Training count : ', 4), ('Cross Validation count : ', 4), ('Test count : ', 4)]\n",
      "\n",
      "Type of matrices:  [<class 'scipy.sparse.csr.csr_matrix'>, <class 'scipy.sparse.csr.csr_matrix'>, <class 'scipy.sparse.csr.csr_matrix'>]\n",
      "****************************************************************************************************\n",
      "The Values for :  Project subject category\n",
      "\n",
      "Row Values are :  [('Training count : ', 69916), ('Cross Validation count : ', 17480), ('Test count : ', 21849)]\n",
      "\n",
      "Column Values are :  [('Training count : ', 9), ('Cross Validation count : ', 9), ('Test count : ', 9)]\n",
      "\n",
      "Type of matrices:  [<class 'scipy.sparse.csr.csr_matrix'>, <class 'scipy.sparse.csr.csr_matrix'>, <class 'scipy.sparse.csr.csr_matrix'>]\n",
      "****************************************************************************************************\n",
      "The Values for :  Project subject sub category\n",
      "\n",
      "Row Values are :  [('Training count : ', 69916), ('Cross Validation count : ', 17480), ('Test count : ', 21849)]\n",
      "\n",
      "Column Values are :  [('Training count : ', 30), ('Cross Validation count : ', 30), ('Test count : ', 30)]\n",
      "\n",
      "Type of matrices:  [<class 'scipy.sparse.csr.csr_matrix'>, <class 'scipy.sparse.csr.csr_matrix'>, <class 'scipy.sparse.csr.csr_matrix'>]\n",
      "****************************************************************************************************\n",
      "The Values for :  Price\n",
      "\n",
      "Row Values are :  [('Training count : ', 69916), ('Cross Validation count : ', 17480), ('Test count : ', 21849)]\n",
      "\n",
      "Column Values are :  [('Training count : ', 1), ('Cross Validation count : ', 1), ('Test count : ', 1)]\n",
      "\n",
      "Type of matrices:  [<class 'numpy.ndarray'>, <class 'numpy.ndarray'>, <class 'numpy.ndarray'>]\n",
      "****************************************************************************************************\n",
      "The Values for :  Count of previous project submitted by teacher\n",
      "\n",
      "Row Values are :  [('Training count : ', 69916), ('Cross Validation count : ', 17480), ('Test count : ', 21849)]\n",
      "\n",
      "Column Values are :  [('Training count : ', 1), ('Cross Validation count : ', 1), ('Test count : ', 1)]\n",
      "\n",
      "Type of matrices:  [<class 'numpy.ndarray'>, <class 'numpy.ndarray'>, <class 'numpy.ndarray'>]\n",
      "****************************************************************************************************\n"
     ]
    }
   ],
   "source": [
    "# printing the dimensions of vectorized of dataset\n",
    "print_dimension_info(_obj=[x_train_tp,x_cv_tp,x_test_tp],_name='Teacher Prefix')\n",
    "print_dimension_info(_obj=[x_train_ss,x_cv_ss,x_test_ss],_name='Schol State Column')\n",
    "print_dimension_info(_obj=[x_train_pgc,x_cv_pgc,x_test_pgc],_name = 'Project Grade Category')\n",
    "print_dimension_info(_obj=[x_train_cat,x_cv_cat,x_test_cat],_name= 'Project subject category')\n",
    "print_dimension_info(_obj=[x_train_sub,x_cv_sub,x_test_sub],_name= 'Project subject sub category')\n",
    "print_dimension_info(_obj=[x_train_price_std,x_cv_price_std,x_test_price_std],_name = 'Price')\n",
    "print_dimension_info(_obj=[x_train_pp_count_std,x_cv_pp_count_std,x_test_pp_count_std],_name='Count of previous project submitted by teacher')\n"
   ]
  },
  {
   "cell_type": "code",
   "execution_count": 59,
   "metadata": {
    "colab": {
     "base_uri": "https://localhost:8080/",
     "height": 153
    },
    "colab_type": "code",
    "id": "_RAxn5477JM1",
    "outputId": "40ffcf85-55d8-4aca-ef41-b15a333dc0f5"
   },
   "outputs": [
    {
     "name": "stdout",
     "output_type": "stream",
     "text": [
      "The Values for :  Stacked sparse matrices dimensions\n",
      "\n",
      "Row Values are :  [('Training count : ', 69916), ('Cross Validation count : ', 17480), ('Test count : ', 21849)]\n",
      "\n",
      "Column Values are :  [('Training count : ', 101), ('Cross Validation count : ', 101), ('Test count : ', 101)]\n",
      "\n",
      "Type of matrices:  [<class 'scipy.sparse.csr.csr_matrix'>, <class 'scipy.sparse.csr.csr_matrix'>, <class 'scipy.sparse.csr.csr_matrix'>]\n",
      "****************************************************************************************************\n"
     ]
    }
   ],
   "source": [
    "# merge two sparse matrices: https://stackoverflow.com/a/19710648/4084039\n",
    "from scipy.sparse import hstack\n",
    "# with the same hstack function we can concatenate a sparse matrix and a dense matirx :)\n",
    "x_train_vec = hstack((x_train_tp, x_train_ss, x_train_pgc, x_train_cat, x_train_sub, x_train_price_std, x_train_pp_count_std),format='csr')\n",
    "x_cv_vec = hstack((x_cv_tp, x_cv_ss, x_cv_pgc, x_cv_cat, x_cv_sub, x_cv_price_std, x_cv_pp_count_std),format='csr')\n",
    "x_test_vec = hstack((x_test_tp, x_test_ss, x_test_pgc, x_test_cat, x_test_sub, x_test_price_std, x_test_pp_count_std),format='csr')\n",
    "\n",
    "print_dimension_info(_obj=[x_train_vec,x_cv_vec,x_test_vec],_name='Stacked sparse matrices dimensions')\n",
    "\n"
   ]
  },
  {
   "cell_type": "markdown",
   "metadata": {
    "colab_type": "text",
    "id": "V8pUeQFiCypq"
   },
   "source": [
    "<h2>2.3 Make Data Model Ready: encoding eassay, and project_title</h2>"
   ]
  },
  {
   "cell_type": "code",
   "execution_count": 0,
   "metadata": {
    "colab": {},
    "colab_type": "code",
    "id": "7L7e-_EfCypq"
   },
   "outputs": [],
   "source": [
    "# please write all the code with proper documentation, and proper titles for each subsection\n",
    "# go through documentations and blogs before you start coding\n",
    "# first figure out what to do, and then think about how to do.\n",
    "# reading and understanding error messages will be very much helpfull in debugging your code\n",
    "# make sure you featurize train and test data separatly\n",
    "\n",
    "# when you plot any graph make sure you use \n",
    "    # a. Title, that describes your plot, this will be very helpful to the reader\n",
    "    # b. Legends if needed\n",
    "    # c. X-axis label\n",
    "    # d. Y-axis label"
   ]
  },
  {
   "cell_type": "code",
   "execution_count": 0,
   "metadata": {
    "colab": {
     "base_uri": "https://localhost:8080/",
     "height": 289
    },
    "colab_type": "code",
    "id": "11Uu3IBkL5Nd",
    "outputId": "38008e60-dbdc-4668-b6dc-9e64dce6f9de"
   },
   "outputs": [
    {
     "name": "stdout",
     "output_type": "stream",
     "text": [
      "The Values for :  Dimensions after BOW on Title :\n",
      "\n",
      "Row Values are :  [('Training count : ', 69916), ('Cross Validation count : ', 17480), ('Test count : ', 21849)]\n",
      "\n",
      "Column Values are :  [('Training count : ', 2456), ('Cross Validation count : ', 2456), ('Test count : ', 2456)]\n",
      "\n",
      "Type of matrices:  [<class 'scipy.sparse.csr.csr_matrix'>, <class 'scipy.sparse.csr.csr_matrix'>, <class 'scipy.sparse.csr.csr_matrix'>]\n",
      "****************************************************************************************************\n",
      "The Values for :  Dimensions after BOW on essay\n",
      "\n",
      "Row Values are :  [('Training count : ', 69916), ('Cross Validation count : ', 17480), ('Test count : ', 21849)]\n",
      "\n",
      "Column Values are :  [('Training count : ', 3000), ('Cross Validation count : ', 3000), ('Test count : ', 3000)]\n",
      "\n",
      "Type of matrices:  [<class 'scipy.sparse.csr.csr_matrix'>, <class 'scipy.sparse.csr.csr_matrix'>, <class 'scipy.sparse.csr.csr_matrix'>]\n",
      "****************************************************************************************************\n"
     ]
    }
   ],
   "source": [
    "# Bag of words vectorization for train,cv and test data\n",
    "bow_title_train,bow_title_cv,bow_title_test = vectorize_text(encoding_type='BOW',train_text = x_train['title'],\\\n",
    "                                                             cv_text =x_cv['title'] , test_text =x_test['title'] )\n",
    "\n",
    "print_dimension_info(_obj=[bow_title_train,bow_title_cv,bow_title_test],_name='Dimensions after BOW on Title :')\n",
    "\n",
    "bow_essay_train,bow_essay_cv,bow_essay_test = vectorize_text(encoding_type='BOW',train_text = x_train['essay'],\\\n",
    "                                                             cv_text =x_cv['essay'] , test_text =x_test['essay'] )\n",
    "print_dimension_info(_obj=[bow_essay_train,bow_essay_cv,bow_essay_test],_name='Dimensions after BOW on essay')\n"
   ]
  },
  {
   "cell_type": "code",
   "execution_count": 0,
   "metadata": {
    "colab": {
     "base_uri": "https://localhost:8080/",
     "height": 153
    },
    "colab_type": "code",
    "id": "-V8LpEyyL5N6",
    "outputId": "bd2f617f-fe10-4bf6-9f16-00d15a4f7302"
   },
   "outputs": [
    {
     "name": "stdout",
     "output_type": "stream",
     "text": [
      "The Values for :  The Final Matrix dimension info after BOW\n",
      "\n",
      "Row Values are :  [('Training count : ', 69916), ('Cross Validation count : ', 17480), ('Test count : ', 21849)]\n",
      "\n",
      "Column Values are :  [('Training count : ', 5557), ('Cross Validation count : ', 5557), ('Test count : ', 5557)]\n",
      "\n",
      "Type of matrices:  [<class 'scipy.sparse.csr.csr_matrix'>, <class 'scipy.sparse.csr.csr_matrix'>, <class 'scipy.sparse.csr.csr_matrix'>]\n",
      "****************************************************************************************************\n"
     ]
    }
   ],
   "source": [
    "# Stacking all the BOW models with existing data frame - \n",
    "\n",
    "final_x_train = hstack((x_train_vec,bow_title_train,bow_essay_train),format='csr')\n",
    "final_x_cv = hstack((x_cv_vec,bow_title_cv,bow_essay_cv),format='csr')\n",
    "final_x_test = hstack((x_test_vec,bow_title_test,bow_essay_test),format='csr')\n",
    "\n",
    "print_dimension_info(_obj=[final_x_train,final_x_cv,final_x_test],_name='The Final Matrix dimension info after BOW')"
   ]
  },
  {
   "cell_type": "markdown",
   "metadata": {
    "colab_type": "text",
    "id": "UL8bHrflCyps"
   },
   "source": [
    "<h2>2.4 Appling KNN on different kind of featurization as mentioned in the instructions</h2>\n",
    "\n",
    "<br>Apply KNN on different kind of featurization as mentioned in the instructions\n",
    "<br> For Every model that you work on make sure you do the step 2 and step 3 of instructions"
   ]
  },
  {
   "cell_type": "code",
   "execution_count": 0,
   "metadata": {
    "colab": {},
    "colab_type": "code",
    "id": "Tsay467cCypt"
   },
   "outputs": [],
   "source": [
    "# please write all the code with proper documentation, and proper titles for each subsection\n",
    "# go through documentations and blogs before you start coding\n",
    "# first figure out what to do, and then think about how to do.\n",
    "# reading and understanding error messages will be very much helpfull in debugging your code. \n",
    "\n",
    "# when you plot any graph make sure you use \n",
    "    # a. Title, that describes your plot, this will be very helpful to the reader\n",
    "    # b. Legends if needed\n",
    "    # c. X-axis label\n",
    "    # d. Y-axis label"
   ]
  },
  {
   "cell_type": "markdown",
   "metadata": {
    "colab_type": "text",
    "id": "B1dIm8PiCypw"
   },
   "source": [
    "### 2.4.1 Applying KNN brute force on BOW,<font color='red'> SET 1</font>"
   ]
  },
  {
   "cell_type": "code",
   "execution_count": 0,
   "metadata": {
    "colab": {
     "base_uri": "https://localhost:8080/",
     "height": 295
    },
    "colab_type": "code",
    "id": "nmdkqJdjL5OF",
    "outputId": "3a0fc789-d18d-436e-d122-dec58528124b"
   },
   "outputs": [
    {
     "data": {
      "image/png": "[encoded data removed]",
      "text/plain": [
       "<Figure size 432x288 with 1 Axes>"
      ]
     },
     "metadata": {
      "tags": []
     },
     "output_type": "display_data"
    }
   ],
   "source": [
    "# cross validation with BOW model\n",
    "\n",
    "_hypertuning(x_train = final_x_train,y_train=y_train.values,x_cv=final_x_cv,y_cv=y_cv.values,tune_type='custom')\n",
    "\n",
    "\n"
   ]
  },
  {
   "cell_type": "code",
   "execution_count": 0,
   "metadata": {
    "colab": {
     "base_uri": "https://localhost:8080/",
     "height": 425
    },
    "colab_type": "code",
    "id": "FNsaBwS7A2ci",
    "outputId": "6b052d60-4733-41b6-90e0-43eae30ca9a9"
   },
   "outputs": [
    {
     "name": "stdout",
     "output_type": "stream",
     "text": [
      "+--------------------------+-----------------------+---------------------+\n",
      "| Sensitivity/Recall (TPR) |  Specificity (1-FPR)  |   Threshold Value   |\n",
      "+--------------------------+-----------------------+---------------------+\n",
      "|           1.0            |          0.0          |         0.0         |\n",
      "|           1.0            |          0.0          |         0.05        |\n",
      "|           1.0            |          0.0          |         0.1         |\n",
      "|           1.0            |          0.0          | 0.15000000000000002 |\n",
      "|           1.0            |          0.0          |         0.2         |\n",
      "|           1.0            |          0.0          |         0.25        |\n",
      "|           1.0            |          0.0          | 0.30000000000000004 |\n",
      "|           1.0            |          0.0          | 0.35000000000000003 |\n",
      "|           1.0            | 0.0003777861730260845 |         0.4         |\n",
      "|    0.9997977482640059    | 0.0003777861730260845 |         0.45        |\n",
      "|    0.9991235758106923    | 0.0018889308651303116 |         0.5         |\n",
      "|    0.9955504618081306    |  0.01133358519078198  |         0.55        |\n",
      "|    0.9841569473471314    |  0.037778617302606676 |  0.6000000000000001 |\n",
      "|    0.9701341603182094    |  0.06762372497166602  |         0.65        |\n",
      "|    0.9143126811838468    |   0.1779372874952777  |  0.7000000000000001 |\n",
      "|    0.779410773275804     |  0.38760861352474496  |         0.75        |\n",
      "|    0.5612485673835367    |   0.6331696259916887  |         0.8         |\n",
      "|   0.42695341468347603    |   0.7548167737060824  |  0.8500000000000001 |\n",
      "|   0.18688060405851817    |   0.9229316207026823  |         0.9         |\n",
      "|   0.03721431942290838    |   0.9879108424631659  |  0.9500000000000001 |\n",
      "+--------------------------+-----------------------+---------------------+\n"
     ]
    }
   ],
   "source": [
    "# Deciding appropriate threshold with cross validation dataset\n",
    "evaluate_threshold(K=35,x_train = final_x_train,y_train=y_train.values,x_cv=final_x_cv,y_cv=y_cv.values)\n",
    "\n"
   ]
  },
  {
   "cell_type": "markdown",
   "metadata": {
    "colab_type": "text",
    "id": "e6DfvzhaA2ck"
   },
   "source": [
    "We will be chosing the K value to be 35 and slope for train auc and cv auc is almost stagnant. So we are trying to make trade off between training score and cv score. As If we take k > 50 CV score will be high but we will be loosing the training info data and it might result in under fitting."
   ]
  },
  {
   "cell_type": "code",
   "execution_count": 0,
   "metadata": {
    "colab": {
     "base_uri": "https://localhost:8080/",
     "height": 414
    },
    "colab_type": "code",
    "id": "1GEtb80xqebW",
    "outputId": "bcc1a59c-00a6-41d8-c557-2c0bf50a2218"
   },
   "outputs": [
    {
     "data": {
      "image/png": "[encoded data removed]",
      "text/plain": [
       "<Figure size 432x288 with 1 Axes>"
      ]
     },
     "metadata": {
      "tags": []
     },
     "output_type": "display_data"
    },
    {
     "name": "stdout",
     "output_type": "stream",
     "text": [
      "====================================================================================================\n",
      "Train confusion matrix\n",
      "[[ 5100  5487]\n",
      " [11746 47583]]\n",
      "Test confusion matrix\n",
      "[[ 1268  2040]\n",
      " [ 4099 14442]]\n"
     ]
    }
   ],
   "source": [
    "# Checking the auc score with proper K value\n",
    "bow_k = 35\n",
    "bow_train_auc,bow_test_auc = model_gen_score(x_train = final_x_train,y_train=y_train.values,\\\n",
    "                                             x_test=final_x_test,y_test=y_test.values,best_k=bow_k,\\\n",
    "                                            cutoff_val=0.77)\n",
    "                                             "
   ]
  },
  {
   "cell_type": "markdown",
   "metadata": {
    "colab_type": "text",
    "id": "s85gPOAbCyp1"
   },
   "source": [
    "### 2.4.2 Applying KNN brute force on TFIDF,<font color='red'> SET 2</font>"
   ]
  },
  {
   "cell_type": "code",
   "execution_count": 0,
   "metadata": {
    "colab": {},
    "colab_type": "code",
    "id": "AfUKrzirCyp1"
   },
   "outputs": [],
   "source": [
    "# Please write all the code with proper documentation\n",
    "\n",
    "tfidf_essay_train,tfidf_essay_cv,tfidf_essay_test = vectorize_text(encoding_type='TFIDF',train_text = x_train['essay'],\\\n",
    "                                                             cv_text =x_cv['essay'] , test_text =x_test['essay'] )"
   ]
  },
  {
   "cell_type": "code",
   "execution_count": 0,
   "metadata": {
    "colab": {},
    "colab_type": "code",
    "id": "7o6ALdAkwxCC"
   },
   "outputs": [],
   "source": [
    "# Please write all the code with proper documentation\n",
    "\n",
    "tfidf_title_train,tfidf_title_cv,tfidf_title_test = vectorize_text(encoding_type='TFIDF',train_text = x_train['title'],\\\n",
    "                                                             cv_text =x_cv['title'] , test_text =x_test['title'] )"
   ]
  },
  {
   "cell_type": "code",
   "execution_count": 0,
   "metadata": {
    "colab": {
     "base_uri": "https://localhost:8080/",
     "height": 153
    },
    "colab_type": "code",
    "id": "5YUwaBHwxGmt",
    "outputId": "195cbd33-142b-4160-ec8b-9642a4089e21"
   },
   "outputs": [
    {
     "name": "stdout",
     "output_type": "stream",
     "text": [
      "The Values for :  The Final Matrix dimension info after TFIDF\n",
      "\n",
      "Row Values are :  [('Training count : ', 69916), ('Cross Validation count : ', 17480), ('Test count : ', 21849)]\n",
      "\n",
      "Column Values are :  [('Training count : ', 5557), ('Cross Validation count : ', 5557), ('Test count : ', 5557)]\n",
      "\n",
      "Type of matrices:  [<class 'scipy.sparse.csr.csr_matrix'>, <class 'scipy.sparse.csr.csr_matrix'>, <class 'scipy.sparse.csr.csr_matrix'>]\n",
      "****************************************************************************************************\n"
     ]
    }
   ],
   "source": [
    "final_x_train = hstack((x_train_vec,tfidf_title_train,tfidf_essay_train),format='csr')\n",
    "final_x_cv = hstack((x_cv_vec,tfidf_title_cv,tfidf_essay_cv),format='csr')\n",
    "final_x_test = hstack((x_test_vec,tfidf_title_test,tfidf_essay_test),format='csr')\n",
    "print_dimension_info(_obj=[final_x_train,final_x_cv,final_x_test],_name='The Final Matrix dimension info after TFIDF')"
   ]
  },
  {
   "cell_type": "code",
   "execution_count": 0,
   "metadata": {
    "colab": {
     "base_uri": "https://localhost:8080/",
     "height": 295
    },
    "colab_type": "code",
    "id": "u5RX9J4QxgG9",
    "outputId": "79bded6f-9f45-402c-a420-7fb02ff89cec"
   },
   "outputs": [
    {
     "data": {
      "image/png": "[encoded data removed]",
      "text/plain": [
       "<Figure size 432x288 with 1 Axes>"
      ]
     },
     "metadata": {
      "tags": []
     },
     "output_type": "display_data"
    }
   ],
   "source": [
    "# Hypertuning the parameters for cross validation\n",
    "\n",
    "_hypertuning(x_train = final_x_train,y_train=y_train.values,x_cv=final_x_cv,y_cv=y_cv.values,tune_type='custom')\n"
   ]
  },
  {
   "cell_type": "markdown",
   "metadata": {
    "colab_type": "text",
    "id": "VoQVwuDvA2c2"
   },
   "source": [
    "We will be chosing the K value to be 41 and slope for train auc and cv auc is almost stagnant. So we are trying to make trade off between training score and cv score. As If we take k > 50 CV score will be high but we will be loosing the training info from data and it might result in underfitting."
   ]
  },
  {
   "cell_type": "code",
   "execution_count": 0,
   "metadata": {
    "colab": {
     "base_uri": "https://localhost:8080/",
     "height": 425
    },
    "colab_type": "code",
    "id": "ONBV2E56KXdQ",
    "outputId": "156ad40f-2cef-4256-d2f6-220a07367165"
   },
   "outputs": [
    {
     "name": "stdout",
     "output_type": "stream",
     "text": [
      "+--------------------------+----------------------+---------------------+\n",
      "| Sensitivity/Recall (TPR) | Specificity (1-FPR)  |   Threshold Value   |\n",
      "+--------------------------+----------------------+---------------------+\n",
      "|           1.0            |         0.0          |         0.0         |\n",
      "|           1.0            |         0.0          |         0.05        |\n",
      "|           1.0            |         0.0          |         0.1         |\n",
      "|           1.0            |         0.0          | 0.15000000000000002 |\n",
      "|           1.0            |         0.0          |         0.2         |\n",
      "|           1.0            |         0.0          |         0.25        |\n",
      "|           1.0            |         0.0          | 0.30000000000000004 |\n",
      "|           1.0            |         0.0          | 0.35000000000000003 |\n",
      "|           1.0            |         0.0          |         0.4         |\n",
      "|           1.0            |         0.0          |         0.45        |\n",
      "|           1.0            |         0.0          |         0.5         |\n",
      "|    0.9996629137733433    | 0.001511144692104227 |         0.55        |\n",
      "|    0.9981797343760533    | 0.004155647903286708 |  0.6000000000000001 |\n",
      "|    0.9927863547495449    | 0.013600302228938377 |         0.65        |\n",
      "|    0.9759994606620374    | 0.05024556101246691  |  0.7000000000000001 |\n",
      "|    0.9244926852288815    | 0.13146958821307142  |         0.75        |\n",
      "|    0.8060405851816895    |  0.2992066490366453  |         0.8         |\n",
      "|    0.5956313625025281    |  0.5394786550812241  |  0.8500000000000001 |\n",
      "|    0.3402548371873525    |  0.7714393653192293  |         0.9         |\n",
      "|   0.11326097215667767    |  0.9486210804684548  |  0.9500000000000001 |\n",
      "+--------------------------+----------------------+---------------------+\n"
     ]
    }
   ],
   "source": [
    "# Deciding appropriate threshold with cross validation dataset\n",
    "evaluate_threshold(K=41,x_train = final_x_train,y_train=y_train.values,x_cv=final_x_cv,y_cv=y_cv.values)\n"
   ]
  },
  {
   "cell_type": "code",
   "execution_count": 0,
   "metadata": {
    "colab": {
     "base_uri": "https://localhost:8080/",
     "height": 414
    },
    "colab_type": "code",
    "id": "anDlMJzJ13pm",
    "outputId": "a38c8cb6-f0f1-43e1-ea78-21e49802d9dc"
   },
   "outputs": [
    {
     "data": {
      "image/png": "[encoded data removed]",
      "text/plain": [
       "<Figure size 432x288 with 1 Axes>"
      ]
     },
     "metadata": {
      "tags": []
     },
     "output_type": "display_data"
    },
    {
     "name": "stdout",
     "output_type": "stream",
     "text": [
      "====================================================================================================\n",
      "Train confusion matrix\n",
      "[[ 6863  3724]\n",
      " [22648 36681]]\n",
      "Test confusion matrix\n",
      "[[ 1810  1498]\n",
      " [ 7430 11111]]\n"
     ]
    }
   ],
   "source": [
    "# Testing the data on Test data to check generalization of this Model\n",
    "\n",
    "tfidf_k = 41\n",
    "tfidf_train_auc,tfidf_test_auc = model_gen_score(x_train = final_x_train,\\\n",
    "                                                 y_train=y_train.values,x_test=final_x_test,y_test=y_test.values,best_k=tfidf_k,cutoff_val=0.85)\n",
    "                                                 "
   ]
  },
  {
   "cell_type": "markdown",
   "metadata": {
    "colab_type": "text",
    "id": "oq3NW2CbCyp3"
   },
   "source": [
    "### 2.4.3 Applying KNN brute force on AVG W2V,<font color='red'> SET 3</font>"
   ]
  },
  {
   "cell_type": "code",
   "execution_count": 0,
   "metadata": {
    "colab": {},
    "colab_type": "code",
    "id": "jRug28P9Cyp3"
   },
   "outputs": [],
   "source": [
    "\n",
    "# Using the pretrained word2vec glove model "
   ]
  },
  {
   "cell_type": "code",
   "execution_count": 67,
   "metadata": {
    "colab": {
     "base_uri": "https://localhost:8080/",
     "height": 323
    },
    "colab_type": "code",
    "id": "kvl9DW7-yfxg",
    "outputId": "ff604b56-24ef-4d25-cdd6-f28d69a9c56a"
   },
   "outputs": [
    {
     "name": "stderr",
     "output_type": "stream",
     "text": [
      "100%|██████████| 69916/69916 [00:01<00:00, 63291.34it/s]\n"
     ]
    },
    {
     "name": "stdout",
     "output_type": "stream",
     "text": [
      "69916\n",
      "300\n"
     ]
    },
    {
     "name": "stderr",
     "output_type": "stream",
     "text": [
      "100%|██████████| 17480/17480 [00:00<00:00, 56109.16it/s]\n",
      "  0%|          | 0/21849 [00:00<?, ?it/s]"
     ]
    },
    {
     "name": "stdout",
     "output_type": "stream",
     "text": [
      "17480\n",
      "300\n"
     ]
    },
    {
     "name": "stderr",
     "output_type": "stream",
     "text": [
      "100%|██████████| 21849/21849 [00:00<00:00, 60140.09it/s]\n",
      "  0%|          | 296/69916 [00:00<00:23, 2953.34it/s]"
     ]
    },
    {
     "name": "stdout",
     "output_type": "stream",
     "text": [
      "21849\n",
      "300\n"
     ]
    },
    {
     "name": "stderr",
     "output_type": "stream",
     "text": [
      "100%|██████████| 69916/69916 [00:21<00:00, 3316.40it/s]\n"
     ]
    },
    {
     "name": "stdout",
     "output_type": "stream",
     "text": [
      "69916\n",
      "300\n"
     ]
    },
    {
     "name": "stderr",
     "output_type": "stream",
     "text": [
      "100%|██████████| 17480/17480 [00:05<00:00, 3299.86it/s]\n",
      "  3%|▎         | 648/21849 [00:00<00:06, 3260.58it/s]"
     ]
    },
    {
     "name": "stdout",
     "output_type": "stream",
     "text": [
      "17480\n",
      "300\n"
     ]
    },
    {
     "name": "stderr",
     "output_type": "stream",
     "text": [
      "100%|██████████| 21849/21849 [00:06<00:00, 3256.46it/s]\n"
     ]
    },
    {
     "name": "stdout",
     "output_type": "stream",
     "text": [
      "21849\n",
      "300\n"
     ]
    }
   ],
   "source": [
    "\n",
    "avgw2v_title_train,avgw2v_title_cv,avgw2v_title_test = vectorize_text(encoding_type='AVGW2V',train_text = x_train['title'],\\\n",
    "                                                             cv_text =x_cv['title'] , test_text =x_test['title'] )\n",
    "avgw2v_essay_train,avgw2v_essay_cv,avgw2v_essay_test = vectorize_text(encoding_type='AVGW2V',train_text = x_train['essay'],\\\n",
    "                                                             cv_text =x_cv['essay'] , test_text =x_test['essay'] )\n"
   ]
  },
  {
   "cell_type": "code",
   "execution_count": 68,
   "metadata": {
    "colab": {
     "base_uri": "https://localhost:8080/",
     "height": 173
    },
    "colab_type": "code",
    "id": "1-UyGkD4-pIQ",
    "outputId": "f19abe51-a0e2-4579-bf04-439bf1e29a45"
   },
   "outputs": [
    {
     "name": "stdout",
     "output_type": "stream",
     "text": [
      "The Values for :  Average W2V dim\n",
      "\n",
      "Row Values are :  [('Training count : ', 69916), ('Cross Validation count : ', 17480), ('Test count : ', 21849), ('Training count : ', 69916), ('Cross Validation count : ', 17480), ('Test count : ', 21849)]\n",
      "\n",
      "Column Values are :  [('Training count : ', 300), ('Cross Validation count : ', 300), ('Test count : ', 300), ('Training count : ', 300), ('Cross Validation count : ', 300), ('Test count : ', 300)]\n",
      "\n",
      "Type of matrices:  [<class 'numpy.ndarray'>, <class 'numpy.ndarray'>, <class 'numpy.ndarray'>, <class 'numpy.ndarray'>, <class 'numpy.ndarray'>, <class 'numpy.ndarray'>]\n",
      "****************************************************************************************************\n"
     ]
    }
   ],
   "source": [
    "print_dimension_info(_obj=[avgw2v_title_train,avgw2v_title_cv,avgw2v_title_test,avgw2v_essay_train,avgw2v_essay_cv,avgw2v_essay_test],_name='Average W2V dim')"
   ]
  },
  {
   "cell_type": "code",
   "execution_count": 69,
   "metadata": {
    "colab": {
     "base_uri": "https://localhost:8080/",
     "height": 153
    },
    "colab_type": "code",
    "id": "qfKwhwT-4TvP",
    "outputId": "b304415c-6492-4ff3-ce62-93bc9585ee94"
   },
   "outputs": [
    {
     "name": "stdout",
     "output_type": "stream",
     "text": [
      "The Values for :  The final matrix of AVGW2V\n",
      "\n",
      "Row Values are :  [('Training count : ', 69916), ('Cross Validation count : ', 17480), ('Test count : ', 21849)]\n",
      "\n",
      "Column Values are :  [('Training count : ', 701), ('Cross Validation count : ', 701), ('Test count : ', 701)]\n",
      "\n",
      "Type of matrices:  [<class 'numpy.matrix'>, <class 'numpy.matrix'>, <class 'numpy.matrix'>]\n",
      "****************************************************************************************************\n"
     ]
    }
   ],
   "source": [
    "# This time we have np.hstack because we are not dealing with the sparse matrices.\n",
    "\n",
    "final_x_train = np.hstack((x_train_vec.todense(),avgw2v_title_train,avgw2v_essay_train))\n",
    "final_x_cv = np.hstack((x_cv_vec.todense(),avgw2v_title_cv,avgw2v_essay_cv))\n",
    "final_x_test = np.hstack((x_test_vec.todense(),avgw2v_title_test,avgw2v_essay_test))\n",
    "print_dimension_info([final_x_train,final_x_cv,final_x_test],_name='The final matrix of AVGW2V')"
   ]
  },
  {
   "cell_type": "code",
   "execution_count": 0,
   "metadata": {
    "colab": {},
    "colab_type": "code",
    "id": "smYTs0MnJOwi"
   },
   "outputs": [],
   "source": [
    "# Working with only 20K data points as mentioned above\n",
    "# So 50k of 100k is approx 50%, hence we will split the data 50% here for train,cv,test as running KNN on  dense matrix with 100K data points taking \n",
    "# hours >6hrs to hypertune\n",
    "\n",
    "# Conserving the distribution while sampling to smaller dataset.\n",
    "# for training set\n",
    "_,final_x_train,_,y_train_50k = train_test_split(final_x_train,y_train,test_size=.5,random_state=31,stratify=y_train)\n",
    "# for cv set\n",
    "_,final_x_cv,_,y_cv_50k = train_test_split(final_x_cv,y_cv,test_size=.5,random_state=31,stratify=y_cv)\n",
    "# for test set\n",
    "_,final_x_test,_,y_test_50k = train_test_split(final_x_test,y_test,test_size=.5,random_state=31,stratify=y_test)"
   ]
  },
  {
   "cell_type": "code",
   "execution_count": 64,
   "metadata": {
    "colab": {
     "base_uri": "https://localhost:8080/",
     "height": 295
    },
    "colab_type": "code",
    "id": "tvtrbySkAOMh",
    "outputId": "43da18ec-823e-4ca1-b7b7-54382e54257e"
   },
   "outputs": [
    {
     "data": {
      "image/png": "[encoded data removed]",
      "text/plain": [
       "<Figure size 432x288 with 1 Axes>"
      ]
     },
     "metadata": {
      "tags": []
     },
     "output_type": "display_data"
    }
   ],
   "source": [
    "_hypertuning(x_train = final_x_train,y_train=y_train_50k.values,x_cv=final_x_cv,y_cv=y_cv_50k.values,tune_type='custom')\n"
   ]
  },
  {
   "cell_type": "markdown",
   "metadata": {
    "colab_type": "text",
    "id": "4ER09DZuA2dB"
   },
   "source": [
    "We will be chosing the K value to be 41 and slope for train auc and cv auc is almost stagnant. So we are trying to make trade off between training score and cv score. As If we take k > 50 CV score will be high but we will be loosing the training data."
   ]
  },
  {
   "cell_type": "code",
   "execution_count": 71,
   "metadata": {
    "colab": {
     "base_uri": "https://localhost:8080/",
     "height": 425
    },
    "colab_type": "code",
    "id": "TmbIB7Q61BHY",
    "outputId": "ab1d164d-3338-43ae-d775-e2962e95b165"
   },
   "outputs": [
    {
     "name": "stdout",
     "output_type": "stream",
     "text": [
      "+--------------------------+-----------------------+---------------------+\n",
      "| Sensitivity/Recall (TPR) |  Specificity (1-FPR)  |   Threshold Value   |\n",
      "+--------------------------+-----------------------+---------------------+\n",
      "|           1.0            |          0.0          |         0.0         |\n",
      "|           1.0            |          0.0          |         0.05        |\n",
      "|           1.0            |          0.0          |         0.1         |\n",
      "|           1.0            |          0.0          | 0.15000000000000002 |\n",
      "|           1.0            |          0.0          |         0.2         |\n",
      "|           1.0            |          0.0          |         0.25        |\n",
      "|           1.0            |          0.0          | 0.30000000000000004 |\n",
      "|           1.0            |          0.0          | 0.35000000000000003 |\n",
      "|           1.0            |          0.0          |         0.4         |\n",
      "|           1.0            |          0.0          |         0.45        |\n",
      "|           1.0            |          0.0          |         0.5         |\n",
      "|           1.0            |          0.0          |         0.55        |\n",
      "|    0.9987864077669902    | 0.0030211480362537513 |  0.6000000000000001 |\n",
      "|    0.991235167206041     |  0.010574018126888185 |         0.65        |\n",
      "|    0.9741100323624595    |   0.047583081570997   |  0.7000000000000001 |\n",
      "|    0.9235436893203883    |  0.13670694864048338  |         0.75        |\n",
      "|    0.819848975188781     |  0.30060422960725075  |         0.8         |\n",
      "|    0.642259978425027     |   0.5188821752265861  |  0.8500000000000001 |\n",
      "|    0.3832254584681769    |   0.7575528700906344  |         0.9         |\n",
      "|    0.1285059331175836    |   0.9244712990936556  |  0.9500000000000001 |\n",
      "+--------------------------+-----------------------+---------------------+\n"
     ]
    }
   ],
   "source": [
    "# Deciding appropriate threshold with cross validation dataset\n",
    "evaluate_threshold(K=41,x_train = final_x_train,y_train=y_train_50k.values,x_cv=final_x_cv,y_cv=y_cv_50k.values)\n"
   ]
  },
  {
   "cell_type": "code",
   "execution_count": 72,
   "metadata": {
    "colab": {
     "base_uri": "https://localhost:8080/",
     "height": 414
    },
    "colab_type": "code",
    "id": "04hnv1VFBp8d",
    "outputId": "cf638fce-6989-4efc-b528-30a39708938f"
   },
   "outputs": [
    {
     "data": {
      "image/png": "[encoded data removed]",
      "text/plain": [
       "<Figure size 432x288 with 1 Axes>"
      ]
     },
     "metadata": {
      "tags": []
     },
     "output_type": "display_data"
    },
    {
     "name": "stdout",
     "output_type": "stream",
     "text": [
      "====================================================================================================\n",
      "Train confusion matrix\n",
      "[[ 3295  1999]\n",
      " [10280 19384]]\n",
      "Test confusion matrix\n",
      "[[ 896  758]\n",
      " [3321 5950]]\n"
     ]
    }
   ],
   "source": [
    "\n",
    "avgw2v_k = 41\n",
    "avgw2v_train_auc,avgw2v_test_auc = model_gen_score(x_train = final_x_train,y_train=y_train_50k.values,\\\n",
    "                                                   x_test=final_x_test,y_test=y_test_50k.values,best_k=avgw2v_k,cutoff_val=0.85)\n",
    "                                                   "
   ]
  },
  {
   "cell_type": "markdown",
   "metadata": {
    "colab_type": "text",
    "id": "TJLjbsNYCyp5"
   },
   "source": [
    "### 2.4.4 Applying KNN brute force on TFIDF W2V,<font color='red'> SET 4</font>"
   ]
  },
  {
   "cell_type": "code",
   "execution_count": 0,
   "metadata": {
    "colab": {},
    "colab_type": "code",
    "id": "b-sFaOjWCyp6"
   },
   "outputs": [],
   "source": [
    "# Please write all the code with proper documentation"
   ]
  },
  {
   "cell_type": "code",
   "execution_count": 0,
   "metadata": {
    "colab": {},
    "colab_type": "code",
    "id": "KN52x5uRXpdC"
   },
   "outputs": [],
   "source": [
    "\n",
    "tfidfw2v_title_train,tfidfw2v_title_cv,tfidfw2v_title_test = vectorize_text(encoding_type='TFIDFW2V',train_text = x_train['title'],\\\n",
    "                                                             cv_text =x_cv['title'] , test_text =x_test['title'] )\n",
    "tfidfw2v_essay_train,tfidfw2v_essay_cv,tfidfw2v_essay_test = vectorize_text(encoding_type='TFIDFW2V',train_text = x_train['essay'],\\\n",
    "                                                             cv_text =x_cv['essay'] , test_text =x_test['essay'] )"
   ]
  },
  {
   "cell_type": "code",
   "execution_count": 62,
   "metadata": {
    "colab": {
     "base_uri": "https://localhost:8080/",
     "height": 173
    },
    "colab_type": "code",
    "id": "Mb7v5AWLXpiY",
    "outputId": "a2f93647-27de-4a40-a0a3-f2030e9f0410"
   },
   "outputs": [
    {
     "name": "stdout",
     "output_type": "stream",
     "text": [
      "The Values for :  TFIDF W2V Dimensions\n",
      "\n",
      "Row Values are :  [('Training count : ', 69916), ('Cross Validation count : ', 17480), ('Test count : ', 21849), ('Training count : ', 69916), ('Cross Validation count : ', 17480), ('Test count : ', 21849)]\n",
      "\n",
      "Column Values are :  [('Training count : ', 2456), ('Cross Validation count : ', 2456), ('Test count : ', 2456), ('Training count : ', 3000), ('Cross Validation count : ', 3000), ('Test count : ', 3000)]\n",
      "\n",
      "Type of matrices:  [<class 'scipy.sparse.csr.csr_matrix'>, <class 'scipy.sparse.csr.csr_matrix'>, <class 'scipy.sparse.csr.csr_matrix'>, <class 'scipy.sparse.csr.csr_matrix'>, <class 'scipy.sparse.csr.csr_matrix'>, <class 'scipy.sparse.csr.csr_matrix'>]\n",
      "****************************************************************************************************\n"
     ]
    }
   ],
   "source": [
    "print_dimension_info(_obj=[tfidfw2v_title_train,tfidfw2v_title_cv,tfidfw2v_title_test,tfidfw2v_essay_train,tfidfw2v_essay_cv,tfidfw2v_essay_test],\\\n",
    "                    _name='TFIDF W2V Dimensions')"
   ]
  },
  {
   "cell_type": "code",
   "execution_count": 73,
   "metadata": {
    "colab": {
     "base_uri": "https://localhost:8080/",
     "height": 153
    },
    "colab_type": "code",
    "id": "xn5CRQAkXpoU",
    "outputId": "0a4554ec-45a1-4267-95a7-d2abaaeba430"
   },
   "outputs": [
    {
     "name": "stdout",
     "output_type": "stream",
     "text": [
      "The Values for :  TFIDF W2V final data matrix dimension :\n",
      "\n",
      "Row Values are :  [('Training count : ', 69916), ('Cross Validation count : ', 17480), ('Test count : ', 21849)]\n",
      "\n",
      "Column Values are :  [('Training count : ', 5557), ('Cross Validation count : ', 5557), ('Test count : ', 5557)]\n",
      "\n",
      "Type of matrices:  [<class 'scipy.sparse.csr.csr_matrix'>, <class 'scipy.sparse.csr.csr_matrix'>, <class 'scipy.sparse.csr.csr_matrix'>]\n",
      "****************************************************************************************************\n"
     ]
    }
   ],
   "source": [
    "\n",
    "\n",
    "final_x_train = hstack((x_train_vec,tfidfw2v_title_train,tfidfw2v_essay_train),format='csr')\n",
    "final_x_cv = hstack((x_cv_vec,tfidfw2v_title_cv,tfidfw2v_essay_cv),format='csr')\n",
    "final_x_test = hstack((x_test_vec,tfidfw2v_title_test,tfidfw2v_essay_test),format='csr')\n",
    "print_dimension_info([final_x_train,final_x_cv,final_x_test],_name='TFIDF W2V final data matrix dimension :')"
   ]
  },
  {
   "cell_type": "code",
   "execution_count": 0,
   "metadata": {
    "colab": {},
    "colab_type": "code",
    "id": "zkv2LtupKLLS"
   },
   "outputs": [],
   "source": [
    "# Working with only 50K data points as running KNN on  dense matrix with 100K data points taking \n",
    "# hours >6hrs to hypertune\n",
    "# So 50k of 100k is approx 50%, hence we will split the data 50% here for train,cv,test \n",
    "\n",
    "# Conserving the distribution while doing stratify sampling to smaller dataset.\n",
    "# for training set\n",
    "_,final_x_train,_,y_train_50k = train_test_split(final_x_train,y_train,test_size=.5,random_state=31,stratify=y_train)\n",
    "# for cv set\n",
    "_,final_x_cv,_,y_cv_50k = train_test_split(final_x_cv,y_cv,test_size=.5,random_state=31,stratify=y_cv)\n",
    "# for test set\n",
    "_,final_x_test,_,y_test_50k = train_test_split(final_x_test,y_test,test_size=.5,random_state=31,stratify=y_test)"
   ]
  },
  {
   "cell_type": "code",
   "execution_count": 65,
   "metadata": {
    "colab": {
     "base_uri": "https://localhost:8080/",
     "height": 295
    },
    "colab_type": "code",
    "id": "tW102D9UZfO8",
    "outputId": "36998819-8e03-4630-e882-41638350440a"
   },
   "outputs": [
    {
     "data": {
      "image/png": "[encoded data removed]",
      "text/plain": [
       "<Figure size 432x288 with 1 Axes>"
      ]
     },
     "metadata": {
      "tags": []
     },
     "output_type": "display_data"
    }
   ],
   "source": [
    "_hypertuning(x_train = final_x_train,y_train=y_train_50k.values,x_cv=final_x_cv,y_cv=y_cv_50k.values,tune_type='custom')\n"
   ]
  },
  {
   "cell_type": "markdown",
   "metadata": {
    "colab_type": "text",
    "id": "5Nvyxvl2A2dS"
   },
   "source": [
    "We will be chosing the K value to be 41 and slope for train auc and cv auc is almost stagnant. So we are trying to make trade off between training score and cv score. As If we take k > 50 CV score will be high but we will be loosing the training data. Although It has got the mininmum score till now"
   ]
  },
  {
   "cell_type": "code",
   "execution_count": 75,
   "metadata": {
    "colab": {
     "base_uri": "https://localhost:8080/",
     "height": 425
    },
    "colab_type": "code",
    "id": "fg9NF9sqGMGU",
    "outputId": "80d76661-0230-40ae-b058-edb779464457"
   },
   "outputs": [
    {
     "name": "stdout",
     "output_type": "stream",
     "text": [
      "+--------------------------+-----------------------+---------------------+\n",
      "| Sensitivity/Recall (TPR) |  Specificity (1-FPR)  |   Threshold Value   |\n",
      "+--------------------------+-----------------------+---------------------+\n",
      "|           1.0            |          0.0          |         0.0         |\n",
      "|           1.0            |          0.0          |         0.05        |\n",
      "|           1.0            |          0.0          |         0.1         |\n",
      "|           1.0            |          0.0          | 0.15000000000000002 |\n",
      "|           1.0            |          0.0          |         0.2         |\n",
      "|           1.0            |          0.0          |         0.25        |\n",
      "|           1.0            |          0.0          | 0.30000000000000004 |\n",
      "|           1.0            |          0.0          | 0.35000000000000003 |\n",
      "|           1.0            |          0.0          |         0.4         |\n",
      "|           1.0            |          0.0          |         0.45        |\n",
      "|           1.0            |          0.0          |         0.5         |\n",
      "|    0.999730312837109     |          0.0          |         0.55        |\n",
      "|    0.9985167206040992    | 0.0022658610271902857 |  0.6000000000000001 |\n",
      "|    0.9954153182308522    |  0.009063444108761365 |         0.65        |\n",
      "|    0.9836839266450917    |  0.02945619335347427  |  0.7000000000000001 |\n",
      "|    0.9153182308522114    |  0.15105740181268879  |         0.75        |\n",
      "|    0.8059600862998921    |  0.29456193353474325  |         0.8         |\n",
      "|    0.6115156418554477    |   0.5264350453172205  |  0.8500000000000001 |\n",
      "|   0.24325782092772383    |   0.851963746223565   |         0.9         |\n",
      "|   0.06620819848975189    |   0.959214501510574   |  0.9500000000000001 |\n",
      "+--------------------------+-----------------------+---------------------+\n"
     ]
    }
   ],
   "source": [
    "# Deciding appropriate threshold with cross validation dataset\n",
    "evaluate_threshold(K=47,x_train = final_x_train,y_train=y_train_50k.values,x_cv=final_x_cv,y_cv=y_cv_50k.values)\n"
   ]
  },
  {
   "cell_type": "code",
   "execution_count": 76,
   "metadata": {
    "colab": {
     "base_uri": "https://localhost:8080/",
     "height": 414
    },
    "colab_type": "code",
    "id": "DsMW9Nq_bim4",
    "outputId": "104e85d7-36fc-417d-e66e-47064766895c"
   },
   "outputs": [
    {
     "data": {
      "image/png": "[encoded data removed]",
      "text/plain": [
       "<Figure size 432x288 with 1 Axes>"
      ]
     },
     "metadata": {
      "tags": []
     },
     "output_type": "display_data"
    },
    {
     "name": "stdout",
     "output_type": "stream",
     "text": [
      "====================================================================================================\n",
      "Train confusion matrix\n",
      "[[ 3233  2061]\n",
      " [10820 18844]]\n",
      "Test confusion matrix\n",
      "[[ 872  782]\n",
      " [3504 5767]]\n"
     ]
    }
   ],
   "source": [
    "\n",
    "tfidfw2v_k = 47\n",
    "tfidfw2v_train_auc,tfidfw2v_test_auc = model_gen_score(x_train = final_x_train,y_train=y_train_50k.values,x_test=final_x_test,\\\n",
    "                                                       y_test=y_test_50k.values,best_k=tfidfw2v_k,cutoff_val=0.85)\n",
    "\n"
   ]
  },
  {
   "cell_type": "markdown",
   "metadata": {
    "colab_type": "text",
    "id": "G60n-gK8Cyp7"
   },
   "source": [
    "<h2>2.5 Feature selection with `SelectKBest` </h2>"
   ]
  },
  {
   "cell_type": "code",
   "execution_count": 0,
   "metadata": {
    "colab": {},
    "colab_type": "code",
    "id": "VThRCDvZCyp9"
   },
   "outputs": [],
   "source": [
    "# please write all the code with proper documentation, and proper titles for each subsection\n",
    "# go through documentations and blogs before you start coding\n",
    "# first figure out what to do, and then think about how to do.\n",
    "# reading and understanding error messages will be very much helpfull in debugging your code\n",
    "\n",
    "# when you plot any graph make sure you use \n",
    "    # a. Title, that describes your plot, this will be very helpful to the reader\n",
    "    # b. Legends if needed\n",
    "    # c. X-axis label\n",
    "    # d. Y-axis label"
   ]
  },
  {
   "cell_type": "code",
   "execution_count": 0,
   "metadata": {
    "colab": {},
    "colab_type": "code",
    "id": "mz2dmpiK0pX-"
   },
   "outputs": [],
   "source": [
    "# https://stackoverflow.com/questions/26414913/normalize-columns-of-pandas-data-frame\n",
    "# Normalisation is required as chi2 statistics doesn't work on negative values\n",
    "\n",
    "from sklearn.preprocessing import MinMaxScaler\n",
    "norm_price = MinMaxScaler().fit(x_train['price'].values.reshape(-1,1))\n",
    "norm_teacher = MinMaxScaler().fit(x_train['teacher_number_of_previously_posted_projects'].values.reshape(-1,1))\n"
   ]
  },
  {
   "cell_type": "code",
   "execution_count": 0,
   "metadata": {
    "colab": {},
    "colab_type": "code",
    "id": "WuN1RbEI-M4L"
   },
   "outputs": [],
   "source": [
    "norm_teacher_train = norm_teacher.transform(x_train['teacher_number_of_previously_posted_projects'].values.reshape(-1,1))\n",
    "norm_price_train = norm_price.transform(x_train['price'].values.reshape(-1,1))"
   ]
  },
  {
   "cell_type": "code",
   "execution_count": 79,
   "metadata": {
    "colab": {
     "base_uri": "https://localhost:8080/",
     "height": 51
    },
    "colab_type": "code",
    "id": "C9vGMhHw0pVA",
    "outputId": "d0867e7a-75f6-4b33-b1d8-56f04e1c95f2"
   },
   "outputs": [
    {
     "name": "stdout",
     "output_type": "stream",
     "text": [
      "(69916, 1)\n",
      "(69916, 1)\n"
     ]
    }
   ],
   "source": [
    "print(norm_teacher_train.shape)\n",
    "print(norm_price_train.shape)"
   ]
  },
  {
   "cell_type": "code",
   "execution_count": 83,
   "metadata": {
    "colab": {
     "base_uri": "https://localhost:8080/",
     "height": 34
    },
    "colab_type": "code",
    "id": "Q-BJoHqB7nH9",
    "outputId": "8df1861a-b57f-4f00-d96b-6c70a2a6c7df"
   },
   "outputs": [
    {
     "data": {
      "text/plain": [
       "numpy.ndarray"
      ]
     },
     "execution_count": 83,
     "metadata": {
      "tags": []
     },
     "output_type": "execute_result"
    }
   ],
   "source": [
    "type(norm_teacher_train)"
   ]
  },
  {
   "cell_type": "code",
   "execution_count": 84,
   "metadata": {
    "colab": {
     "base_uri": "https://localhost:8080/",
     "height": 153
    },
    "colab_type": "code",
    "id": "j3lKyVjy7Orz",
    "outputId": "18c28121-beb7-483d-93c7-d6c17b5c440b"
   },
   "outputs": [
    {
     "name": "stdout",
     "output_type": "stream",
     "text": [
      "The Values for :  The final dimension of TFIDF matrix for features selection\n",
      "\n",
      "Row Values are :  [('Training count : ', 69916), ('Cross Validation count : ', 17480), ('Test count : ', 21849)]\n",
      "\n",
      "Column Values are :  [('Training count : ', 5557), ('Cross Validation count : ', 5557), ('Test count : ', 5557)]\n",
      "\n",
      "Type of matrices:  [<class 'scipy.sparse.csr.csr_matrix'>, <class 'scipy.sparse.csr.csr_matrix'>, <class 'scipy.sparse.csr.csr_matrix'>]\n",
      "****************************************************************************************************\n"
     ]
    }
   ],
   "source": [
    "final_x_train = hstack((x_train_vec[:,:-2],norm_price_train,norm_teacher_train,tfidf_title_train,tfidf_essay_train),format='csr')\n",
    "final_x_cv = hstack((x_cv_vec,tfidf_title_cv,tfidf_essay_cv),format='csr')\n",
    "final_x_test = hstack((x_test_vec,tfidf_title_test,tfidf_essay_test),format='csr')\n",
    "print_dimension_info([final_x_train,final_x_cv,final_x_test],_name='The final dimension of TFIDF matrix for features selection')"
   ]
  },
  {
   "cell_type": "code",
   "execution_count": 85,
   "metadata": {
    "colab": {
     "base_uri": "https://localhost:8080/",
     "height": 34
    },
    "colab_type": "code",
    "id": "Raa827xwzJQr",
    "outputId": "54d33c44-f96c-4c0c-88a9-99c9caeb5bd7"
   },
   "outputs": [
    {
     "data": {
      "text/plain": [
       "(69916, 2000)"
      ]
     },
     "execution_count": 85,
     "metadata": {
      "tags": []
     },
     "output_type": "execute_result"
    }
   ],
   "source": [
    "#https://scikit-learn.org/stable/modules/generated/sklearn.feature_selection.SelectKBest.html\n",
    "from sklearn.feature_selection import SelectKBest, chi2\n",
    "\n",
    "chi_selector = SelectKBest(chi2, k=2000).fit(final_x_train, y_train)\n",
    "x_train_new = chi_selector.transform(final_x_train)\n",
    "x_train_new.shape"
   ]
  },
  {
   "cell_type": "code",
   "execution_count": 86,
   "metadata": {
    "colab": {
     "base_uri": "https://localhost:8080/",
     "height": 34
    },
    "colab_type": "code",
    "id": "lWFNqe0Q_1KI",
    "outputId": "95c11f56-30c6-4241-e02e-9c64562d2ade"
   },
   "outputs": [
    {
     "data": {
      "text/plain": [
       "(17480, 2000)"
      ]
     },
     "execution_count": 86,
     "metadata": {
      "tags": []
     },
     "output_type": "execute_result"
    }
   ],
   "source": [
    "x_cv_new = chi_selector.transform(final_x_cv)\n",
    "x_cv_new.shape"
   ]
  },
  {
   "cell_type": "code",
   "execution_count": 87,
   "metadata": {
    "colab": {
     "base_uri": "https://localhost:8080/",
     "height": 295
    },
    "colab_type": "code",
    "id": "k6eovRjKzJuC",
    "outputId": "22ce53ba-5ce1-47b0-c4b0-39917d382547"
   },
   "outputs": [
    {
     "data": {
      "image/png": "[encoded data removed]",
      "text/plain": [
       "<Figure size 432x288 with 1 Axes>"
      ]
     },
     "metadata": {
      "tags": []
     },
     "output_type": "display_data"
    }
   ],
   "source": [
    "_hypertuning(x_train = x_train_new,y_train=y_train.values,x_cv=chi_selector.transform(final_x_cv),y_cv=y_cv.values,tune_type='custom')\n",
    "\n"
   ]
  },
  {
   "cell_type": "code",
   "execution_count": 91,
   "metadata": {
    "colab": {
     "base_uri": "https://localhost:8080/",
     "height": 425
    },
    "colab_type": "code",
    "id": "nVY04bfTzE-l",
    "outputId": "678b40e3-cc16-4592-a6ea-25271dc2a2c6"
   },
   "outputs": [
    {
     "name": "stdout",
     "output_type": "stream",
     "text": [
      "+--------------------------+-----------------------+---------------------+\n",
      "| Sensitivity/Recall (TPR) |  Specificity (1-FPR)  |   Threshold Value   |\n",
      "+--------------------------+-----------------------+---------------------+\n",
      "|           1.0            |          0.0          |         0.0         |\n",
      "|           1.0            |          0.0          |         0.05        |\n",
      "|           1.0            |          0.0          |         0.1         |\n",
      "|           1.0            |          0.0          | 0.15000000000000002 |\n",
      "|           1.0            |          0.0          |         0.2         |\n",
      "|           1.0            |          0.0          |         0.25        |\n",
      "|           1.0            |          0.0          | 0.30000000000000004 |\n",
      "|           1.0            |          0.0          | 0.35000000000000003 |\n",
      "|           1.0            |          0.0          |         0.4         |\n",
      "|           1.0            |          0.0          |         0.45        |\n",
      "|           1.0            |          0.0          |         0.5         |\n",
      "|    0.9995954965280118    |  0.000755572346052169 |         0.55        |\n",
      "|    0.9985842378480415    | 0.0018889308651303116 |  0.6000000000000001 |\n",
      "|    0.9931908582215331    |  0.011711371363808065 |         0.65        |\n",
      "|    0.9721566776781501    |  0.04042312051378916  |  0.7000000000000001 |\n",
      "|    0.9014359873255579    |   0.140536456365697   |         0.75        |\n",
      "|    0.7486010921593743    |  0.33509633547412165  |         0.8         |\n",
      "|    0.4931571495988674    |   0.6086135247449944  |  0.8500000000000001 |\n",
      "|   0.21964538528955707    |   0.8530411786928598  |         0.9         |\n",
      "|   0.04489988539068294    |   0.9811106913486967  |  0.9500000000000001 |\n",
      "+--------------------------+-----------------------+---------------------+\n"
     ]
    }
   ],
   "source": [
    "# Deciding appropriate threshold with cross validation dataset\n",
    "evaluate_threshold(K=40,x_train = final_x_train,y_train=y_train.values,x_cv=final_x_cv,y_cv=y_cv.values)\n"
   ]
  },
  {
   "cell_type": "markdown",
   "metadata": {
    "colab_type": "text",
    "id": "lH-iXKjMA2dm"
   },
   "source": [
    "We will be chosing the K value to be 41 and slope for train auc and cv auc is almost stagnant. So we are trying to make trade off between training score and cv score. As If we take k > 50 CV score will be high but we will be loosing the training data.There is no impact on reducing the features to 2000."
   ]
  },
  {
   "cell_type": "code",
   "execution_count": 92,
   "metadata": {
    "colab": {
     "base_uri": "https://localhost:8080/",
     "height": 414
    },
    "colab_type": "code",
    "id": "qWpk2B3O7dQ7",
    "outputId": "aae16966-cb62-4f7a-cc74-81f81f8d7c99"
   },
   "outputs": [
    {
     "data": {
      "image/png": "[encoded data removed]",
      "text/plain": [
       "<Figure size 432x288 with 1 Axes>"
      ]
     },
     "metadata": {
      "tags": []
     },
     "output_type": "display_data"
    },
    {
     "name": "stdout",
     "output_type": "stream",
     "text": [
      "====================================================================================================\n",
      "Train confusion matrix\n",
      "[[ 5116  5471]\n",
      " [16905 42424]]\n",
      "Test confusion matrix\n",
      "[[ 1263  2045]\n",
      " [ 5521 13020]]\n"
     ]
    }
   ],
   "source": [
    "\n",
    "kf_k = 40\n",
    "kfeature_tfidf_train,kfeature_tfidf_test = model_gen_score(x_train = x_train_new,y_train=y_train.values,x_test=chi_selector.transform(final_x_test),y_test=y_test.values,best_k=kf_k,cutoff_val=0.81)\n"
   ]
  },
  {
   "cell_type": "code",
   "execution_count": 0,
   "metadata": {
    "colab": {},
    "colab_type": "code",
    "id": "I9HVu06H4a-v"
   },
   "outputs": [],
   "source": [
    "# Assigning the AUC score to variables as the models has been run on different runtime of colab. To avoid re-training \n",
    "# we are just assigning values so that we don't have to train again and again.\n",
    "\n",
    "bow_test_auc = 62.831\n",
    "tfidf_test_auc = 60.011\n",
    "avgw2v_test_auc = 62.131\n",
    "tfidfw2v_test_auc = 60.67\n",
    "kfeature_tfidf_test = 56.69"
   ]
  },
  {
   "cell_type": "markdown",
   "metadata": {
    "colab_type": "text",
    "id": "bemispVtCyp-"
   },
   "source": [
    "<h1>3. Conclusions</h1>"
   ]
  },
  {
   "cell_type": "code",
   "execution_count": 97,
   "metadata": {
    "colab": {
     "base_uri": "https://localhost:8080/",
     "height": 170
    },
    "colab_type": "code",
    "id": "zRO-VPG2Cyp_",
    "outputId": "0554b768-4aee-41a4-bcc8-6fc8a9bedcc4"
   },
   "outputs": [
    {
     "name": "stdout",
     "output_type": "stream",
     "text": [
      "+---------------------+-------+-----------------+---------------+\n",
      "|      Vectorizer     | Model | Hyperparameters | TEST AUC in % |\n",
      "+---------------------+-------+-----------------+---------------+\n",
      "|         BOW         | BRUTE |        35       |     62.831    |\n",
      "|        TFIDF        | BRUTE |        41       |     60.011    |\n",
      "|        AVGW2V       | BRUTE |        47       |     62.131    |\n",
      "|       TFIDFW2V      | BRUTE |        47       |     60.67     |\n",
      "| TFIDF 2000 features | BRUTE |        40       |     56.69     |\n",
      "+---------------------+-------+-----------------+---------------+\n"
     ]
    }
   ],
   "source": [
    "# Please compare all your models using Prettytable library\n",
    "# http://zetcode.com/python/prettytable/\n",
    "\n",
    "from prettytable import PrettyTable\n",
    "    \n",
    "x = PrettyTable()\n",
    "\n",
    "x.field_names = ['Vectorizer','Model','Hyperparameters','TEST AUC in %']\n",
    "\n",
    "x.add_row(['BOW','BRUTE',bow_k,bow_test_auc])\n",
    "x.add_row(['TFIDF','BRUTE',tfidf_k,tfidf_test_auc])\n",
    "x.add_row(['AVGW2V','BRUTE',avgw2v_k,avgw2v_test_auc])\n",
    "x.add_row(['TFIDFW2V','BRUTE',tfidfw2v_k,tfidfw2v_test_auc])\n",
    "x.add_row(['TFIDF 2000 features','BRUTE',kf_k,kfeature_tfidf_test])\n",
    "\n",
    "print(x)\n"
   ]
  },
  {
   "cell_type": "markdown",
   "metadata": {
    "colab_type": "text",
    "id": "X8XxPeMM5cGw"
   },
   "source": [
    "* The BOW model and AWG W2V model has similar performance. </br>\n",
    "* All the KNN models are slighly overfitting i.e. not generalizing well enough even after bias variance trade-off. </br>\n",
    "* The less featured model i.e. feature selected with chi square test has very less performance and also it's not generalizing well on test data. </br>\n",
    "* The BOW model has got the highest score followed by Average word2vec model. TFIDF has got the least score amongst all. We have limited maximum features to 3000 for text data and The minimum document frequency is 10 for text data vectorization. i.e. only those words will be counted which has appeared atleast 10 times."
   ]
  }
 ],
 "metadata": {
  "colab": {
   "collapsed_sections": [],
   "name": "3_DonorsChoose_KNN_v0.1.ipynb",
   "provenance": []
  },
  "kernelspec": {
   "display_name": "Python 3",
   "language": "python",
   "name": "python3"
  },
  "language_info": {
   "codemirror_mode": {
    "name": "ipython",
    "version": 3
   },
   "file_extension": ".py",
   "mimetype": "text/x-python",
   "name": "python",
   "nbconvert_exporter": "python",
   "pygments_lexer": "ipython3",
   "version": "3.8.3"
  }
 },
 "nbformat": 4,
 "nbformat_minor": 1
}
